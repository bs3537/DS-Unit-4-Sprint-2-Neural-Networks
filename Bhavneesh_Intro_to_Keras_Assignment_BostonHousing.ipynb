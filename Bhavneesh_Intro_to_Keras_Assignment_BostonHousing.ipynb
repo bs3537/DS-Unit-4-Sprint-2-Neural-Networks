{
  "nbformat": 4,
  "nbformat_minor": 0,
  "metadata": {
    "colab": {
      "name": "Bhavneesh_Intro to_Keras_Assignment_BostonHousing.ipynb",
      "provenance": [],
      "collapsed_sections": [],
      "machine_shape": "hm",
      "include_colab_link": true
    },
    "kernelspec": {
      "name": "python3",
      "display_name": "Python 3"
    },
    "language_info": {
      "codemirror_mode": {
        "name": "ipython",
        "version": 3
      },
      "file_extension": ".py",
      "mimetype": "text/x-python",
      "name": "python",
      "nbconvert_exporter": "python",
      "pygments_lexer": "ipython3",
      "version": "3.7.3"
    },
    "accelerator": "TPU"
  },
  "cells": [
    {
      "cell_type": "markdown",
      "metadata": {
        "id": "view-in-github",
        "colab_type": "text"
      },
      "source": [
        "<a href=\"https://colab.research.google.com/github/bs3537/DS-Unit-4-Sprint-2-Neural-Networks/blob/master/Bhavneesh_Intro_to_Keras_Assignment_BostonHousing.ipynb\" target=\"_parent\"><img src=\"https://colab.research.google.com/assets/colab-badge.svg\" alt=\"Open In Colab\"/></a>"
      ]
    },
    {
      "cell_type": "markdown",
      "metadata": {
        "colab_type": "text",
        "id": "pBQsZEJmubLs"
      },
      "source": [
        "<img align=\"left\" src=\"https://lever-client-logos.s3.amazonaws.com/864372b1-534c-480e-acd5-9711f850815c-1524247202159.png\" width=200>\n",
        "<br></br>\n",
        "\n",
        "# Neural Network Framework (Keras)\n",
        "\n",
        "## *Data Science Unit 4 Sprint 2 Assignment 3*\n",
        "\n",
        "## Use the Keras Library to build a Multi-Layer Perceptron Model on the Boston Housing dataset\n",
        "\n",
        "- The Boston Housing dataset comes with the Keras library so use Keras to import it into your notebook. \n",
        "- Normalize the data (all features should have roughly the same scale)\n",
        "- Import the type of model and layers that you will need from Keras.\n",
        "- Instantiate a model object and use `model.add()` to add layers to your model\n",
        "- Since this is a regression model you will have a single output node in the final layer.\n",
        "- Use activation functions that are appropriate for this task\n",
        "- Compile your model\n",
        "- Fit your model and report its accuracy in terms of Mean Squared Error\n",
        "- Use the history object that is returned from model.fit to make graphs of the model's loss or train/validation accuracies by epoch. \n",
        "- Run this same data through a linear regression model. Which achieves higher accuracy?\n",
        "- Do a little bit of feature engineering and see how that affects your neural network model. (you will need to change your model to accept more inputs)\n",
        "- After feature engineering, which model sees a greater accuracy boost due to the new features?"
      ]
    },
    {
      "cell_type": "markdown",
      "metadata": {
        "id": "7atJ5Y2IbCP9",
        "colab_type": "text"
      },
      "source": [
        "###Regression on Boston Housing dataset"
      ]
    },
    {
      "cell_type": "code",
      "metadata": {
        "id": "ax1BVM8JbBpx",
        "colab_type": "code",
        "colab": {}
      },
      "source": [
        "import pandas as pd\n",
        "\n",
        "import numpy as np\n",
        "\n",
        "import matplotlib.pyplot as plt\n",
        "\n",
        "\n",
        "df = pd.read_csv('https://raw.githubusercontent.com/bs3537/DS-Unit-4-Sprint-2-Neural-Networks/master/module3-Intro-to-Keras/Boston.csv')"
      ],
      "execution_count": 0,
      "outputs": []
    },
    {
      "cell_type": "code",
      "metadata": {
        "id": "AJ8GW9hPbb7-",
        "colab_type": "code",
        "colab": {
          "base_uri": "https://localhost:8080/",
          "height": 198
        },
        "outputId": "1b699e76-d10b-4dd0-8c82-83bfeab0adc8"
      },
      "source": [
        "df.head()"
      ],
      "execution_count": 2,
      "outputs": [
        {
          "output_type": "execute_result",
          "data": {
            "text/html": [
              "<div>\n",
              "<style scoped>\n",
              "    .dataframe tbody tr th:only-of-type {\n",
              "        vertical-align: middle;\n",
              "    }\n",
              "\n",
              "    .dataframe tbody tr th {\n",
              "        vertical-align: top;\n",
              "    }\n",
              "\n",
              "    .dataframe thead th {\n",
              "        text-align: right;\n",
              "    }\n",
              "</style>\n",
              "<table border=\"1\" class=\"dataframe\">\n",
              "  <thead>\n",
              "    <tr style=\"text-align: right;\">\n",
              "      <th></th>\n",
              "      <th>Unnamed: 0</th>\n",
              "      <th>crim</th>\n",
              "      <th>zn</th>\n",
              "      <th>indus</th>\n",
              "      <th>chas</th>\n",
              "      <th>nox</th>\n",
              "      <th>rm</th>\n",
              "      <th>age</th>\n",
              "      <th>dis</th>\n",
              "      <th>rad</th>\n",
              "      <th>tax</th>\n",
              "      <th>ptratio</th>\n",
              "      <th>black</th>\n",
              "      <th>lstat</th>\n",
              "      <th>medv</th>\n",
              "    </tr>\n",
              "  </thead>\n",
              "  <tbody>\n",
              "    <tr>\n",
              "      <th>0</th>\n",
              "      <td>1</td>\n",
              "      <td>0.00632</td>\n",
              "      <td>18.0</td>\n",
              "      <td>2.31</td>\n",
              "      <td>0</td>\n",
              "      <td>0.538</td>\n",
              "      <td>6.575</td>\n",
              "      <td>65.2</td>\n",
              "      <td>4.0900</td>\n",
              "      <td>1</td>\n",
              "      <td>296</td>\n",
              "      <td>15.3</td>\n",
              "      <td>396.90</td>\n",
              "      <td>4.98</td>\n",
              "      <td>24.0</td>\n",
              "    </tr>\n",
              "    <tr>\n",
              "      <th>1</th>\n",
              "      <td>2</td>\n",
              "      <td>0.02731</td>\n",
              "      <td>0.0</td>\n",
              "      <td>7.07</td>\n",
              "      <td>0</td>\n",
              "      <td>0.469</td>\n",
              "      <td>6.421</td>\n",
              "      <td>78.9</td>\n",
              "      <td>4.9671</td>\n",
              "      <td>2</td>\n",
              "      <td>242</td>\n",
              "      <td>17.8</td>\n",
              "      <td>396.90</td>\n",
              "      <td>9.14</td>\n",
              "      <td>21.6</td>\n",
              "    </tr>\n",
              "    <tr>\n",
              "      <th>2</th>\n",
              "      <td>3</td>\n",
              "      <td>0.02729</td>\n",
              "      <td>0.0</td>\n",
              "      <td>7.07</td>\n",
              "      <td>0</td>\n",
              "      <td>0.469</td>\n",
              "      <td>7.185</td>\n",
              "      <td>61.1</td>\n",
              "      <td>4.9671</td>\n",
              "      <td>2</td>\n",
              "      <td>242</td>\n",
              "      <td>17.8</td>\n",
              "      <td>392.83</td>\n",
              "      <td>4.03</td>\n",
              "      <td>34.7</td>\n",
              "    </tr>\n",
              "    <tr>\n",
              "      <th>3</th>\n",
              "      <td>4</td>\n",
              "      <td>0.03237</td>\n",
              "      <td>0.0</td>\n",
              "      <td>2.18</td>\n",
              "      <td>0</td>\n",
              "      <td>0.458</td>\n",
              "      <td>6.998</td>\n",
              "      <td>45.8</td>\n",
              "      <td>6.0622</td>\n",
              "      <td>3</td>\n",
              "      <td>222</td>\n",
              "      <td>18.7</td>\n",
              "      <td>394.63</td>\n",
              "      <td>2.94</td>\n",
              "      <td>33.4</td>\n",
              "    </tr>\n",
              "    <tr>\n",
              "      <th>4</th>\n",
              "      <td>5</td>\n",
              "      <td>0.06905</td>\n",
              "      <td>0.0</td>\n",
              "      <td>2.18</td>\n",
              "      <td>0</td>\n",
              "      <td>0.458</td>\n",
              "      <td>7.147</td>\n",
              "      <td>54.2</td>\n",
              "      <td>6.0622</td>\n",
              "      <td>3</td>\n",
              "      <td>222</td>\n",
              "      <td>18.7</td>\n",
              "      <td>396.90</td>\n",
              "      <td>5.33</td>\n",
              "      <td>36.2</td>\n",
              "    </tr>\n",
              "  </tbody>\n",
              "</table>\n",
              "</div>"
            ],
            "text/plain": [
              "   Unnamed: 0     crim    zn  indus  chas  ...  tax  ptratio   black  lstat  medv\n",
              "0           1  0.00632  18.0   2.31     0  ...  296     15.3  396.90   4.98  24.0\n",
              "1           2  0.02731   0.0   7.07     0  ...  242     17.8  396.90   9.14  21.6\n",
              "2           3  0.02729   0.0   7.07     0  ...  242     17.8  392.83   4.03  34.7\n",
              "3           4  0.03237   0.0   2.18     0  ...  222     18.7  394.63   2.94  33.4\n",
              "4           5  0.06905   0.0   2.18     0  ...  222     18.7  396.90   5.33  36.2\n",
              "\n",
              "[5 rows x 15 columns]"
            ]
          },
          "metadata": {
            "tags": []
          },
          "execution_count": 2
        }
      ]
    },
    {
      "cell_type": "code",
      "metadata": {
        "id": "0fyFDPk90nBr",
        "colab_type": "code",
        "colab": {
          "base_uri": "https://localhost:8080/",
          "height": 35
        },
        "outputId": "2f9738b7-53d8-4917-9e7f-3cfcb866924b"
      },
      "source": [
        "df.shape"
      ],
      "execution_count": 3,
      "outputs": [
        {
          "output_type": "execute_result",
          "data": {
            "text/plain": [
              "(506, 15)"
            ]
          },
          "metadata": {
            "tags": []
          },
          "execution_count": 3
        }
      ]
    },
    {
      "cell_type": "code",
      "metadata": {
        "id": "aJnzXz-L0xbn",
        "colab_type": "code",
        "colab": {}
      },
      "source": [
        "df = df.drop(columns='Unnamed: 0')"
      ],
      "execution_count": 0,
      "outputs": []
    },
    {
      "cell_type": "code",
      "metadata": {
        "id": "gGpbwHDH03nv",
        "colab_type": "code",
        "colab": {
          "base_uri": "https://localhost:8080/",
          "height": 198
        },
        "outputId": "2ba7e3b2-d8dc-45fc-b57e-2654e8fe07f0"
      },
      "source": [
        "df.head()"
      ],
      "execution_count": 5,
      "outputs": [
        {
          "output_type": "execute_result",
          "data": {
            "text/html": [
              "<div>\n",
              "<style scoped>\n",
              "    .dataframe tbody tr th:only-of-type {\n",
              "        vertical-align: middle;\n",
              "    }\n",
              "\n",
              "    .dataframe tbody tr th {\n",
              "        vertical-align: top;\n",
              "    }\n",
              "\n",
              "    .dataframe thead th {\n",
              "        text-align: right;\n",
              "    }\n",
              "</style>\n",
              "<table border=\"1\" class=\"dataframe\">\n",
              "  <thead>\n",
              "    <tr style=\"text-align: right;\">\n",
              "      <th></th>\n",
              "      <th>crim</th>\n",
              "      <th>zn</th>\n",
              "      <th>indus</th>\n",
              "      <th>chas</th>\n",
              "      <th>nox</th>\n",
              "      <th>rm</th>\n",
              "      <th>age</th>\n",
              "      <th>dis</th>\n",
              "      <th>rad</th>\n",
              "      <th>tax</th>\n",
              "      <th>ptratio</th>\n",
              "      <th>black</th>\n",
              "      <th>lstat</th>\n",
              "      <th>medv</th>\n",
              "    </tr>\n",
              "  </thead>\n",
              "  <tbody>\n",
              "    <tr>\n",
              "      <th>0</th>\n",
              "      <td>0.00632</td>\n",
              "      <td>18.0</td>\n",
              "      <td>2.31</td>\n",
              "      <td>0</td>\n",
              "      <td>0.538</td>\n",
              "      <td>6.575</td>\n",
              "      <td>65.2</td>\n",
              "      <td>4.0900</td>\n",
              "      <td>1</td>\n",
              "      <td>296</td>\n",
              "      <td>15.3</td>\n",
              "      <td>396.90</td>\n",
              "      <td>4.98</td>\n",
              "      <td>24.0</td>\n",
              "    </tr>\n",
              "    <tr>\n",
              "      <th>1</th>\n",
              "      <td>0.02731</td>\n",
              "      <td>0.0</td>\n",
              "      <td>7.07</td>\n",
              "      <td>0</td>\n",
              "      <td>0.469</td>\n",
              "      <td>6.421</td>\n",
              "      <td>78.9</td>\n",
              "      <td>4.9671</td>\n",
              "      <td>2</td>\n",
              "      <td>242</td>\n",
              "      <td>17.8</td>\n",
              "      <td>396.90</td>\n",
              "      <td>9.14</td>\n",
              "      <td>21.6</td>\n",
              "    </tr>\n",
              "    <tr>\n",
              "      <th>2</th>\n",
              "      <td>0.02729</td>\n",
              "      <td>0.0</td>\n",
              "      <td>7.07</td>\n",
              "      <td>0</td>\n",
              "      <td>0.469</td>\n",
              "      <td>7.185</td>\n",
              "      <td>61.1</td>\n",
              "      <td>4.9671</td>\n",
              "      <td>2</td>\n",
              "      <td>242</td>\n",
              "      <td>17.8</td>\n",
              "      <td>392.83</td>\n",
              "      <td>4.03</td>\n",
              "      <td>34.7</td>\n",
              "    </tr>\n",
              "    <tr>\n",
              "      <th>3</th>\n",
              "      <td>0.03237</td>\n",
              "      <td>0.0</td>\n",
              "      <td>2.18</td>\n",
              "      <td>0</td>\n",
              "      <td>0.458</td>\n",
              "      <td>6.998</td>\n",
              "      <td>45.8</td>\n",
              "      <td>6.0622</td>\n",
              "      <td>3</td>\n",
              "      <td>222</td>\n",
              "      <td>18.7</td>\n",
              "      <td>394.63</td>\n",
              "      <td>2.94</td>\n",
              "      <td>33.4</td>\n",
              "    </tr>\n",
              "    <tr>\n",
              "      <th>4</th>\n",
              "      <td>0.06905</td>\n",
              "      <td>0.0</td>\n",
              "      <td>2.18</td>\n",
              "      <td>0</td>\n",
              "      <td>0.458</td>\n",
              "      <td>7.147</td>\n",
              "      <td>54.2</td>\n",
              "      <td>6.0622</td>\n",
              "      <td>3</td>\n",
              "      <td>222</td>\n",
              "      <td>18.7</td>\n",
              "      <td>396.90</td>\n",
              "      <td>5.33</td>\n",
              "      <td>36.2</td>\n",
              "    </tr>\n",
              "  </tbody>\n",
              "</table>\n",
              "</div>"
            ],
            "text/plain": [
              "      crim    zn  indus  chas    nox  ...  tax  ptratio   black  lstat  medv\n",
              "0  0.00632  18.0   2.31     0  0.538  ...  296     15.3  396.90   4.98  24.0\n",
              "1  0.02731   0.0   7.07     0  0.469  ...  242     17.8  396.90   9.14  21.6\n",
              "2  0.02729   0.0   7.07     0  0.469  ...  242     17.8  392.83   4.03  34.7\n",
              "3  0.03237   0.0   2.18     0  0.458  ...  222     18.7  394.63   2.94  33.4\n",
              "4  0.06905   0.0   2.18     0  0.458  ...  222     18.7  396.90   5.33  36.2\n",
              "\n",
              "[5 rows x 14 columns]"
            ]
          },
          "metadata": {
            "tags": []
          },
          "execution_count": 5
        }
      ]
    },
    {
      "cell_type": "code",
      "metadata": {
        "id": "imuztrGl07Dl",
        "colab_type": "code",
        "colab": {
          "base_uri": "https://localhost:8080/",
          "height": 35
        },
        "outputId": "bba4a360-9065-4224-9bdc-079475fef503"
      },
      "source": [
        "df.shape"
      ],
      "execution_count": 6,
      "outputs": [
        {
          "output_type": "execute_result",
          "data": {
            "text/plain": [
              "(506, 14)"
            ]
          },
          "metadata": {
            "tags": []
          },
          "execution_count": 6
        }
      ]
    },
    {
      "cell_type": "code",
      "metadata": {
        "id": "7Ob9_bbX1OTd",
        "colab_type": "code",
        "colab": {}
      },
      "source": [
        "#columns rename function \n",
        "\n",
        "def rename_columns(X):\n",
        "  X = X.copy()\n",
        "       \n",
        "    # Convert week_start_date to numeric form\n",
        "  X = X.rename(columns={\"crim\": \"per capita crime rate by town\", \"zn\": \"proportion of residential land zoned for lots over 25,000 sq.ft.\", \"indus\": \"proportion of non-retail business acres per town\"})\n",
        "  X =  X.rename(columns={\"chas\": \"Charles River dummy variable\", \"nox\": \"nitric oxides concentration (parts per 10 million\", \"rm\": \"average number of rooms per dwelling\"})\n",
        "  X =  X.rename(columns={\"age\": \"proportion of owner-occupied units built prior to 1940\", \"dis\": \"weighted distances to five Boston employment centres\", \"rad\": \"index of accessibility to radial highways\"})\n",
        "  X =  X.rename(columns={\"tax\": \"full-value property-tax rate per $10,000\", \"ptratio\": \"pupil-teacher ratio by town\", \"black\": \"proportion of blacks by town\"})\n",
        "  X =  X.rename(columns={\"lstat\": \"% lower status of the population\", \"medv\": \"Median value of owner-occupied homes in $1000s\"})\n",
        "\n",
        "    \n",
        "    # return the dataframe with renamed columns\n",
        "  return X"
      ],
      "execution_count": 0,
      "outputs": []
    },
    {
      "cell_type": "code",
      "metadata": {
        "id": "VypjFAc41PfD",
        "colab_type": "code",
        "colab": {}
      },
      "source": [
        "df = rename_columns(df)"
      ],
      "execution_count": 0,
      "outputs": []
    },
    {
      "cell_type": "code",
      "metadata": {
        "id": "xv2wBOBS1XfY",
        "colab_type": "code",
        "colab": {
          "base_uri": "https://localhost:8080/",
          "height": 468
        },
        "outputId": "b71db264-0345-41f7-d400-eb1a714bf0b9"
      },
      "source": [
        "df.head().T"
      ],
      "execution_count": 9,
      "outputs": [
        {
          "output_type": "execute_result",
          "data": {
            "text/html": [
              "<div>\n",
              "<style scoped>\n",
              "    .dataframe tbody tr th:only-of-type {\n",
              "        vertical-align: middle;\n",
              "    }\n",
              "\n",
              "    .dataframe tbody tr th {\n",
              "        vertical-align: top;\n",
              "    }\n",
              "\n",
              "    .dataframe thead th {\n",
              "        text-align: right;\n",
              "    }\n",
              "</style>\n",
              "<table border=\"1\" class=\"dataframe\">\n",
              "  <thead>\n",
              "    <tr style=\"text-align: right;\">\n",
              "      <th></th>\n",
              "      <th>0</th>\n",
              "      <th>1</th>\n",
              "      <th>2</th>\n",
              "      <th>3</th>\n",
              "      <th>4</th>\n",
              "    </tr>\n",
              "  </thead>\n",
              "  <tbody>\n",
              "    <tr>\n",
              "      <th>per capita crime rate by town</th>\n",
              "      <td>0.00632</td>\n",
              "      <td>0.02731</td>\n",
              "      <td>0.02729</td>\n",
              "      <td>0.03237</td>\n",
              "      <td>0.06905</td>\n",
              "    </tr>\n",
              "    <tr>\n",
              "      <th>proportion of residential land zoned for lots over 25,000 sq.ft.</th>\n",
              "      <td>18.00000</td>\n",
              "      <td>0.00000</td>\n",
              "      <td>0.00000</td>\n",
              "      <td>0.00000</td>\n",
              "      <td>0.00000</td>\n",
              "    </tr>\n",
              "    <tr>\n",
              "      <th>proportion of non-retail business acres per town</th>\n",
              "      <td>2.31000</td>\n",
              "      <td>7.07000</td>\n",
              "      <td>7.07000</td>\n",
              "      <td>2.18000</td>\n",
              "      <td>2.18000</td>\n",
              "    </tr>\n",
              "    <tr>\n",
              "      <th>Charles River dummy variable</th>\n",
              "      <td>0.00000</td>\n",
              "      <td>0.00000</td>\n",
              "      <td>0.00000</td>\n",
              "      <td>0.00000</td>\n",
              "      <td>0.00000</td>\n",
              "    </tr>\n",
              "    <tr>\n",
              "      <th>nitric oxides concentration (parts per 10 million</th>\n",
              "      <td>0.53800</td>\n",
              "      <td>0.46900</td>\n",
              "      <td>0.46900</td>\n",
              "      <td>0.45800</td>\n",
              "      <td>0.45800</td>\n",
              "    </tr>\n",
              "    <tr>\n",
              "      <th>average number of rooms per dwelling</th>\n",
              "      <td>6.57500</td>\n",
              "      <td>6.42100</td>\n",
              "      <td>7.18500</td>\n",
              "      <td>6.99800</td>\n",
              "      <td>7.14700</td>\n",
              "    </tr>\n",
              "    <tr>\n",
              "      <th>proportion of owner-occupied units built prior to 1940</th>\n",
              "      <td>65.20000</td>\n",
              "      <td>78.90000</td>\n",
              "      <td>61.10000</td>\n",
              "      <td>45.80000</td>\n",
              "      <td>54.20000</td>\n",
              "    </tr>\n",
              "    <tr>\n",
              "      <th>weighted distances to five Boston employment centres</th>\n",
              "      <td>4.09000</td>\n",
              "      <td>4.96710</td>\n",
              "      <td>4.96710</td>\n",
              "      <td>6.06220</td>\n",
              "      <td>6.06220</td>\n",
              "    </tr>\n",
              "    <tr>\n",
              "      <th>index of accessibility to radial highways</th>\n",
              "      <td>1.00000</td>\n",
              "      <td>2.00000</td>\n",
              "      <td>2.00000</td>\n",
              "      <td>3.00000</td>\n",
              "      <td>3.00000</td>\n",
              "    </tr>\n",
              "    <tr>\n",
              "      <th>full-value property-tax rate per $10,000</th>\n",
              "      <td>296.00000</td>\n",
              "      <td>242.00000</td>\n",
              "      <td>242.00000</td>\n",
              "      <td>222.00000</td>\n",
              "      <td>222.00000</td>\n",
              "    </tr>\n",
              "    <tr>\n",
              "      <th>pupil-teacher ratio by town</th>\n",
              "      <td>15.30000</td>\n",
              "      <td>17.80000</td>\n",
              "      <td>17.80000</td>\n",
              "      <td>18.70000</td>\n",
              "      <td>18.70000</td>\n",
              "    </tr>\n",
              "    <tr>\n",
              "      <th>proportion of blacks by town</th>\n",
              "      <td>396.90000</td>\n",
              "      <td>396.90000</td>\n",
              "      <td>392.83000</td>\n",
              "      <td>394.63000</td>\n",
              "      <td>396.90000</td>\n",
              "    </tr>\n",
              "    <tr>\n",
              "      <th>% lower status of the population</th>\n",
              "      <td>4.98000</td>\n",
              "      <td>9.14000</td>\n",
              "      <td>4.03000</td>\n",
              "      <td>2.94000</td>\n",
              "      <td>5.33000</td>\n",
              "    </tr>\n",
              "    <tr>\n",
              "      <th>Median value of owner-occupied homes in $1000s</th>\n",
              "      <td>24.00000</td>\n",
              "      <td>21.60000</td>\n",
              "      <td>34.70000</td>\n",
              "      <td>33.40000</td>\n",
              "      <td>36.20000</td>\n",
              "    </tr>\n",
              "  </tbody>\n",
              "</table>\n",
              "</div>"
            ],
            "text/plain": [
              "                                                            0  ...          4\n",
              "per capita crime rate by town                         0.00632  ...    0.06905\n",
              "proportion of residential land zoned for lots o...   18.00000  ...    0.00000\n",
              "proportion of non-retail business acres per town      2.31000  ...    2.18000\n",
              "Charles River dummy variable                          0.00000  ...    0.00000\n",
              "nitric oxides concentration (parts per 10 million     0.53800  ...    0.45800\n",
              "average number of rooms per dwelling                  6.57500  ...    7.14700\n",
              "proportion of owner-occupied units built prior ...   65.20000  ...   54.20000\n",
              "weighted distances to five Boston employment ce...    4.09000  ...    6.06220\n",
              "index of accessibility to radial highways             1.00000  ...    3.00000\n",
              "full-value property-tax rate per $10,000            296.00000  ...  222.00000\n",
              "pupil-teacher ratio by town                          15.30000  ...   18.70000\n",
              "proportion of blacks by town                        396.90000  ...  396.90000\n",
              "% lower status of the population                      4.98000  ...    5.33000\n",
              "Median value of owner-occupied homes in $1000s       24.00000  ...   36.20000\n",
              "\n",
              "[14 rows x 5 columns]"
            ]
          },
          "metadata": {
            "tags": []
          },
          "execution_count": 9
        }
      ]
    },
    {
      "cell_type": "code",
      "metadata": {
        "id": "UV_XvU8g1cQx",
        "colab_type": "code",
        "colab": {
          "base_uri": "https://localhost:8080/",
          "height": 290
        },
        "outputId": "06c5c051-e936-4416-e349-4ef56b018b77"
      },
      "source": [
        "df.isnull().sum()"
      ],
      "execution_count": 10,
      "outputs": [
        {
          "output_type": "execute_result",
          "data": {
            "text/plain": [
              "per capita crime rate by town                                       0\n",
              "proportion of residential land zoned for lots over 25,000 sq.ft.    0\n",
              "proportion of non-retail business acres per town                    0\n",
              "Charles River dummy variable                                        0\n",
              "nitric oxides concentration (parts per 10 million                   0\n",
              "average number of rooms per dwelling                                0\n",
              "proportion of owner-occupied units built prior to 1940              0\n",
              "weighted distances to five Boston employment centres                0\n",
              "index of accessibility to radial highways                           0\n",
              "full-value property-tax rate per $10,000                            0\n",
              "pupil-teacher ratio by town                                         0\n",
              "proportion of blacks by town                                        0\n",
              "% lower status of the population                                    0\n",
              "Median value of owner-occupied homes in $1000s                      0\n",
              "dtype: int64"
            ]
          },
          "metadata": {
            "tags": []
          },
          "execution_count": 10
        }
      ]
    },
    {
      "cell_type": "code",
      "metadata": {
        "id": "1rWUebho1fid",
        "colab_type": "code",
        "colab": {
          "base_uri": "https://localhost:8080/",
          "height": 290
        },
        "outputId": "9bf596ba-a16c-4943-c09b-d1e8bf72b8d5"
      },
      "source": [
        "df.dtypes"
      ],
      "execution_count": 11,
      "outputs": [
        {
          "output_type": "execute_result",
          "data": {
            "text/plain": [
              "per capita crime rate by town                                       float64\n",
              "proportion of residential land zoned for lots over 25,000 sq.ft.    float64\n",
              "proportion of non-retail business acres per town                    float64\n",
              "Charles River dummy variable                                          int64\n",
              "nitric oxides concentration (parts per 10 million                   float64\n",
              "average number of rooms per dwelling                                float64\n",
              "proportion of owner-occupied units built prior to 1940              float64\n",
              "weighted distances to five Boston employment centres                float64\n",
              "index of accessibility to radial highways                             int64\n",
              "full-value property-tax rate per $10,000                              int64\n",
              "pupil-teacher ratio by town                                         float64\n",
              "proportion of blacks by town                                        float64\n",
              "% lower status of the population                                    float64\n",
              "Median value of owner-occupied homes in $1000s                      float64\n",
              "dtype: object"
            ]
          },
          "metadata": {
            "tags": []
          },
          "execution_count": 11
        }
      ]
    },
    {
      "cell_type": "code",
      "metadata": {
        "id": "Q4yVTMDt09Vu",
        "colab_type": "code",
        "colab": {}
      },
      "source": [
        "#Explore relationships using seaborn"
      ],
      "execution_count": 0,
      "outputs": []
    },
    {
      "cell_type": "code",
      "metadata": {
        "id": "EgZV5KM_1HmS",
        "colab_type": "code",
        "colab": {
          "base_uri": "https://localhost:8080/",
          "height": 947
        },
        "outputId": "068b21b5-b4cd-4943-d05c-165305df28f5"
      },
      "source": [
        "import seaborn as sns\n",
        "\n",
        "plt.figure(figsize=(20, 10))\n",
        "sns.heatmap(df.corr().abs(),  annot=True)"
      ],
      "execution_count": 13,
      "outputs": [
        {
          "output_type": "stream",
          "text": [
            "/usr/local/lib/python3.6/dist-packages/statsmodels/tools/_testing.py:19: FutureWarning: pandas.util.testing is deprecated. Use the functions in the public API at pandas.testing instead.\n",
            "  import pandas.util.testing as tm\n"
          ],
          "name": "stderr"
        },
        {
          "output_type": "execute_result",
          "data": {
            "text/plain": [
              "<matplotlib.axes._subplots.AxesSubplot at 0x7ff9dfe5f668>"
            ]
          },
          "metadata": {
            "tags": []
          },
          "execution_count": 13
        },
        {
          "output_type": "display_data",
          "data": {
            "image/png": "[encoded data removed]",
            "text/plain": [
              "<Figure size 1440x720 with 2 Axes>"
            ]
          },
          "metadata": {
            "tags": [],
            "needs_background": "light"
          }
        }
      ]
    },
    {
      "cell_type": "code",
      "metadata": {
        "id": "YfHgbWFG1zR6",
        "colab_type": "code",
        "colab": {}
      },
      "source": [
        "#From the visualization above, the median home value has high correlation with avg number of rooms, and % lower status of population\n",
        "\n",
        "#We can use these two variables for multivariate linear regression"
      ],
      "execution_count": 0,
      "outputs": []
    },
    {
      "cell_type": "code",
      "metadata": {
        "id": "12fQSUHD18cs",
        "colab_type": "code",
        "colab": {
          "base_uri": "https://localhost:8080/",
          "height": 35
        },
        "outputId": "ccf42055-a54a-4478-e771-908c2081ee14"
      },
      "source": [
        "#Split into train and validation datasets\n",
        "\n",
        "from sklearn.model_selection import train_test_split\n",
        "train, val = train_test_split(df, train_size=0.80, test_size=0.20, \n",
        "                              random_state=42)\n",
        "train.shape, val.shape"
      ],
      "execution_count": 15,
      "outputs": [
        {
          "output_type": "execute_result",
          "data": {
            "text/plain": [
              "((404, 14), (102, 14))"
            ]
          },
          "metadata": {
            "tags": []
          },
          "execution_count": 15
        }
      ]
    },
    {
      "cell_type": "markdown",
      "metadata": {
        "id": "j5E7RU-M5ReU",
        "colab_type": "text"
      },
      "source": [
        "##Baseline using zero features"
      ]
    },
    {
      "cell_type": "code",
      "metadata": {
        "id": "82bWpycbhDuA",
        "colab_type": "code",
        "colab": {
          "base_uri": "https://localhost:8080/",
          "height": 35
        },
        "outputId": "bf8f22db-fe78-471d-8bb3-50ef2d3d1ee7"
      },
      "source": [
        "#Baseline mean and MAE for regression\n",
        "guess = train['Median value of owner-occupied homes in $1000s'].mean()\n",
        "\n",
        "print('At the baseline, the mean of \"Median value of owner-occupied homes in $1000s\"=', guess)"
      ],
      "execution_count": 16,
      "outputs": [
        {
          "output_type": "stream",
          "text": [
            "At the baseline, the mean of \"Median value of owner-occupied homes in $1000s\"= 22.79653465346535\n"
          ],
          "name": "stdout"
        }
      ]
    },
    {
      "cell_type": "code",
      "metadata": {
        "id": "S-kUmvQ05HQ2",
        "colab_type": "code",
        "colab": {
          "base_uri": "https://localhost:8080/",
          "height": 72
        },
        "outputId": "029b67b8-f482-4338-8506-f2984cb83461"
      },
      "source": [
        "from sklearn.metrics import mean_squared_error\n",
        "\n",
        "# Arrange y target vectors\n",
        "target = 'Median value of owner-occupied homes in $1000s'\n",
        "y_train = train[target]\n",
        "y_val = val[target]\n",
        "\n",
        "# Get mean baseline\n",
        "\n",
        "guess = y_train.mean()\n",
        "print('Mean Baseline (using 0 features)', guess)\n",
        "\n",
        "# Train Error\n",
        "y_pred = [guess] * len(y_train)\n",
        "mae = mean_squared_error(y_train, y_pred)\n",
        "print(f'Train mean squared error: {mae:.2f}')\n",
        "\n",
        "# Val. Error\n",
        "y_pred = [guess] * len(y_val)\n",
        "mse = mean_squared_error(y_val, y_pred)\n",
        "print(f'Validation mean squared error: {mse:.2f}')"
      ],
      "execution_count": 17,
      "outputs": [
        {
          "output_type": "stream",
          "text": [
            "Mean Baseline (using 0 features) 22.79653465346535\n",
            "Train mean squared error: 86.87\n",
            "Validation mean squared error: 75.05\n"
          ],
          "name": "stdout"
        }
      ]
    },
    {
      "cell_type": "markdown",
      "metadata": {
        "id": "p8ntyrxP6Zk9",
        "colab_type": "text"
      },
      "source": [
        "##Linear Regression using above two features"
      ]
    },
    {
      "cell_type": "code",
      "metadata": {
        "id": "eKmgmVzfrUsP",
        "colab_type": "code",
        "colab": {}
      },
      "source": [
        "#From the visualization above, the median home value has high correlation with avg number of rooms, and 5 lower status of population\n",
        "\n",
        "#We can use these two variables for multivariate linear regression"
      ],
      "execution_count": 0,
      "outputs": []
    },
    {
      "cell_type": "code",
      "metadata": {
        "id": "TPGgTISur50a",
        "colab_type": "code",
        "colab": {
          "base_uri": "https://localhost:8080/",
          "height": 542
        },
        "outputId": "d66b6ffb-7f76-4597-b191-ca95a7bc04bd"
      },
      "source": [
        "import pandas as pd\n",
        "import plotly.express as px\n",
        "\n",
        "px.scatter(\n",
        "    train,\n",
        "    x='Median value of owner-occupied homes in $1000s',\n",
        "    y='average number of rooms per dwelling',\n",
        "    #text='Year',\n",
        "    title='Correlation between home value and avg number of rooms',\n",
        "    trendline='ols',  # Ordinary Least Squares\n",
        ")\n",
        "\n",
        "#There appears a linear relationship between these two variables from the figure given below"
      ],
      "execution_count": 19,
      "outputs": [
        {
          "output_type": "display_data",
          "data": {
            "text/html": [
              "<html>\n",
              "<head><meta charset=\"utf-8\" /></head>\n",
              "<body>\n",
              "    <div>\n",
              "            <script src=\"https://cdnjs.cloudflare.com/ajax/libs/mathjax/2.7.5/MathJax.js?config=TeX-AMS-MML_SVG\"></script><script type=\"text/javascript\">if (window.MathJax) {MathJax.Hub.Config({SVG: {font: \"STIX-Web\"}});}</script>\n",
              "                <script type=\"text/javascript\">window.PlotlyConfig = {MathJaxConfig: 'local'};</script>\n",
              "        <script src=\"https://cdn.plot.ly/plotly-latest.min.js\"></script>    \n",
              "            <div id=\"29fd7c68-def7-435e-a45d-ae78204a0135\" class=\"plotly-graph-div\" style=\"height:525px; width:100%;\"></div>\n",
              "            <script type=\"text/javascript\">\n",
              "                \n",
              "                    window.PLOTLYENV=window.PLOTLYENV || {};\n",
              "                    \n",
              "                if (document.getElementById(\"29fd7c68-def7-435e-a45d-ae78204a0135\")) {\n",
              "                    Plotly.newPlot(\n",
              "                        '29fd7c68-def7-435e-a45d-ae78204a0135',\n",
              "                        [{\"hoverlabel\": {\"namelength\": 0}, \"hovertemplate\": \"Median value of owner-occupied homes in $1000s=%{x}<br>average number of rooms per dwelling=%{y}\", \"legendgroup\": \"\", \"marker\": {\"color\": \"#636efa\", \"symbol\": \"circle\"}, \"mode\": \"markers\", \"name\": \"\", \"showlegend\": false, \"type\": \"scatter\", \"x\": [12.0, 19.9, 19.4, 13.4, 18.2, 24.6, 21.1, 24.7, 8.7, 27.5, 20.7, 36.2, 31.6, 11.7, 39.8, 13.9, 21.8, 23.7, 17.6, 24.4, 8.8, 19.2, 25.3, 20.4, 23.1, 37.9, 15.6, 45.4, 15.7, 22.6, 14.5, 18.7, 17.8, 16.1, 20.6, 31.6, 29.1, 15.6, 17.5, 22.5, 19.4, 19.3, 8.5, 20.6, 17.0, 17.1, 14.5, 50.0, 14.3, 12.6, 28.7, 21.2, 19.3, 23.1, 19.1, 25.0, 33.4, 5.0, 29.6, 18.7, 21.7, 23.1, 22.8, 21.0, 48.8, 14.6, 16.6, 27.1, 20.1, 19.8, 21.0, 41.3, 23.2, 20.4, 18.5, 29.4, 36.4, 24.4, 11.8, 13.8, 12.3, 17.8, 33.1, 26.7, 13.4, 14.4, 50.0, 22.0, 19.9, 23.8, 17.5, 12.7, 5.6, 31.1, 26.2, 19.4, 16.7, 13.8, 22.9, 15.3, 27.5, 36.1, 22.9, 24.5, 25.0, 50.0, 34.9, 31.7, 24.1, 22.1, 14.1, 42.8, 19.3, 32.2, 26.4, 21.8, 21.7, 8.3, 46.7, 43.1, 31.5, 10.5, 16.7, 20.0, 33.3, 17.8, 50.0, 20.5, 23.2, 13.1, 19.6, 22.8, 28.7, 30.7, 22.9, 21.9, 23.9, 32.7, 24.3, 21.5, 24.6, 8.5, 26.4, 23.1, 15.0, 8.8, 19.3, 23.9, 24.7, 19.8, 23.8, 13.3, 29.0, 27.1, 34.6, 13.3, 15.6, 12.5, 14.6, 11.0, 24.8, 17.3, 8.1, 21.4, 15.6, 23.3, 32.0, 38.7, 30.1, 20.5, 32.5, 42.3, 24.3, 20.6, 22.0, 18.2, 15.0, 6.3, 20.1, 21.4, 28.4, 30.1, 20.8, 23.0, 14.3, 11.7, 37.3, 17.1, 10.4, 23.0, 22.7, 20.3, 21.7, 50.0, 8.4, 18.8, 37.2, 16.1, 16.5, 22.2, 20.6, 13.5, 48.3, 23.8, 22.7, 17.4, 30.3, 36.0, 41.7, 18.3, 22.0, 18.6, 44.8, 11.9, 18.7, 16.2, 22.0, 7.2, 20.4, 13.8, 13.0, 18.4, 23.1, 21.2, 23.1, 23.5, 50.0, 26.6, 22.2, 50.0, 8.3, 23.3, 21.7, 18.9, 18.4, 17.4, 13.4, 12.1, 26.6, 21.7, 28.4, 20.5, 22.0, 13.9, 11.3, 29.9, 26.6, 10.5, 23.2, 24.4, 46.0, 21.9, 7.5, 36.2, 44.0, 17.8, 27.5, 37.6, 14.1, 28.1, 10.2, 19.1, 43.8, 27.9, 25.0, 16.0, 16.6, 13.2, 50.0, 22.2, 32.9, 15.2, 14.8, 13.8, 24.3, 33.8, 22.3, 50.0, 9.5, 13.3, 22.2, 18.1, 18.0, 25.0, 16.5, 23.0, 20.1, 33.0, 24.8, 18.2, 13.1, 34.9, 10.2, 19.9, 27.9, 23.3, 35.1, 12.8, 22.0, 18.5, 25.1, 22.5, 22.4, 28.6, 19.5, 24.8, 24.5, 21.4, 33.1, 22.9, 20.7, 24.1, 50.0, 24.7, 28.7, 7.2, 37.0, 20.3, 30.1, 19.5, 23.4, 11.5, 21.6, 14.9, 15.2, 19.4, 8.4, 28.0, 22.6, 13.5, 14.5, 31.0, 10.9, 21.9, 22.0, 19.0, 21.4, 25.0, 17.5, 36.5, 20.1, 20.4, 16.2, 23.6, 7.4, 35.2, 50.0, 19.3, 21.2, 15.6, 33.4, 19.1, 21.0, 23.7, 18.9, 16.8, 19.7, 17.7, 22.6, 11.8, 34.9, 20.6, 20.2, 32.0, 22.3, 23.3, 14.4, 31.2, 24.0, 29.6, 19.6, 21.6, 20.0, 27.0, 33.2, 15.4, 30.5, 7.2, 23.9, 16.3, 23.9, 50.0, 22.8, 15.4, 19.2, 19.6, 22.6, 33.2, 50.0, 22.2, 14.9, 19.8, 23.7, 19.0, 20.3, 11.9, 13.6, 29.8, 21.7, 19.5, 21.1, 24.5, 13.4, 18.6], \"xaxis\": \"x\", \"y\": [5.303999999999999, 5.834, 6.031000000000001, 6.103, 5.727, 6.431, 6.037000000000001, 6.382999999999999, 6.152, 6.852, 6.31, 6.144, 7.162999999999999, 6.207999999999999, 7.765, 5.599, 5.707000000000001, 6.481, 5.593, 6.487, 5.957000000000001, 6.021, 6.169, 6.041, 6.516, 7.155, 6.152, 7.82, 5.6129999999999995, 6.332999999999999, 6.072, 6.0920000000000005, 5.186, 6.425, 6.059, 6.816, 6.604, 5.9239999999999995, 5.99, 6.345, 5.787000000000001, 5.404, 5.531000000000001, 6.249, 6.129, 6.406000000000001, 5.813, 8.725, 6.436, 6.251, 6.43, 6.176, 5.682, 5.935, 5.926, 6.398, 6.997999999999999, 5.683, 6.153, 5.7410000000000005, 6.195, 6.376, 5.56, 6.6739999999999995, 8.398, 6.185, 5.813, 6.172000000000001, 5.983, 6.474, 5.85, 6.943, 6.437, 5.872000000000001, 6.254, 6.546, 7.178, 6.537999999999999, 4.9030000000000005, 4.906000000000001, 5.52, 6.212000000000001, 6.8260000000000005, 6.9510000000000005, 6.749, 5.019, 6.683, 5.877999999999999, 6.251, 6.319, 5.569, 5.8870000000000005, 5.987, 6.8, 6.718, 6.229, 6.4110000000000005, 6.13, 6.442, 5.012, 6.879, 7.236000000000001, 6.167000000000001, 6.433, 6.101, 8.375, 6.975, 7.412000000000001, 6.273, 6.122000000000001, 6.525, 8.259, 5.731, 7.087999999999999, 6.495, 5.7620000000000005, 6.395, 5.349, 7.686, 7.52, 7.358, 4.652, 6.484, 5.841, 7.287000000000001, 6.151, 4.97, 6.226, 6.209, 6.38, 5.9270000000000005, 6.715, 7.079, 7.013999999999999, 6.0120000000000005, 8.78, 6.976, 7.2410000000000005, 6.066, 6.122000000000001, 6.315, 5.747000000000001, 5.604, 6.382000000000001, 6.377000000000001, 4.368, 6.1370000000000005, 6.619, 5.966, 5.782, 5.877000000000001, 6.162000000000001, 7.041, 6.5489999999999995, 7.274, 6.794, 5.627999999999999, 6.405, 4.926, 6.193, 6.565, 5.856, 5.093, 6.162999999999999, 5.468, 6.606, 6.854, 8.068999999999999, 6.728, 5.961, 6.563, 7.61, 6.108, 5.871, 6.59, 5.662999999999999, 5.757000000000001, 5.852, 6.23, 5.986000000000001, 6.6160000000000005, 6.617999999999999, 5.648, 6.372999999999999, 5.6370000000000005, 5.565, 7.148, 5.706, 6.968, 6.242000000000001, 6.127000000000001, 5.79, 6.0089999999999995, 7.016, 5.935, 5.912999999999999, 6.98, 4.973, 6.54, 6.316, 5.905, 5.936, 8.247, 6.567, 5.854, 5.942, 7.107, 7.332999999999999, 8.337, 5.928, 5.87, 5.8839999999999995, 8.266, 4.138, 5.968, 5.693, 6.452999999999999, 6.434, 6.127000000000001, 4.138, 6.417000000000001, 5.822, 3.863, 6.069, 5.67, 6.29, 7.922999999999999, 6.63, 6.358, 7.831, 5.896, 6.51, 5.888999999999999, 5.933, 6.495, 5.875, 5.403, 6.404, 6.939, 6.164, 6.625, 6.115, 6.897, 6.649, 5.5360000000000005, 6.86, 6.77, 5.818, 6.051, 6.3260000000000005, 7.645, 6.108, 6.782, 7.147, 7.454, 7.393, 6.727, 8.04, 6.832999999999999, 6.375, 5.837000000000001, 5.88, 7.82, 6.63, 6.182, 5.966, 6.03, 5.95, 8.297, 6.082999999999999, 7.135, 6.655, 6.047000000000001, 6.193, 5.981, 7.202999999999999, 6.315, 7.8020000000000005, 6.38, 5.857, 6.456, 6.335, 6.431, 7.061, 5.631, 6.312, 5.712999999999999, 7.104, 6.871, 6.096, 5.272, 7.024, 6.223, 5.7589999999999995, 5.608, 5.888, 6.812, 5.627000000000001, 6.794, 5.895, 6.631, 5.7829999999999995, 5.807, 6.678, 6.317, 6.438, 5.926, 6.209, 6.982, 6.49, 5.92, 6.162000000000001, 7.489, 6.211, 6.642, 6.343, 6.9510000000000005, 5.972, 6.8420000000000005, 5.851, 5.997999999999999, 5.39, 6.421, 6.341, 5.454, 5.602, 6.824, 6.727, 5.891, 6.096, 6.348, 7.327000000000001, 6.202000000000001, 4.963, 6.405, 5.985, 6.229, 6.511, 6.013999999999999, 7.206, 6.095, 5.949, 5.705, 7.007000000000001, 5.0, 7.691, 7.928999999999999, 5.867999999999999, 6.019, 5.757000000000001, 7.42, 6.114, 6.1129999999999995, 6.393, 5.888, 5.803, 5.962999999999999, 6.376, 5.859, 6.459, 7.185, 6.12, 6.513, 6.782, 6.402, 6.145, 5.399, 6.874, 6.086, 6.957000000000001, 5.965, 6.266, 6.081, 6.25, 7.267, 6.485, 6.739, 5.277, 6.127000000000001, 5.155, 6.696000000000001, 8.704, 6.635, 5.597, 6.457999999999999, 5.404, 6.112, 7.416, 5.875, 6.121, 6.301, 6.144, 5.412000000000001, 5.952000000000001, 6.004, 6.03, 5.57, 6.556, 5.961, 5.836, 5.856, 6.635, 6.629, 6.405], \"yaxis\": \"y\"}, {\"hoverlabel\": {\"namelength\": 0}, \"hovertemplate\": \"<b>OLS trendline</b><br>average number of rooms per dwelling = 0.054028 * Median value of owner-occupied homes in $1000s + 5.084250<br>R<sup>2</sup>=0.505066<br><br>Median value of owner-occupied homes in $1000s=%{x}<br>average number of rooms per dwelling=%{y} <b>(trend)</b>\", \"legendgroup\": \"\", \"marker\": {\"color\": \"#636efa\", \"symbol\": \"circle\"}, \"mode\": \"lines\", \"name\": \"\", \"showlegend\": false, \"type\": \"scatter\", \"x\": [5.0, 5.6, 6.3, 7.2, 7.2, 7.2, 7.4, 7.5, 8.1, 8.3, 8.3, 8.4, 8.4, 8.5, 8.5, 8.7, 8.8, 8.8, 9.5, 10.2, 10.2, 10.4, 10.5, 10.5, 10.9, 11.0, 11.3, 11.5, 11.7, 11.7, 11.8, 11.8, 11.9, 11.9, 12.0, 12.1, 12.3, 12.5, 12.6, 12.7, 12.8, 13.0, 13.1, 13.1, 13.2, 13.3, 13.3, 13.3, 13.4, 13.4, 13.4, 13.4, 13.5, 13.5, 13.6, 13.8, 13.8, 13.8, 13.8, 13.9, 13.9, 14.1, 14.1, 14.3, 14.3, 14.4, 14.4, 14.5, 14.5, 14.5, 14.6, 14.6, 14.8, 14.9, 14.9, 15.0, 15.0, 15.2, 15.2, 15.3, 15.4, 15.4, 15.6, 15.6, 15.6, 15.6, 15.6, 15.7, 16.0, 16.1, 16.1, 16.2, 16.2, 16.3, 16.5, 16.5, 16.6, 16.6, 16.7, 16.7, 16.8, 17.0, 17.1, 17.1, 17.3, 17.4, 17.4, 17.5, 17.5, 17.5, 17.6, 17.7, 17.8, 17.8, 17.8, 17.8, 18.0, 18.1, 18.2, 18.2, 18.2, 18.3, 18.4, 18.4, 18.5, 18.5, 18.6, 18.6, 18.7, 18.7, 18.7, 18.8, 18.9, 18.9, 19.0, 19.0, 19.1, 19.1, 19.1, 19.2, 19.2, 19.3, 19.3, 19.3, 19.3, 19.3, 19.4, 19.4, 19.4, 19.4, 19.5, 19.5, 19.5, 19.6, 19.6, 19.6, 19.7, 19.8, 19.8, 19.8, 19.9, 19.9, 19.9, 20.0, 20.0, 20.1, 20.1, 20.1, 20.1, 20.2, 20.3, 20.3, 20.3, 20.4, 20.4, 20.4, 20.4, 20.5, 20.5, 20.5, 20.6, 20.6, 20.6, 20.6, 20.6, 20.7, 20.7, 20.8, 21.0, 21.0, 21.0, 21.1, 21.1, 21.2, 21.2, 21.2, 21.4, 21.4, 21.4, 21.4, 21.5, 21.6, 21.6, 21.7, 21.7, 21.7, 21.7, 21.7, 21.7, 21.8, 21.8, 21.9, 21.9, 21.9, 22.0, 22.0, 22.0, 22.0, 22.0, 22.0, 22.0, 22.1, 22.2, 22.2, 22.2, 22.2, 22.2, 22.3, 22.3, 22.4, 22.5, 22.5, 22.6, 22.6, 22.6, 22.6, 22.7, 22.7, 22.8, 22.8, 22.8, 22.9, 22.9, 22.9, 22.9, 23.0, 23.0, 23.0, 23.1, 23.1, 23.1, 23.1, 23.1, 23.1, 23.2, 23.2, 23.2, 23.3, 23.3, 23.3, 23.3, 23.4, 23.5, 23.6, 23.7, 23.7, 23.7, 23.8, 23.8, 23.8, 23.9, 23.9, 23.9, 23.9, 24.0, 24.1, 24.1, 24.3, 24.3, 24.3, 24.4, 24.4, 24.4, 24.5, 24.5, 24.5, 24.6, 24.6, 24.7, 24.7, 24.7, 24.8, 24.8, 24.8, 25.0, 25.0, 25.0, 25.0, 25.0, 25.1, 25.3, 26.2, 26.4, 26.4, 26.6, 26.6, 26.6, 26.7, 27.0, 27.1, 27.1, 27.5, 27.5, 27.5, 27.9, 27.9, 28.0, 28.1, 28.4, 28.4, 28.6, 28.7, 28.7, 28.7, 29.0, 29.1, 29.4, 29.6, 29.6, 29.8, 29.9, 30.1, 30.1, 30.1, 30.3, 30.5, 30.7, 31.0, 31.1, 31.2, 31.5, 31.6, 31.6, 31.7, 32.0, 32.0, 32.2, 32.5, 32.7, 32.9, 33.0, 33.1, 33.1, 33.2, 33.2, 33.3, 33.4, 33.4, 33.8, 34.6, 34.9, 34.9, 34.9, 35.1, 35.2, 36.0, 36.1, 36.2, 36.2, 36.4, 36.5, 37.0, 37.2, 37.3, 37.6, 37.9, 38.7, 39.8, 41.3, 41.7, 42.3, 42.8, 43.1, 43.8, 44.0, 44.8, 45.4, 46.0, 46.7, 48.3, 48.8, 50.0, 50.0, 50.0, 50.0, 50.0, 50.0, 50.0, 50.0, 50.0, 50.0, 50.0, 50.0, 50.0], \"xaxis\": \"x\", \"y\": [5.354387897357717, 5.386804428232079, 5.424623714252169, 5.473248510563712, 5.473248510563712, 5.473248510563712, 5.484054020855166, 5.489456776000893, 5.521873306875256, 5.53267881716671, 5.53267881716671, 5.5380815723124375, 5.5380815723124375, 5.543484327458164, 5.543484327458164, 5.554289837749618, 5.559692592895345, 5.559692592895345, 5.597511878915435, 5.635331164935524, 5.635331164935524, 5.646136675226979, 5.651539430372705, 5.651539430372705, 5.673150450955614, 5.67855320610134, 5.694761471538522, 5.705566981829977, 5.7163724921214305, 5.7163724921214305, 5.721775247267157, 5.721775247267157, 5.727178002412884, 5.727178002412884, 5.732580757558612, 5.737983512704338, 5.748789022995792, 5.759594533287247, 5.764997288432974, 5.770400043578701, 5.775802798724428, 5.786608309015882, 5.792011064161609, 5.792011064161609, 5.797413819307336, 5.802816574453063, 5.802816574453063, 5.802816574453063, 5.80821932959879, 5.80821932959879, 5.80821932959879, 5.80821932959879, 5.813622084744518, 5.813622084744518, 5.819024839890244, 5.829830350181699, 5.829830350181699, 5.829830350181699, 5.829830350181699, 5.835233105327426, 5.835233105327426, 5.8460386156188795, 5.8460386156188795, 5.856844125910334, 5.856844125910334, 5.862246881056061, 5.862246881056061, 5.867649636201788, 5.867649636201788, 5.867649636201788, 5.873052391347515, 5.873052391347515, 5.88385790163897, 5.889260656784696, 5.889260656784696, 5.8946634119304235, 5.8946634119304235, 5.9054689222218775, 5.9054689222218775, 5.910871677367605, 5.916274432513331, 5.916274432513331, 5.927079942804786, 5.927079942804786, 5.927079942804786, 5.927079942804786, 5.927079942804786, 5.932482697950513, 5.948690963387694, 5.9540937185334215, 5.9540937185334215, 5.959496473679148, 5.959496473679148, 5.964899228824875, 5.975704739116329, 5.975704739116329, 5.981107494262057, 5.981107494262057, 5.986510249407783, 5.986510249407783, 5.991913004553511, 6.002718514844965, 6.008121269990692, 6.008121269990692, 6.018926780282146, 6.0243295354278725, 6.0243295354278725, 6.0297322905736, 6.0297322905736, 6.0297322905736, 6.035135045719327, 6.040537800865054, 6.045940556010781, 6.045940556010781, 6.045940556010781, 6.045940556010781, 6.056746066302235, 6.062148821447963, 6.067551576593689, 6.067551576593689, 6.067551576593689, 6.072954331739417, 6.078357086885144, 6.078357086885144, 6.0837598420308705, 6.0837598420308705, 6.089162597176598, 6.089162597176598, 6.094565352322325, 6.094565352322325, 6.094565352322325, 6.099968107468052, 6.105370862613779, 6.105370862613779, 6.110773617759506, 6.110773617759506, 6.116176372905233, 6.116176372905233, 6.116176372905233, 6.121579128050961, 6.121579128050961, 6.126981883196687, 6.126981883196687, 6.126981883196687, 6.126981883196687, 6.126981883196687, 6.1323846383424145, 6.1323846383424145, 6.1323846383424145, 6.1323846383424145, 6.137787393488141, 6.137787393488141, 6.137787393488141, 6.1431901486338685, 6.1431901486338685, 6.1431901486338685, 6.148592903779596, 6.153995658925322, 6.153995658925322, 6.153995658925322, 6.15939841407105, 6.15939841407105, 6.15939841407105, 6.164801169216776, 6.164801169216776, 6.170203924362504, 6.170203924362504, 6.170203924362504, 6.170203924362504, 6.175606679508231, 6.181009434653959, 6.181009434653959, 6.181009434653959, 6.186412189799685, 6.186412189799685, 6.186412189799685, 6.186412189799685, 6.191814944945412, 6.191814944945412, 6.191814944945412, 6.197217700091139, 6.197217700091139, 6.197217700091139, 6.197217700091139, 6.197217700091139, 6.2026204552368664, 6.2026204552368664, 6.208023210382594, 6.218828720674047, 6.218828720674047, 6.218828720674047, 6.224231475819774, 6.224231475819774, 6.229634230965502, 6.229634230965502, 6.229634230965502, 6.240439741256956, 6.240439741256956, 6.240439741256956, 6.240439741256956, 6.245842496402683, 6.25124525154841, 6.25124525154841, 6.256648006694137, 6.256648006694137, 6.256648006694137, 6.256648006694137, 6.256648006694137, 6.256648006694137, 6.262050761839864, 6.262050761839864, 6.267453516985591, 6.267453516985591, 6.267453516985591, 6.272856272131318, 6.272856272131318, 6.272856272131318, 6.272856272131318, 6.272856272131318, 6.272856272131318, 6.272856272131318, 6.278259027277045, 6.283661782422772, 6.283661782422772, 6.283661782422772, 6.283661782422772, 6.283661782422772, 6.2890645375685, 6.2890645375685, 6.294467292714226, 6.299870047859954, 6.299870047859954, 6.30527280300568, 6.30527280300568, 6.30527280300568, 6.30527280300568, 6.310675558151408, 6.310675558151408, 6.316078313297135, 6.316078313297135, 6.316078313297135, 6.3214810684428615, 6.3214810684428615, 6.3214810684428615, 6.3214810684428615, 6.326883823588589, 6.326883823588589, 6.326883823588589, 6.332286578734315, 6.332286578734315, 6.332286578734315, 6.332286578734315, 6.332286578734315, 6.332286578734315, 6.337689333880043, 6.337689333880043, 6.337689333880043, 6.34309208902577, 6.34309208902577, 6.34309208902577, 6.34309208902577, 6.348494844171497, 6.353897599317224, 6.359300354462952, 6.364703109608678, 6.364703109608678, 6.364703109608678, 6.3701058647544055, 6.3701058647544055, 6.3701058647544055, 6.375508619900132, 6.375508619900132, 6.375508619900132, 6.375508619900132, 6.3809113750458595, 6.386314130191587, 6.386314130191587, 6.397119640483041, 6.397119640483041, 6.397119640483041, 6.402522395628767, 6.402522395628767, 6.402522395628767, 6.407925150774495, 6.407925150774495, 6.407925150774495, 6.413327905920222, 6.413327905920222, 6.418730661065949, 6.418730661065949, 6.418730661065949, 6.424133416211676, 6.424133416211676, 6.424133416211676, 6.43493892650313, 6.43493892650313, 6.43493892650313, 6.43493892650313, 6.43493892650313, 6.4403416816488575, 6.451147191940311, 6.4997719882518545, 6.510577498543309, 6.510577498543309, 6.521383008834763, 6.521383008834763, 6.521383008834763, 6.52678576398049, 6.542994029417672, 6.548396784563399, 6.548396784563399, 6.570007805146307, 6.570007805146307, 6.570007805146307, 6.591618825729215, 6.591618825729215, 6.597021580874943, 6.602424336020669, 6.6186326014578505, 6.6186326014578505, 6.629438111749304, 6.634840866895032, 6.634840866895032, 6.634840866895032, 6.651049132332213, 6.65645188747794, 6.672660152915121, 6.683465663206576, 6.683465663206576, 6.694271173498029, 6.699673928643756, 6.710479438935211, 6.710479438935211, 6.710479438935211, 6.721284949226665, 6.732090459518119, 6.742895969809573, 6.759104235246754, 6.764506990392482, 6.769909745538208, 6.78611801097539, 6.791520766121117, 6.791520766121117, 6.7969235212668435, 6.813131786704025, 6.813131786704025, 6.82393729699548, 6.84014556243266, 6.850951072724115, 6.861756583015568, 6.867159338161295, 6.872562093307023, 6.872562093307023, 6.87796484845275, 6.87796484845275, 6.883367603598477, 6.888770358744203, 6.888770358744203, 6.910381379327112, 6.953603420492929, 6.96981168593011, 6.96981168593011, 6.96981168593011, 6.980617196221564, 6.986019951367291, 7.029241992533107, 7.0346447476788345, 7.040047502824562, 7.040047502824562, 7.050853013116016, 7.056255768261742, 7.083269543990378, 7.0940750542818325, 7.09947780942756, 7.11568607486474, 7.131894340301922, 7.175116381467738, 7.234546688070736, 7.315588015256642, 7.33719903583955, 7.369615566713913, 7.396629342442548, 7.412837607879729, 7.4506568938998186, 7.461462404191273, 7.504684445357089, 7.537100976231452, 7.5695175071058145, 7.607336793125904, 7.693780875457536, 7.720794651186171, 7.785627712934897, 7.785627712934897, 7.785627712934897, 7.785627712934897, 7.785627712934897, 7.785627712934897, 7.785627712934897, 7.785627712934897, 7.785627712934897, 7.785627712934897, 7.785627712934897, 7.785627712934897, 7.785627712934897], \"yaxis\": \"y\"}],\n",
              "                        {\"legend\": {\"tracegroupgap\": 0}, \"template\": {\"data\": {\"bar\": [{\"error_x\": {\"color\": \"#2a3f5f\"}, \"error_y\": {\"color\": \"#2a3f5f\"}, \"marker\": {\"line\": {\"color\": \"#E5ECF6\", \"width\": 0.5}}, \"type\": \"bar\"}], \"barpolar\": [{\"marker\": {\"line\": {\"color\": \"#E5ECF6\", \"width\": 0.5}}, \"type\": \"barpolar\"}], \"carpet\": [{\"aaxis\": {\"endlinecolor\": \"#2a3f5f\", \"gridcolor\": \"white\", \"linecolor\": \"white\", \"minorgridcolor\": \"white\", \"startlinecolor\": \"#2a3f5f\"}, \"baxis\": {\"endlinecolor\": \"#2a3f5f\", \"gridcolor\": \"white\", \"linecolor\": \"white\", \"minorgridcolor\": \"white\", \"startlinecolor\": \"#2a3f5f\"}, \"type\": \"carpet\"}], \"choropleth\": [{\"colorbar\": {\"outlinewidth\": 0, \"ticks\": \"\"}, \"type\": \"choropleth\"}], \"contour\": [{\"colorbar\": {\"outlinewidth\": 0, \"ticks\": \"\"}, \"colorscale\": [[0.0, \"#0d0887\"], [0.1111111111111111, \"#46039f\"], [0.2222222222222222, \"#7201a8\"], [0.3333333333333333, \"#9c179e\"], [0.4444444444444444, \"#bd3786\"], [0.5555555555555556, \"#d8576b\"], [0.6666666666666666, \"#ed7953\"], [0.7777777777777778, \"#fb9f3a\"], [0.8888888888888888, \"#fdca26\"], [1.0, \"#f0f921\"]], \"type\": \"contour\"}], \"contourcarpet\": [{\"colorbar\": {\"outlinewidth\": 0, \"ticks\": \"\"}, \"type\": \"contourcarpet\"}], \"heatmap\": [{\"colorbar\": {\"outlinewidth\": 0, \"ticks\": \"\"}, \"colorscale\": [[0.0, \"#0d0887\"], [0.1111111111111111, \"#46039f\"], [0.2222222222222222, \"#7201a8\"], [0.3333333333333333, \"#9c179e\"], [0.4444444444444444, \"#bd3786\"], [0.5555555555555556, \"#d8576b\"], [0.6666666666666666, \"#ed7953\"], [0.7777777777777778, \"#fb9f3a\"], [0.8888888888888888, \"#fdca26\"], [1.0, \"#f0f921\"]], \"type\": \"heatmap\"}], \"heatmapgl\": [{\"colorbar\": {\"outlinewidth\": 0, \"ticks\": \"\"}, \"colorscale\": [[0.0, \"#0d0887\"], [0.1111111111111111, \"#46039f\"], [0.2222222222222222, \"#7201a8\"], [0.3333333333333333, \"#9c179e\"], [0.4444444444444444, \"#bd3786\"], [0.5555555555555556, \"#d8576b\"], [0.6666666666666666, \"#ed7953\"], [0.7777777777777778, \"#fb9f3a\"], [0.8888888888888888, \"#fdca26\"], [1.0, \"#f0f921\"]], \"type\": \"heatmapgl\"}], \"histogram\": [{\"marker\": {\"colorbar\": {\"outlinewidth\": 0, \"ticks\": \"\"}}, \"type\": \"histogram\"}], \"histogram2d\": [{\"colorbar\": {\"outlinewidth\": 0, \"ticks\": \"\"}, \"colorscale\": [[0.0, \"#0d0887\"], [0.1111111111111111, \"#46039f\"], [0.2222222222222222, \"#7201a8\"], [0.3333333333333333, \"#9c179e\"], [0.4444444444444444, \"#bd3786\"], [0.5555555555555556, \"#d8576b\"], [0.6666666666666666, \"#ed7953\"], [0.7777777777777778, \"#fb9f3a\"], [0.8888888888888888, \"#fdca26\"], [1.0, \"#f0f921\"]], \"type\": \"histogram2d\"}], \"histogram2dcontour\": [{\"colorbar\": {\"outlinewidth\": 0, \"ticks\": \"\"}, \"colorscale\": [[0.0, \"#0d0887\"], [0.1111111111111111, \"#46039f\"], [0.2222222222222222, \"#7201a8\"], [0.3333333333333333, \"#9c179e\"], [0.4444444444444444, \"#bd3786\"], [0.5555555555555556, \"#d8576b\"], [0.6666666666666666, \"#ed7953\"], [0.7777777777777778, \"#fb9f3a\"], [0.8888888888888888, \"#fdca26\"], [1.0, \"#f0f921\"]], \"type\": \"histogram2dcontour\"}], \"mesh3d\": [{\"colorbar\": {\"outlinewidth\": 0, \"ticks\": \"\"}, \"type\": \"mesh3d\"}], \"parcoords\": [{\"line\": {\"colorbar\": {\"outlinewidth\": 0, \"ticks\": \"\"}}, \"type\": \"parcoords\"}], \"pie\": [{\"automargin\": true, \"type\": \"pie\"}], \"scatter\": [{\"marker\": {\"colorbar\": {\"outlinewidth\": 0, \"ticks\": \"\"}}, \"type\": \"scatter\"}], \"scatter3d\": [{\"line\": {\"colorbar\": {\"outlinewidth\": 0, \"ticks\": \"\"}}, \"marker\": {\"colorbar\": {\"outlinewidth\": 0, \"ticks\": \"\"}}, \"type\": \"scatter3d\"}], \"scattercarpet\": [{\"marker\": {\"colorbar\": {\"outlinewidth\": 0, \"ticks\": \"\"}}, \"type\": \"scattercarpet\"}], \"scattergeo\": [{\"marker\": {\"colorbar\": {\"outlinewidth\": 0, \"ticks\": \"\"}}, \"type\": \"scattergeo\"}], \"scattergl\": [{\"marker\": {\"colorbar\": {\"outlinewidth\": 0, \"ticks\": \"\"}}, \"type\": \"scattergl\"}], \"scattermapbox\": [{\"marker\": {\"colorbar\": {\"outlinewidth\": 0, \"ticks\": \"\"}}, \"type\": \"scattermapbox\"}], \"scatterpolar\": [{\"marker\": {\"colorbar\": {\"outlinewidth\": 0, \"ticks\": \"\"}}, \"type\": \"scatterpolar\"}], \"scatterpolargl\": [{\"marker\": {\"colorbar\": {\"outlinewidth\": 0, \"ticks\": \"\"}}, \"type\": \"scatterpolargl\"}], \"scatterternary\": [{\"marker\": {\"colorbar\": {\"outlinewidth\": 0, \"ticks\": \"\"}}, \"type\": \"scatterternary\"}], \"surface\": [{\"colorbar\": {\"outlinewidth\": 0, \"ticks\": \"\"}, \"colorscale\": [[0.0, \"#0d0887\"], [0.1111111111111111, \"#46039f\"], [0.2222222222222222, \"#7201a8\"], [0.3333333333333333, \"#9c179e\"], [0.4444444444444444, \"#bd3786\"], [0.5555555555555556, \"#d8576b\"], [0.6666666666666666, \"#ed7953\"], [0.7777777777777778, \"#fb9f3a\"], [0.8888888888888888, \"#fdca26\"], [1.0, \"#f0f921\"]], \"type\": \"surface\"}], \"table\": [{\"cells\": {\"fill\": {\"color\": \"#EBF0F8\"}, \"line\": {\"color\": \"white\"}}, \"header\": {\"fill\": {\"color\": \"#C8D4E3\"}, \"line\": {\"color\": \"white\"}}, \"type\": \"table\"}]}, \"layout\": {\"annotationdefaults\": {\"arrowcolor\": \"#2a3f5f\", \"arrowhead\": 0, \"arrowwidth\": 1}, \"coloraxis\": {\"colorbar\": {\"outlinewidth\": 0, \"ticks\": \"\"}}, \"colorscale\": {\"diverging\": [[0, \"#8e0152\"], [0.1, \"#c51b7d\"], [0.2, \"#de77ae\"], [0.3, \"#f1b6da\"], [0.4, \"#fde0ef\"], [0.5, \"#f7f7f7\"], [0.6, \"#e6f5d0\"], [0.7, \"#b8e186\"], [0.8, \"#7fbc41\"], [0.9, \"#4d9221\"], [1, \"#276419\"]], \"sequential\": [[0.0, \"#0d0887\"], [0.1111111111111111, \"#46039f\"], [0.2222222222222222, \"#7201a8\"], [0.3333333333333333, \"#9c179e\"], [0.4444444444444444, \"#bd3786\"], [0.5555555555555556, \"#d8576b\"], [0.6666666666666666, \"#ed7953\"], [0.7777777777777778, \"#fb9f3a\"], [0.8888888888888888, \"#fdca26\"], [1.0, \"#f0f921\"]], \"sequentialminus\": [[0.0, \"#0d0887\"], [0.1111111111111111, \"#46039f\"], [0.2222222222222222, \"#7201a8\"], [0.3333333333333333, \"#9c179e\"], [0.4444444444444444, \"#bd3786\"], [0.5555555555555556, \"#d8576b\"], [0.6666666666666666, \"#ed7953\"], [0.7777777777777778, \"#fb9f3a\"], [0.8888888888888888, \"#fdca26\"], [1.0, \"#f0f921\"]]}, \"colorway\": [\"#636efa\", \"#EF553B\", \"#00cc96\", \"#ab63fa\", \"#FFA15A\", \"#19d3f3\", \"#FF6692\", \"#B6E880\", \"#FF97FF\", \"#FECB52\"], \"font\": {\"color\": \"#2a3f5f\"}, \"geo\": {\"bgcolor\": \"white\", \"lakecolor\": \"white\", \"landcolor\": \"#E5ECF6\", \"showlakes\": true, \"showland\": true, \"subunitcolor\": \"white\"}, \"hoverlabel\": {\"align\": \"left\"}, \"hovermode\": \"closest\", \"mapbox\": {\"style\": \"light\"}, \"paper_bgcolor\": \"white\", \"plot_bgcolor\": \"#E5ECF6\", \"polar\": {\"angularaxis\": {\"gridcolor\": \"white\", \"linecolor\": \"white\", \"ticks\": \"\"}, \"bgcolor\": \"#E5ECF6\", \"radialaxis\": {\"gridcolor\": \"white\", \"linecolor\": \"white\", \"ticks\": \"\"}}, \"scene\": {\"xaxis\": {\"backgroundcolor\": \"#E5ECF6\", \"gridcolor\": \"white\", \"gridwidth\": 2, \"linecolor\": \"white\", \"showbackground\": true, \"ticks\": \"\", \"zerolinecolor\": \"white\"}, \"yaxis\": {\"backgroundcolor\": \"#E5ECF6\", \"gridcolor\": \"white\", \"gridwidth\": 2, \"linecolor\": \"white\", \"showbackground\": true, \"ticks\": \"\", \"zerolinecolor\": \"white\"}, \"zaxis\": {\"backgroundcolor\": \"#E5ECF6\", \"gridcolor\": \"white\", \"gridwidth\": 2, \"linecolor\": \"white\", \"showbackground\": true, \"ticks\": \"\", \"zerolinecolor\": \"white\"}}, \"shapedefaults\": {\"line\": {\"color\": \"#2a3f5f\"}}, \"ternary\": {\"aaxis\": {\"gridcolor\": \"white\", \"linecolor\": \"white\", \"ticks\": \"\"}, \"baxis\": {\"gridcolor\": \"white\", \"linecolor\": \"white\", \"ticks\": \"\"}, \"bgcolor\": \"#E5ECF6\", \"caxis\": {\"gridcolor\": \"white\", \"linecolor\": \"white\", \"ticks\": \"\"}}, \"title\": {\"x\": 0.05}, \"xaxis\": {\"automargin\": true, \"gridcolor\": \"white\", \"linecolor\": \"white\", \"ticks\": \"\", \"title\": {\"standoff\": 15}, \"zerolinecolor\": \"white\", \"zerolinewidth\": 2}, \"yaxis\": {\"automargin\": true, \"gridcolor\": \"white\", \"linecolor\": \"white\", \"ticks\": \"\", \"title\": {\"standoff\": 15}, \"zerolinecolor\": \"white\", \"zerolinewidth\": 2}}}, \"title\": {\"text\": \"Correlation between home value and avg number of rooms\"}, \"xaxis\": {\"anchor\": \"y\", \"domain\": [0.0, 1.0], \"title\": {\"text\": \"Median value of owner-occupied homes in $1000s\"}}, \"yaxis\": {\"anchor\": \"x\", \"domain\": [0.0, 1.0], \"title\": {\"text\": \"average number of rooms per dwelling\"}}},\n",
              "                        {\"responsive\": true}\n",
              "                    ).then(function(){\n",
              "                            \n",
              "var gd = document.getElementById('29fd7c68-def7-435e-a45d-ae78204a0135');\n",
              "var x = new MutationObserver(function (mutations, observer) {{\n",
              "        var display = window.getComputedStyle(gd).display;\n",
              "        if (!display || display === 'none') {{\n",
              "            console.log([gd, 'removed!']);\n",
              "            Plotly.purge(gd);\n",
              "            observer.disconnect();\n",
              "        }}\n",
              "}});\n",
              "\n",
              "// Listen for the removal of the full notebook cells\n",
              "var notebookContainer = gd.closest('#notebook-container');\n",
              "if (notebookContainer) {{\n",
              "    x.observe(notebookContainer, {childList: true});\n",
              "}}\n",
              "\n",
              "// Listen for the clearing of the current output cell\n",
              "var outputEl = gd.closest('.output');\n",
              "if (outputEl) {{\n",
              "    x.observe(outputEl, {childList: true});\n",
              "}}\n",
              "\n",
              "                        })\n",
              "                };\n",
              "                \n",
              "            </script>\n",
              "        </div>\n",
              "</body>\n",
              "</html>"
            ]
          },
          "metadata": {
            "tags": []
          }
        }
      ]
    },
    {
      "cell_type": "code",
      "metadata": {
        "id": "8_asYM6ss64P",
        "colab_type": "code",
        "colab": {
          "base_uri": "https://localhost:8080/",
          "height": 542
        },
        "outputId": "7ea30fcc-d73c-477e-d671-df6bad05d79b"
      },
      "source": [
        "import pandas as pd\n",
        "import plotly.express as px\n",
        "\n",
        "px.scatter(\n",
        "    train,\n",
        "    x='Median value of owner-occupied homes in $1000s',\n",
        "    y='% lower status of the population',\n",
        "    \n",
        "    title='Correlation between home value and % lower status of the population',\n",
        "    trendline='ols',)  # Ordinary Least Squares\n",
        "\n",
        "    #There is an inverse relationship between these two variables from the figure given below"
      ],
      "execution_count": 20,
      "outputs": [
        {
          "output_type": "display_data",
          "data": {
            "text/html": [
              "<html>\n",
              "<head><meta charset=\"utf-8\" /></head>\n",
              "<body>\n",
              "    <div>\n",
              "            <script src=\"https://cdnjs.cloudflare.com/ajax/libs/mathjax/2.7.5/MathJax.js?config=TeX-AMS-MML_SVG\"></script><script type=\"text/javascript\">if (window.MathJax) {MathJax.Hub.Config({SVG: {font: \"STIX-Web\"}});}</script>\n",
              "                <script type=\"text/javascript\">window.PlotlyConfig = {MathJaxConfig: 'local'};</script>\n",
              "        <script src=\"https://cdn.plot.ly/plotly-latest.min.js\"></script>    \n",
              "            <div id=\"f9dfbb47-d4d6-496f-a55c-57b61b2e960a\" class=\"plotly-graph-div\" style=\"height:525px; width:100%;\"></div>\n",
              "            <script type=\"text/javascript\">\n",
              "                \n",
              "                    window.PLOTLYENV=window.PLOTLYENV || {};\n",
              "                    \n",
              "                if (document.getElementById(\"f9dfbb47-d4d6-496f-a55c-57b61b2e960a\")) {\n",
              "                    Plotly.newPlot(\n",
              "                        'f9dfbb47-d4d6-496f-a55c-57b61b2e960a',\n",
              "                        [{\"hoverlabel\": {\"namelength\": 0}, \"hovertemplate\": \"Median value of owner-occupied homes in $1000s=%{x}<br>% lower status of the population=%{y}\", \"legendgroup\": \"\", \"marker\": {\"color\": \"#636efa\", \"symbol\": \"circle\"}, \"mode\": \"markers\", \"name\": \"\", \"showlegend\": false, \"type\": \"scatter\", \"x\": [12.0, 19.9, 19.4, 13.4, 18.2, 24.6, 21.1, 24.7, 8.7, 27.5, 20.7, 36.2, 31.6, 11.7, 39.8, 13.9, 21.8, 23.7, 17.6, 24.4, 8.8, 19.2, 25.3, 20.4, 23.1, 37.9, 15.6, 45.4, 15.7, 22.6, 14.5, 18.7, 17.8, 16.1, 20.6, 31.6, 29.1, 15.6, 17.5, 22.5, 19.4, 19.3, 8.5, 20.6, 17.0, 17.1, 14.5, 50.0, 14.3, 12.6, 28.7, 21.2, 19.3, 23.1, 19.1, 25.0, 33.4, 5.0, 29.6, 18.7, 21.7, 23.1, 22.8, 21.0, 48.8, 14.6, 16.6, 27.1, 20.1, 19.8, 21.0, 41.3, 23.2, 20.4, 18.5, 29.4, 36.4, 24.4, 11.8, 13.8, 12.3, 17.8, 33.1, 26.7, 13.4, 14.4, 50.0, 22.0, 19.9, 23.8, 17.5, 12.7, 5.6, 31.1, 26.2, 19.4, 16.7, 13.8, 22.9, 15.3, 27.5, 36.1, 22.9, 24.5, 25.0, 50.0, 34.9, 31.7, 24.1, 22.1, 14.1, 42.8, 19.3, 32.2, 26.4, 21.8, 21.7, 8.3, 46.7, 43.1, 31.5, 10.5, 16.7, 20.0, 33.3, 17.8, 50.0, 20.5, 23.2, 13.1, 19.6, 22.8, 28.7, 30.7, 22.9, 21.9, 23.9, 32.7, 24.3, 21.5, 24.6, 8.5, 26.4, 23.1, 15.0, 8.8, 19.3, 23.9, 24.7, 19.8, 23.8, 13.3, 29.0, 27.1, 34.6, 13.3, 15.6, 12.5, 14.6, 11.0, 24.8, 17.3, 8.1, 21.4, 15.6, 23.3, 32.0, 38.7, 30.1, 20.5, 32.5, 42.3, 24.3, 20.6, 22.0, 18.2, 15.0, 6.3, 20.1, 21.4, 28.4, 30.1, 20.8, 23.0, 14.3, 11.7, 37.3, 17.1, 10.4, 23.0, 22.7, 20.3, 21.7, 50.0, 8.4, 18.8, 37.2, 16.1, 16.5, 22.2, 20.6, 13.5, 48.3, 23.8, 22.7, 17.4, 30.3, 36.0, 41.7, 18.3, 22.0, 18.6, 44.8, 11.9, 18.7, 16.2, 22.0, 7.2, 20.4, 13.8, 13.0, 18.4, 23.1, 21.2, 23.1, 23.5, 50.0, 26.6, 22.2, 50.0, 8.3, 23.3, 21.7, 18.9, 18.4, 17.4, 13.4, 12.1, 26.6, 21.7, 28.4, 20.5, 22.0, 13.9, 11.3, 29.9, 26.6, 10.5, 23.2, 24.4, 46.0, 21.9, 7.5, 36.2, 44.0, 17.8, 27.5, 37.6, 14.1, 28.1, 10.2, 19.1, 43.8, 27.9, 25.0, 16.0, 16.6, 13.2, 50.0, 22.2, 32.9, 15.2, 14.8, 13.8, 24.3, 33.8, 22.3, 50.0, 9.5, 13.3, 22.2, 18.1, 18.0, 25.0, 16.5, 23.0, 20.1, 33.0, 24.8, 18.2, 13.1, 34.9, 10.2, 19.9, 27.9, 23.3, 35.1, 12.8, 22.0, 18.5, 25.1, 22.5, 22.4, 28.6, 19.5, 24.8, 24.5, 21.4, 33.1, 22.9, 20.7, 24.1, 50.0, 24.7, 28.7, 7.2, 37.0, 20.3, 30.1, 19.5, 23.4, 11.5, 21.6, 14.9, 15.2, 19.4, 8.4, 28.0, 22.6, 13.5, 14.5, 31.0, 10.9, 21.9, 22.0, 19.0, 21.4, 25.0, 17.5, 36.5, 20.1, 20.4, 16.2, 23.6, 7.4, 35.2, 50.0, 19.3, 21.2, 15.6, 33.4, 19.1, 21.0, 23.7, 18.9, 16.8, 19.7, 17.7, 22.6, 11.8, 34.9, 20.6, 20.2, 32.0, 22.3, 23.3, 14.4, 31.2, 24.0, 29.6, 19.6, 21.6, 20.0, 27.0, 33.2, 15.4, 30.5, 7.2, 23.9, 16.3, 23.9, 50.0, 22.8, 15.4, 19.2, 19.6, 22.6, 33.2, 50.0, 22.2, 14.9, 19.8, 23.7, 19.0, 20.3, 11.9, 13.6, 29.8, 21.7, 19.5, 21.1, 24.5, 13.4, 18.6], \"xaxis\": \"x\", \"y\": [24.91, 8.47, 7.83, 23.29, 11.28, 5.08, 8.01, 5.77, 26.45, 19.78, 6.75, 9.45, 6.36, 15.17, 7.56, 16.51, 12.01, 6.36, 12.5, 5.9, 20.62, 10.3, 5.81, 7.7, 6.36, 4.82, 15.02, 3.76, 27.26, 7.34, 13.04, 17.09, 28.32, 12.03, 8.51, 3.95, 4.38, 16.3, 14.67, 4.97, 10.24, 23.98, 27.38, 10.59, 15.12, 19.52, 19.88, 4.63, 16.22, 16.44, 5.21, 12.04, 10.21, 6.58, 18.13, 7.79, 2.94, 22.98, 13.15, 13.15, 13.0, 6.87, 10.45, 11.98, 5.91, 18.03, 14.81, 19.15, 13.35, 12.27, 8.77, 4.59, 14.36, 15.37, 10.45, 5.33, 2.87, 7.73, 29.29, 34.77, 24.56, 17.6, 4.16, 9.71, 17.44, 34.41, 3.73, 8.1, 14.19, 11.1, 15.1, 16.35, 26.77, 5.03, 6.56, 15.55, 15.02, 27.8, 8.16, 12.12, 9.93, 6.93, 7.51, 9.52, 9.81, 3.32, 4.56, 5.25, 6.78, 5.98, 18.13, 3.54, 13.61, 7.85, 8.67, 10.42, 13.27, 19.77, 3.92, 7.26, 4.73, 28.28, 18.68, 11.41, 4.08, 18.46, 3.26, 10.15, 7.14, 23.69, 9.22, 10.16, 5.7, 14.79, 12.43, 5.29, 5.64, 5.49, 6.43, 14.1, 6.29, 19.92, 13.98, 10.36, 20.45, 30.63, 13.44, 7.22, 10.13, 15.94, 12.14, 24.1, 4.74, 7.39, 6.62, 21.24, 16.65, 19.37, 29.53, 21.52, 9.51, 25.41, 29.68, 11.34, 26.42, 7.37, 2.98, 4.21, 4.5, 17.93, 5.68, 3.11, 9.16, 13.34, 9.5, 8.05, 10.11, 29.97, 12.93, 14.81, 8.93, 7.6, 14.1, 10.5, 18.34, 17.16, 3.56, 12.43, 17.21, 10.74, 11.48, 15.84, 10.4, 2.96, 34.02, 16.21, 5.04, 12.64, 8.65, 5.68, 11.45, 16.94, 3.95, 9.28, 11.64, 16.9, 8.61, 7.79, 2.47, 15.76, 14.37, 7.79, 4.14, 23.34, 9.29, 17.19, 8.23, 29.05, 14.09, 37.97, 19.31, 15.03, 13.33, 9.55, 17.6, 4.67, 3.16, 6.53, 11.22, 4.45, 24.39, 7.39, 15.71, 9.68, 12.8, 14.43, 26.82, 20.31, 5.89, 21.46, 6.65, 9.43, 11.38, 23.24, 23.6, 6.92, 4.84, 22.11, 18.76, 10.97, 3.01, 6.57, 25.79, 5.33, 3.11, 16.74, 9.42, 3.13, 19.69, 9.38, 15.69, 12.03, 3.57, 4.7, 9.47, 14.44, 18.8, 27.71, 7.44, 12.79, 4.45, 17.73, 17.28, 15.17, 11.65, 9.59, 7.6, 1.92, 24.08, 21.32, 6.73, 16.96, 15.39, 7.01, 29.93, 6.15, 14.76, 8.05, 6.07, 10.26, 16.14, 1.98, 21.78, 14.13, 12.13, 13.51, 4.85, 22.88, 6.48, 10.56, 9.54, 18.06, 16.03, 6.27, 13.99, 3.59, 13.59, 13.22, 4.86, 5.98, 13.65, 7.43, 1.73, 7.44, 9.69, 20.32, 5.1, 9.97, 6.9, 16.47, 8.43, 20.85, 9.14, 17.79, 18.06, 16.2, 22.74, 5.29, 10.87, 20.34, 17.64, 11.25, 14.52, 14.0, 8.2, 9.74, 13.11, 5.28, 10.53, 8.1, 12.4, 8.26, 11.5, 5.5, 31.99, 6.58, 3.7, 9.97, 12.92, 17.31, 6.47, 14.98, 12.73, 5.19, 14.8, 14.64, 13.45, 14.65, 9.64, 23.98, 5.39, 9.08, 10.29, 6.68, 11.32, 6.86, 30.81, 4.61, 10.88, 3.53, 13.83, 7.9, 14.7, 5.5, 6.05, 18.85, 4.69, 30.81, 8.58, 20.08, 7.18, 5.12, 4.54, 21.45, 12.6, 13.28, 12.67, 6.19, 8.88, 8.44, 16.23, 9.09, 29.55, 17.15, 14.27, 7.88, 21.02, 4.56, 9.88, 18.66, 13.0, 5.99, 23.27, 10.63], \"yaxis\": \"y\"}, {\"hoverlabel\": {\"namelength\": 0}, \"hovertemplate\": \"<b>OLS trendline</b><br>% lower status of the population = -0.561098 * Median value of owner-occupied homes in $1000s + 25.248430<br>R<sup>2</sup>=0.542318<br><br>Median value of owner-occupied homes in $1000s=%{x}<br>% lower status of the population=%{y} <b>(trend)</b>\", \"legendgroup\": \"\", \"marker\": {\"color\": \"#636efa\", \"symbol\": \"circle\"}, \"mode\": \"lines\", \"name\": \"\", \"showlegend\": false, \"type\": \"scatter\", \"x\": [5.0, 5.6, 6.3, 7.2, 7.2, 7.2, 7.4, 7.5, 8.1, 8.3, 8.3, 8.4, 8.4, 8.5, 8.5, 8.7, 8.8, 8.8, 9.5, 10.2, 10.2, 10.4, 10.5, 10.5, 10.9, 11.0, 11.3, 11.5, 11.7, 11.7, 11.8, 11.8, 11.9, 11.9, 12.0, 12.1, 12.3, 12.5, 12.6, 12.7, 12.8, 13.0, 13.1, 13.1, 13.2, 13.3, 13.3, 13.3, 13.4, 13.4, 13.4, 13.4, 13.5, 13.5, 13.6, 13.8, 13.8, 13.8, 13.8, 13.9, 13.9, 14.1, 14.1, 14.3, 14.3, 14.4, 14.4, 14.5, 14.5, 14.5, 14.6, 14.6, 14.8, 14.9, 14.9, 15.0, 15.0, 15.2, 15.2, 15.3, 15.4, 15.4, 15.6, 15.6, 15.6, 15.6, 15.6, 15.7, 16.0, 16.1, 16.1, 16.2, 16.2, 16.3, 16.5, 16.5, 16.6, 16.6, 16.7, 16.7, 16.8, 17.0, 17.1, 17.1, 17.3, 17.4, 17.4, 17.5, 17.5, 17.5, 17.6, 17.7, 17.8, 17.8, 17.8, 17.8, 18.0, 18.1, 18.2, 18.2, 18.2, 18.3, 18.4, 18.4, 18.5, 18.5, 18.6, 18.6, 18.7, 18.7, 18.7, 18.8, 18.9, 18.9, 19.0, 19.0, 19.1, 19.1, 19.1, 19.2, 19.2, 19.3, 19.3, 19.3, 19.3, 19.3, 19.4, 19.4, 19.4, 19.4, 19.5, 19.5, 19.5, 19.6, 19.6, 19.6, 19.7, 19.8, 19.8, 19.8, 19.9, 19.9, 19.9, 20.0, 20.0, 20.1, 20.1, 20.1, 20.1, 20.2, 20.3, 20.3, 20.3, 20.4, 20.4, 20.4, 20.4, 20.5, 20.5, 20.5, 20.6, 20.6, 20.6, 20.6, 20.6, 20.7, 20.7, 20.8, 21.0, 21.0, 21.0, 21.1, 21.1, 21.2, 21.2, 21.2, 21.4, 21.4, 21.4, 21.4, 21.5, 21.6, 21.6, 21.7, 21.7, 21.7, 21.7, 21.7, 21.7, 21.8, 21.8, 21.9, 21.9, 21.9, 22.0, 22.0, 22.0, 22.0, 22.0, 22.0, 22.0, 22.1, 22.2, 22.2, 22.2, 22.2, 22.2, 22.3, 22.3, 22.4, 22.5, 22.5, 22.6, 22.6, 22.6, 22.6, 22.7, 22.7, 22.8, 22.8, 22.8, 22.9, 22.9, 22.9, 22.9, 23.0, 23.0, 23.0, 23.1, 23.1, 23.1, 23.1, 23.1, 23.1, 23.2, 23.2, 23.2, 23.3, 23.3, 23.3, 23.3, 23.4, 23.5, 23.6, 23.7, 23.7, 23.7, 23.8, 23.8, 23.8, 23.9, 23.9, 23.9, 23.9, 24.0, 24.1, 24.1, 24.3, 24.3, 24.3, 24.4, 24.4, 24.4, 24.5, 24.5, 24.5, 24.6, 24.6, 24.7, 24.7, 24.7, 24.8, 24.8, 24.8, 25.0, 25.0, 25.0, 25.0, 25.0, 25.1, 25.3, 26.2, 26.4, 26.4, 26.6, 26.6, 26.6, 26.7, 27.0, 27.1, 27.1, 27.5, 27.5, 27.5, 27.9, 27.9, 28.0, 28.1, 28.4, 28.4, 28.6, 28.7, 28.7, 28.7, 29.0, 29.1, 29.4, 29.6, 29.6, 29.8, 29.9, 30.1, 30.1, 30.1, 30.3, 30.5, 30.7, 31.0, 31.1, 31.2, 31.5, 31.6, 31.6, 31.7, 32.0, 32.0, 32.2, 32.5, 32.7, 32.9, 33.0, 33.1, 33.1, 33.2, 33.2, 33.3, 33.4, 33.4, 33.8, 34.6, 34.9, 34.9, 34.9, 35.1, 35.2, 36.0, 36.1, 36.2, 36.2, 36.4, 36.5, 37.0, 37.2, 37.3, 37.6, 37.9, 38.7, 39.8, 41.3, 41.7, 42.3, 42.8, 43.1, 43.8, 44.0, 44.8, 45.4, 46.0, 46.7, 48.3, 48.8, 50.0, 50.0, 50.0, 50.0, 50.0, 50.0, 50.0, 50.0, 50.0, 50.0, 50.0, 50.0, 50.0], \"xaxis\": \"x\", \"y\": [22.442942601170202, 22.10628410072184, 21.713515850198746, 21.208528099526198, 21.208528099526198, 21.208528099526198, 21.096308599376744, 21.04019884930202, 20.703540348853654, 20.5913208487042, 20.5913208487042, 20.53521109862947, 20.53521109862947, 20.479101348554742, 20.479101348554742, 20.36688184840529, 20.31077209833056, 20.31077209833056, 19.91800384780747, 19.52523559728438, 19.52523559728438, 19.41301609713492, 19.356906347060196, 19.356906347060196, 19.132467346761285, 19.076357596686556, 18.908028346462373, 18.795808846312923, 18.683589346163465, 18.683589346163465, 18.62747959608874, 18.62747959608874, 18.57136984601401, 18.57136984601401, 18.515260095939283, 18.459150345864558, 18.3469308457151, 18.234711345565646, 18.178601595490917, 18.122491845416192, 18.066382095341464, 17.95416259519201, 17.89805284511728, 17.89805284511728, 17.841943095042556, 17.785833344967827, 17.785833344967827, 17.785833344967827, 17.7297235948931, 17.7297235948931, 17.7297235948931, 17.7297235948931, 17.673613844818373, 17.673613844818373, 17.617504094743644, 17.50528459459419, 17.50528459459419, 17.50528459459419, 17.50528459459419, 17.44917484451946, 17.44917484451946, 17.336955344370008, 17.336955344370008, 17.224735844220554, 17.224735844220554, 17.168626094145825, 17.168626094145825, 17.112516344071096, 17.112516344071096, 17.112516344071096, 17.05640659399637, 17.05640659399637, 16.944187093846914, 16.88807734377219, 16.88807734377219, 16.831967593697463, 16.831967593697463, 16.719748093548006, 16.719748093548006, 16.66363834347328, 16.60752859339855, 16.60752859339855, 16.495309093249098, 16.495309093249098, 16.495309093249098, 16.495309093249098, 16.495309093249098, 16.43919934317437, 16.270870092950187, 16.214760342875458, 16.214760342875458, 16.158650592800733, 16.158650592800733, 16.102540842726004, 15.99032134257655, 15.99032134257655, 15.934211592501821, 15.934211592501821, 15.878101842427094, 15.878101842427094, 15.821992092352367, 15.709772592202912, 15.653662842128185, 15.653662842128185, 15.541443341978729, 15.485333591904004, 15.485333591904004, 15.429223841829275, 15.429223841829275, 15.429223841829275, 15.373114091754546, 15.317004341679821, 15.260894591605092, 15.260894591605092, 15.260894591605092, 15.260894591605092, 15.148675091455639, 15.09256534138091, 15.036455591306183, 15.036455591306183, 15.036455591306183, 14.980345841231456, 14.924236091156729, 14.924236091156729, 14.868126341082, 14.868126341082, 14.812016591007273, 14.812016591007273, 14.755906840932546, 14.755906840932546, 14.755906840932546, 14.699797090857817, 14.643687340783092, 14.643687340783092, 14.587577590708364, 14.587577590708364, 14.531467840633635, 14.531467840633635, 14.531467840633635, 14.47535809055891, 14.47535809055891, 14.419248340484181, 14.419248340484181, 14.419248340484181, 14.419248340484181, 14.419248340484181, 14.363138590409456, 14.363138590409456, 14.363138590409456, 14.363138590409456, 14.307028840334727, 14.307028840334727, 14.307028840334727, 14.250919090259998, 14.250919090259998, 14.250919090259998, 14.194809340185273, 14.138699590110544, 14.138699590110544, 14.138699590110544, 14.082589840035817, 14.082589840035817, 14.082589840035817, 14.02648008996109, 14.02648008996109, 13.970370339886362, 13.970370339886362, 13.970370339886362, 13.970370339886362, 13.914260589811635, 13.858150839736906, 13.858150839736906, 13.858150839736906, 13.80204108966218, 13.80204108966218, 13.80204108966218, 13.80204108966218, 13.745931339587452, 13.745931339587452, 13.745931339587452, 13.689821589512723, 13.689821589512723, 13.689821589512723, 13.689821589512723, 13.689821589512723, 13.633711839437998, 13.633711839437998, 13.57760208936327, 13.465382589213815, 13.465382589213815, 13.465382589213815, 13.409272839139087, 13.409272839139087, 13.353163089064362, 13.353163089064362, 13.353163089064362, 13.240943588914906, 13.240943588914906, 13.240943588914906, 13.240943588914906, 13.184833838840179, 13.12872408876545, 13.12872408876545, 13.072614338690723, 13.072614338690723, 13.072614338690723, 13.072614338690723, 13.072614338690723, 13.072614338690723, 13.016504588615996, 13.016504588615996, 12.96039483854127, 12.96039483854127, 12.96039483854127, 12.90428508846654, 12.90428508846654, 12.90428508846654, 12.90428508846654, 12.90428508846654, 12.90428508846654, 12.90428508846654, 12.848175338391814, 12.792065588317087, 12.792065588317087, 12.792065588317087, 12.792065588317087, 12.792065588317087, 12.735955838242358, 12.735955838242358, 12.679846088167633, 12.623736338092904, 12.623736338092904, 12.567626588018175, 12.567626588018175, 12.567626588018175, 12.567626588018175, 12.51151683794345, 12.51151683794345, 12.455407087868721, 12.455407087868721, 12.455407087868721, 12.399297337793994, 12.399297337793994, 12.399297337793994, 12.399297337793994, 12.343187587719267, 12.343187587719267, 12.343187587719267, 12.287077837644539, 12.287077837644539, 12.287077837644539, 12.287077837644539, 12.287077837644539, 12.287077837644539, 12.230968087569812, 12.230968087569812, 12.230968087569812, 12.174858337495085, 12.174858337495085, 12.174858337495085, 12.174858337495085, 12.118748587420358, 12.062638837345629, 12.006529087270902, 11.950419337196175, 11.950419337196175, 11.950419337196175, 11.894309587121446, 11.894309587121446, 11.894309587121446, 11.838199837046721, 11.838199837046721, 11.838199837046721, 11.838199837046721, 11.782090086971992, 11.725980336897264, 11.725980336897264, 11.61376083674781, 11.61376083674781, 11.61376083674781, 11.557651086673083, 11.557651086673083, 11.557651086673083, 11.501541336598356, 11.501541336598356, 11.501541336598356, 11.445431586523627, 11.445431586523627, 11.3893218364489, 11.3893218364489, 11.3893218364489, 11.333212086374173, 11.333212086374173, 11.333212086374173, 11.220992586224718, 11.220992586224718, 11.220992586224718, 11.220992586224718, 11.220992586224718, 11.16488283614999, 11.052663336000535, 10.547675585327989, 10.435456085178535, 10.435456085178535, 10.323236585029079, 10.323236585029079, 10.323236585029079, 10.267126834954352, 10.09879758473017, 10.04268783465544, 10.04268783465544, 9.818248834356533, 9.818248834356533, 9.818248834356533, 9.593809834057623, 9.593809834057623, 9.537700083982894, 9.481590333908168, 9.313261083683987, 9.313261083683987, 9.20104158353453, 9.144931833459804, 9.144931833459804, 9.144931833459804, 8.976602583235621, 8.920492833160893, 8.752163582936713, 8.639944082787256, 8.639944082787256, 8.527724582637802, 8.471614832563073, 8.35939533241362, 8.35939533241362, 8.35939533241362, 8.247175832264166, 8.134956332114708, 8.022736831965254, 7.8544075817410715, 7.798297831666343, 7.7421880815916175, 7.573858831367435, 7.517749081292706, 7.517749081292706, 7.461639331217981, 7.293310080993798, 7.293310080993798, 7.181090580844341, 7.012761330620162, 6.900541830470704, 6.788322330321254, 6.732212580246525, 6.676102830171796, 6.676102830171796, 6.619993080097068, 6.619993080097068, 6.5638833300223425, 6.507773579947614, 6.507773579947614, 6.283334579648706, 5.834456579050883, 5.666127328826704, 5.666127328826704, 5.666127328826704, 5.5539078286772465, 5.497798078602518, 5.048920078004702, 4.992810327929973, 4.936700577855245, 4.936700577855245, 4.824481077705791, 4.7683713276310655, 4.487822577257425, 4.3756030771079715, 4.319493327033246, 4.15116407680906, 3.982834826584881, 3.533956825987058, 2.91674957516506, 2.07510332404415, 1.8506643237452352, 1.5140058232968734, 1.2334570729232368, 1.0651278226990541, 0.6723595721759636, 0.5601400720265062, 0.11126207142869049, -0.22539642901967483, -0.5620549294680401, -0.9548231799911342, -1.8525791811867691, -2.1331279315604093, -2.80644493245714, -2.80644493245714, -2.80644493245714, -2.80644493245714, -2.80644493245714, -2.80644493245714, -2.80644493245714, -2.80644493245714, -2.80644493245714, -2.80644493245714, -2.80644493245714, -2.80644493245714, -2.80644493245714], \"yaxis\": \"y\"}],\n",
              "                        {\"legend\": {\"tracegroupgap\": 0}, \"template\": {\"data\": {\"bar\": [{\"error_x\": {\"color\": \"#2a3f5f\"}, \"error_y\": {\"color\": \"#2a3f5f\"}, \"marker\": {\"line\": {\"color\": \"#E5ECF6\", \"width\": 0.5}}, \"type\": \"bar\"}], \"barpolar\": [{\"marker\": {\"line\": {\"color\": \"#E5ECF6\", \"width\": 0.5}}, \"type\": \"barpolar\"}], \"carpet\": [{\"aaxis\": {\"endlinecolor\": \"#2a3f5f\", \"gridcolor\": \"white\", \"linecolor\": \"white\", \"minorgridcolor\": \"white\", \"startlinecolor\": \"#2a3f5f\"}, \"baxis\": {\"endlinecolor\": \"#2a3f5f\", \"gridcolor\": \"white\", \"linecolor\": \"white\", \"minorgridcolor\": \"white\", \"startlinecolor\": \"#2a3f5f\"}, \"type\": \"carpet\"}], \"choropleth\": [{\"colorbar\": {\"outlinewidth\": 0, \"ticks\": \"\"}, \"type\": \"choropleth\"}], \"contour\": [{\"colorbar\": {\"outlinewidth\": 0, \"ticks\": \"\"}, \"colorscale\": [[0.0, \"#0d0887\"], [0.1111111111111111, \"#46039f\"], [0.2222222222222222, \"#7201a8\"], [0.3333333333333333, \"#9c179e\"], [0.4444444444444444, \"#bd3786\"], [0.5555555555555556, \"#d8576b\"], [0.6666666666666666, \"#ed7953\"], [0.7777777777777778, \"#fb9f3a\"], [0.8888888888888888, \"#fdca26\"], [1.0, \"#f0f921\"]], \"type\": \"contour\"}], \"contourcarpet\": [{\"colorbar\": {\"outlinewidth\": 0, \"ticks\": \"\"}, \"type\": \"contourcarpet\"}], \"heatmap\": [{\"colorbar\": {\"outlinewidth\": 0, \"ticks\": \"\"}, \"colorscale\": [[0.0, \"#0d0887\"], [0.1111111111111111, \"#46039f\"], [0.2222222222222222, \"#7201a8\"], [0.3333333333333333, \"#9c179e\"], [0.4444444444444444, \"#bd3786\"], [0.5555555555555556, \"#d8576b\"], [0.6666666666666666, \"#ed7953\"], [0.7777777777777778, \"#fb9f3a\"], [0.8888888888888888, \"#fdca26\"], [1.0, \"#f0f921\"]], \"type\": \"heatmap\"}], \"heatmapgl\": [{\"colorbar\": {\"outlinewidth\": 0, \"ticks\": \"\"}, \"colorscale\": [[0.0, \"#0d0887\"], [0.1111111111111111, \"#46039f\"], [0.2222222222222222, \"#7201a8\"], [0.3333333333333333, \"#9c179e\"], [0.4444444444444444, \"#bd3786\"], [0.5555555555555556, \"#d8576b\"], [0.6666666666666666, \"#ed7953\"], [0.7777777777777778, \"#fb9f3a\"], [0.8888888888888888, \"#fdca26\"], [1.0, \"#f0f921\"]], \"type\": \"heatmapgl\"}], \"histogram\": [{\"marker\": {\"colorbar\": {\"outlinewidth\": 0, \"ticks\": \"\"}}, \"type\": \"histogram\"}], \"histogram2d\": [{\"colorbar\": {\"outlinewidth\": 0, \"ticks\": \"\"}, \"colorscale\": [[0.0, \"#0d0887\"], [0.1111111111111111, \"#46039f\"], [0.2222222222222222, \"#7201a8\"], [0.3333333333333333, \"#9c179e\"], [0.4444444444444444, \"#bd3786\"], [0.5555555555555556, \"#d8576b\"], [0.6666666666666666, \"#ed7953\"], [0.7777777777777778, \"#fb9f3a\"], [0.8888888888888888, \"#fdca26\"], [1.0, \"#f0f921\"]], \"type\": \"histogram2d\"}], \"histogram2dcontour\": [{\"colorbar\": {\"outlinewidth\": 0, \"ticks\": \"\"}, \"colorscale\": [[0.0, \"#0d0887\"], [0.1111111111111111, \"#46039f\"], [0.2222222222222222, \"#7201a8\"], [0.3333333333333333, \"#9c179e\"], [0.4444444444444444, \"#bd3786\"], [0.5555555555555556, \"#d8576b\"], [0.6666666666666666, \"#ed7953\"], [0.7777777777777778, \"#fb9f3a\"], [0.8888888888888888, \"#fdca26\"], [1.0, \"#f0f921\"]], \"type\": \"histogram2dcontour\"}], \"mesh3d\": [{\"colorbar\": {\"outlinewidth\": 0, \"ticks\": \"\"}, \"type\": \"mesh3d\"}], \"parcoords\": [{\"line\": {\"colorbar\": {\"outlinewidth\": 0, \"ticks\": \"\"}}, \"type\": \"parcoords\"}], \"pie\": [{\"automargin\": true, \"type\": \"pie\"}], \"scatter\": [{\"marker\": {\"colorbar\": {\"outlinewidth\": 0, \"ticks\": \"\"}}, \"type\": \"scatter\"}], \"scatter3d\": [{\"line\": {\"colorbar\": {\"outlinewidth\": 0, \"ticks\": \"\"}}, \"marker\": {\"colorbar\": {\"outlinewidth\": 0, \"ticks\": \"\"}}, \"type\": \"scatter3d\"}], \"scattercarpet\": [{\"marker\": {\"colorbar\": {\"outlinewidth\": 0, \"ticks\": \"\"}}, \"type\": \"scattercarpet\"}], \"scattergeo\": [{\"marker\": {\"colorbar\": {\"outlinewidth\": 0, \"ticks\": \"\"}}, \"type\": \"scattergeo\"}], \"scattergl\": [{\"marker\": {\"colorbar\": {\"outlinewidth\": 0, \"ticks\": \"\"}}, \"type\": \"scattergl\"}], \"scattermapbox\": [{\"marker\": {\"colorbar\": {\"outlinewidth\": 0, \"ticks\": \"\"}}, \"type\": \"scattermapbox\"}], \"scatterpolar\": [{\"marker\": {\"colorbar\": {\"outlinewidth\": 0, \"ticks\": \"\"}}, \"type\": \"scatterpolar\"}], \"scatterpolargl\": [{\"marker\": {\"colorbar\": {\"outlinewidth\": 0, \"ticks\": \"\"}}, \"type\": \"scatterpolargl\"}], \"scatterternary\": [{\"marker\": {\"colorbar\": {\"outlinewidth\": 0, \"ticks\": \"\"}}, \"type\": \"scatterternary\"}], \"surface\": [{\"colorbar\": {\"outlinewidth\": 0, \"ticks\": \"\"}, \"colorscale\": [[0.0, \"#0d0887\"], [0.1111111111111111, \"#46039f\"], [0.2222222222222222, \"#7201a8\"], [0.3333333333333333, \"#9c179e\"], [0.4444444444444444, \"#bd3786\"], [0.5555555555555556, \"#d8576b\"], [0.6666666666666666, \"#ed7953\"], [0.7777777777777778, \"#fb9f3a\"], [0.8888888888888888, \"#fdca26\"], [1.0, \"#f0f921\"]], \"type\": \"surface\"}], \"table\": [{\"cells\": {\"fill\": {\"color\": \"#EBF0F8\"}, \"line\": {\"color\": \"white\"}}, \"header\": {\"fill\": {\"color\": \"#C8D4E3\"}, \"line\": {\"color\": \"white\"}}, \"type\": \"table\"}]}, \"layout\": {\"annotationdefaults\": {\"arrowcolor\": \"#2a3f5f\", \"arrowhead\": 0, \"arrowwidth\": 1}, \"coloraxis\": {\"colorbar\": {\"outlinewidth\": 0, \"ticks\": \"\"}}, \"colorscale\": {\"diverging\": [[0, \"#8e0152\"], [0.1, \"#c51b7d\"], [0.2, \"#de77ae\"], [0.3, \"#f1b6da\"], [0.4, \"#fde0ef\"], [0.5, \"#f7f7f7\"], [0.6, \"#e6f5d0\"], [0.7, \"#b8e186\"], [0.8, \"#7fbc41\"], [0.9, \"#4d9221\"], [1, \"#276419\"]], \"sequential\": [[0.0, \"#0d0887\"], [0.1111111111111111, \"#46039f\"], [0.2222222222222222, \"#7201a8\"], [0.3333333333333333, \"#9c179e\"], [0.4444444444444444, \"#bd3786\"], [0.5555555555555556, \"#d8576b\"], [0.6666666666666666, \"#ed7953\"], [0.7777777777777778, \"#fb9f3a\"], [0.8888888888888888, \"#fdca26\"], [1.0, \"#f0f921\"]], \"sequentialminus\": [[0.0, \"#0d0887\"], [0.1111111111111111, \"#46039f\"], [0.2222222222222222, \"#7201a8\"], [0.3333333333333333, \"#9c179e\"], [0.4444444444444444, \"#bd3786\"], [0.5555555555555556, \"#d8576b\"], [0.6666666666666666, \"#ed7953\"], [0.7777777777777778, \"#fb9f3a\"], [0.8888888888888888, \"#fdca26\"], [1.0, \"#f0f921\"]]}, \"colorway\": [\"#636efa\", \"#EF553B\", \"#00cc96\", \"#ab63fa\", \"#FFA15A\", \"#19d3f3\", \"#FF6692\", \"#B6E880\", \"#FF97FF\", \"#FECB52\"], \"font\": {\"color\": \"#2a3f5f\"}, \"geo\": {\"bgcolor\": \"white\", \"lakecolor\": \"white\", \"landcolor\": \"#E5ECF6\", \"showlakes\": true, \"showland\": true, \"subunitcolor\": \"white\"}, \"hoverlabel\": {\"align\": \"left\"}, \"hovermode\": \"closest\", \"mapbox\": {\"style\": \"light\"}, \"paper_bgcolor\": \"white\", \"plot_bgcolor\": \"#E5ECF6\", \"polar\": {\"angularaxis\": {\"gridcolor\": \"white\", \"linecolor\": \"white\", \"ticks\": \"\"}, \"bgcolor\": \"#E5ECF6\", \"radialaxis\": {\"gridcolor\": \"white\", \"linecolor\": \"white\", \"ticks\": \"\"}}, \"scene\": {\"xaxis\": {\"backgroundcolor\": \"#E5ECF6\", \"gridcolor\": \"white\", \"gridwidth\": 2, \"linecolor\": \"white\", \"showbackground\": true, \"ticks\": \"\", \"zerolinecolor\": \"white\"}, \"yaxis\": {\"backgroundcolor\": \"#E5ECF6\", \"gridcolor\": \"white\", \"gridwidth\": 2, \"linecolor\": \"white\", \"showbackground\": true, \"ticks\": \"\", \"zerolinecolor\": \"white\"}, \"zaxis\": {\"backgroundcolor\": \"#E5ECF6\", \"gridcolor\": \"white\", \"gridwidth\": 2, \"linecolor\": \"white\", \"showbackground\": true, \"ticks\": \"\", \"zerolinecolor\": \"white\"}}, \"shapedefaults\": {\"line\": {\"color\": \"#2a3f5f\"}}, \"ternary\": {\"aaxis\": {\"gridcolor\": \"white\", \"linecolor\": \"white\", \"ticks\": \"\"}, \"baxis\": {\"gridcolor\": \"white\", \"linecolor\": \"white\", \"ticks\": \"\"}, \"bgcolor\": \"#E5ECF6\", \"caxis\": {\"gridcolor\": \"white\", \"linecolor\": \"white\", \"ticks\": \"\"}}, \"title\": {\"x\": 0.05}, \"xaxis\": {\"automargin\": true, \"gridcolor\": \"white\", \"linecolor\": \"white\", \"ticks\": \"\", \"title\": {\"standoff\": 15}, \"zerolinecolor\": \"white\", \"zerolinewidth\": 2}, \"yaxis\": {\"automargin\": true, \"gridcolor\": \"white\", \"linecolor\": \"white\", \"ticks\": \"\", \"title\": {\"standoff\": 15}, \"zerolinecolor\": \"white\", \"zerolinewidth\": 2}}}, \"title\": {\"text\": \"Correlation between home value and % lower status of the population\"}, \"xaxis\": {\"anchor\": \"y\", \"domain\": [0.0, 1.0], \"title\": {\"text\": \"Median value of owner-occupied homes in $1000s\"}}, \"yaxis\": {\"anchor\": \"x\", \"domain\": [0.0, 1.0], \"title\": {\"text\": \"% lower status of the population\"}}},\n",
              "                        {\"responsive\": true}\n",
              "                    ).then(function(){\n",
              "                            \n",
              "var gd = document.getElementById('f9dfbb47-d4d6-496f-a55c-57b61b2e960a');\n",
              "var x = new MutationObserver(function (mutations, observer) {{\n",
              "        var display = window.getComputedStyle(gd).display;\n",
              "        if (!display || display === 'none') {{\n",
              "            console.log([gd, 'removed!']);\n",
              "            Plotly.purge(gd);\n",
              "            observer.disconnect();\n",
              "        }}\n",
              "}});\n",
              "\n",
              "// Listen for the removal of the full notebook cells\n",
              "var notebookContainer = gd.closest('#notebook-container');\n",
              "if (notebookContainer) {{\n",
              "    x.observe(notebookContainer, {childList: true});\n",
              "}}\n",
              "\n",
              "// Listen for the clearing of the current output cell\n",
              "var outputEl = gd.closest('.output');\n",
              "if (outputEl) {{\n",
              "    x.observe(outputEl, {childList: true});\n",
              "}}\n",
              "\n",
              "                        })\n",
              "                };\n",
              "                \n",
              "            </script>\n",
              "        </div>\n",
              "</body>\n",
              "</html>"
            ]
          },
          "metadata": {
            "tags": []
          }
        }
      ]
    },
    {
      "cell_type": "code",
      "metadata": {
        "id": "jiBb4wJjtg0r",
        "colab_type": "code",
        "colab": {}
      },
      "source": [
        "#Multivariate regression using these two variables and using Standardscaler"
      ],
      "execution_count": 0,
      "outputs": []
    },
    {
      "cell_type": "code",
      "metadata": {
        "id": "rZdhm_BDyyo8",
        "colab_type": "code",
        "colab": {}
      },
      "source": [
        "from sklearn.linear_model import LinearRegression\n",
        "\n",
        "lr = LinearRegression()"
      ],
      "execution_count": 0,
      "outputs": []
    },
    {
      "cell_type": "code",
      "metadata": {
        "id": "gOQnBwkdtqD4",
        "colab_type": "code",
        "colab": {
          "base_uri": "https://localhost:8080/",
          "height": 72
        },
        "outputId": "ab467193-2e12-4af2-ccce-b607b3e3e464"
      },
      "source": [
        "from sklearn.metrics import mean_squared_error \n",
        "\n",
        "\n",
        "from sklearn.preprocessing import StandardScaler\n",
        "\n",
        "\n",
        "# Re-arrange X features matrices\n",
        "features = ['average number of rooms per dwelling', \n",
        "            '% lower status of the population']\n",
        "\n",
        "print(f'Linear Regression, dependent on: {features}')\n",
        "\n",
        "X_train = train[features]\n",
        "X_val = val[features]\n",
        "\n",
        "target = 'Median value of owner-occupied homes in $1000s'\n",
        "y_train = train[target]\n",
        "y_val = val[target]\n",
        "\n",
        "# Scale the data\n",
        "scaler = StandardScaler()\n",
        "X_train_scaled = scaler.fit_transform(X_train)\n",
        "X_val_scaled = scaler.transform(X_val)\n",
        "\n",
        "# Fit the model\n",
        "lr.fit(X_train_scaled, y_train)\n",
        "y_pred_train = lr.predict(X_train_scaled)\n",
        "mse_train = mean_squared_error(y_train, y_pred_train)\n",
        "print(f'Train MSE: {mse_train:.2f}')\n",
        "\n",
        "# Apply the model to new data\n",
        "y_pred_val = lr.predict(X_val_scaled)\n",
        "mse_val = mean_squared_error(y_val, y_pred_val)\n",
        "print(f'Validation MSE: {mse_val:.2f}')"
      ],
      "execution_count": 23,
      "outputs": [
        {
          "output_type": "stream",
          "text": [
            "Linear Regression, dependent on: ['average number of rooms per dwelling', '% lower status of the population']\n",
            "Train MSE: 30.39\n",
            "Validation MSE: 31.24\n"
          ],
          "name": "stdout"
        }
      ]
    },
    {
      "cell_type": "code",
      "metadata": {
        "id": "EX6LsHuW_Id9",
        "colab_type": "code",
        "colab": {}
      },
      "source": [
        ""
      ],
      "execution_count": 0,
      "outputs": []
    },
    {
      "cell_type": "markdown",
      "metadata": {
        "id": "2nd8Edyb7ukn",
        "colab_type": "text"
      },
      "source": [
        "###Regression using Keras Deep Feed Forward Neural Network and above two features"
      ]
    },
    {
      "cell_type": "code",
      "metadata": {
        "id": "RoMaBOP560V4",
        "colab_type": "code",
        "colab": {}
      },
      "source": [
        "#Thus, there was a significant reduction in the validation MSE from 75.05 to 31.24 using the above two features only\n",
        "\n",
        "#Let us use a Keras Deep Feed Forward Neural network and see if we can reduce the MSE further using these two features first and then rerun the NN model using all other features\n",
        "\n"
      ],
      "execution_count": 0,
      "outputs": []
    },
    {
      "cell_type": "code",
      "metadata": {
        "id": "XheKAmlv7cW-",
        "colab_type": "code",
        "colab": {}
      },
      "source": [
        "import tensorflow\n",
        "\n",
        "from tensorflow import keras\n",
        "\n",
        "from tensorflow.keras.models import Sequential\n",
        "\n",
        "from tensorflow.keras.layers import Dense, Dropout, PReLU\n",
        "\n",
        "from tensorflow.keras.callbacks import EarlyStopping\n",
        "\n"
      ],
      "execution_count": 0,
      "outputs": []
    },
    {
      "cell_type": "code",
      "metadata": {
        "id": "v51_N18v8HpL",
        "colab_type": "code",
        "colab": {}
      },
      "source": [
        "#%load_ext tensorboard\n",
        "\n",
        "#import os\n",
        "#import datetime\n",
        "\n",
        "#logdir = os.path.join(\"logs\", datetime.datetime.now().strftime(\"%Y%m%d-%H%M%S\"))\n",
        "#tensorboard_callback = tensorflow.keras.callbacks.TensorBoard(logdir, histogram_freq=1)"
      ],
      "execution_count": 0,
      "outputs": []
    },
    {
      "cell_type": "code",
      "metadata": {
        "id": "AnC-1SSh9V7n",
        "colab_type": "code",
        "colab": {
          "base_uri": "https://localhost:8080/",
          "height": 35
        },
        "outputId": "2ef7956a-66d7-4bba-b387-1fae3011f9e7"
      },
      "source": [
        "X_train.shape"
      ],
      "execution_count": 26,
      "outputs": [
        {
          "output_type": "execute_result",
          "data": {
            "text/plain": [
              "(404, 2)"
            ]
          },
          "metadata": {
            "tags": []
          },
          "execution_count": 26
        }
      ]
    },
    {
      "cell_type": "code",
      "metadata": {
        "id": "R8Z8jgF18keB",
        "colab_type": "code",
        "colab": {}
      },
      "source": [
        "model = Sequential()\n",
        "\n",
        "#Stacking layers on model\n",
        "\n",
        "#Keras Deep Feed Forward Neural Network\n",
        "\n",
        "#PRelu activation function\n",
        "\n",
        "model.add(Dense(128, input_dim=2))\n",
        "model.add(tensorflow.keras.layers.PReLU())\n",
        "model.add(Dropout(0.2)) \n",
        "\n",
        "model.add(Dense(64))\n",
        "model.add(tensorflow.keras.layers.PReLU())\n",
        "model.add(Dropout(0.2)) \n",
        "\n",
        "model.add(Dense(32)) \n",
        "model.add(tensorflow.keras.layers.PReLU())\n",
        "model.add(Dropout(0.2))\n",
        "\n",
        "model.add(Dense(1, activation='linear')) "
      ],
      "execution_count": 0,
      "outputs": []
    },
    {
      "cell_type": "code",
      "metadata": {
        "id": "6an_Awx4CnQ5",
        "colab_type": "code",
        "colab": {
          "base_uri": "https://localhost:8080/",
          "height": 526
        },
        "outputId": "558d40a9-8576-41b1-b016-4380a3275238"
      },
      "source": [
        "model.summary()"
      ],
      "execution_count": 31,
      "outputs": [
        {
          "output_type": "stream",
          "text": [
            "Model: \"sequential_1\"\n",
            "_________________________________________________________________\n",
            "Layer (type)                 Output Shape              Param #   \n",
            "=================================================================\n",
            "dense_4 (Dense)              (None, 128)               384       \n",
            "_________________________________________________________________\n",
            "p_re_lu_3 (PReLU)            (None, 128)               128       \n",
            "_________________________________________________________________\n",
            "dropout_3 (Dropout)          (None, 128)               0         \n",
            "_________________________________________________________________\n",
            "dense_5 (Dense)              (None, 64)                8256      \n",
            "_________________________________________________________________\n",
            "p_re_lu_4 (PReLU)            (None, 64)                64        \n",
            "_________________________________________________________________\n",
            "dropout_4 (Dropout)          (None, 64)                0         \n",
            "_________________________________________________________________\n",
            "dense_6 (Dense)              (None, 32)                2080      \n",
            "_________________________________________________________________\n",
            "p_re_lu_5 (PReLU)            (None, 32)                32        \n",
            "_________________________________________________________________\n",
            "dropout_5 (Dropout)          (None, 32)                0         \n",
            "_________________________________________________________________\n",
            "dense_7 (Dense)              (None, 1)                 33        \n",
            "=================================================================\n",
            "Total params: 10,977\n",
            "Trainable params: 10,977\n",
            "Non-trainable params: 0\n",
            "_________________________________________________________________\n"
          ],
          "name": "stdout"
        }
      ]
    },
    {
      "cell_type": "code",
      "metadata": {
        "id": "AFuihLor96U9",
        "colab_type": "code",
        "colab": {
          "base_uri": "https://localhost:8080/",
          "height": 1000
        },
        "outputId": "596d1360-cb56-4534-8364-865c492d8618"
      },
      "source": [
        "#compile the model\n",
        "\n",
        "stop = EarlyStopping(monitor='val_mse', min_delta=0.01, patience=3)\n",
        "\n",
        "model.compile(loss='mean_squared_error', optimizer='nadam', metrics=['mse'])\n",
        "\n",
        "history = model.fit(X_train_scaled, y_train, epochs=200, \n",
        "          validation_data=(X_val_scaled, y_val),\n",
        "          callbacks=[stop])"
      ],
      "execution_count": 32,
      "outputs": [
        {
          "output_type": "stream",
          "text": [
            "Epoch 1/200\n",
            "13/13 [==============================] - 0s 16ms/step - loss: 596.1682 - mse: 592.2395 - val_loss: 539.0521 - val_mse: 506.0928\n",
            "Epoch 2/200\n",
            "13/13 [==============================] - 0s 4ms/step - loss: 543.7615 - mse: 542.4019 - val_loss: 466.9941 - val_mse: 432.6297\n",
            "Epoch 3/200\n",
            "13/13 [==============================] - 0s 4ms/step - loss: 417.5295 - mse: 421.4155 - val_loss: 327.1195 - val_mse: 287.1238\n",
            "Epoch 4/200\n",
            "13/13 [==============================] - 0s 4ms/step - loss: 219.4956 - mse: 222.8203 - val_loss: 172.6670 - val_mse: 124.0941\n",
            "Epoch 5/200\n",
            "13/13 [==============================] - 0s 4ms/step - loss: 101.1945 - mse: 102.4458 - val_loss: 102.7599 - val_mse: 61.9784\n",
            "Epoch 6/200\n",
            "13/13 [==============================] - 0s 4ms/step - loss: 66.7015 - mse: 67.4831 - val_loss: 83.0808 - val_mse: 48.8437\n",
            "Epoch 7/200\n",
            "13/13 [==============================] - 0s 4ms/step - loss: 61.5259 - mse: 61.3846 - val_loss: 72.8811 - val_mse: 42.1521\n",
            "Epoch 8/200\n",
            "13/13 [==============================] - 0s 4ms/step - loss: 53.7593 - mse: 53.1371 - val_loss: 66.6022 - val_mse: 38.0969\n",
            "Epoch 9/200\n",
            "13/13 [==============================] - 0s 4ms/step - loss: 51.1384 - mse: 51.0517 - val_loss: 60.6630 - val_mse: 34.4182\n",
            "Epoch 10/200\n",
            "13/13 [==============================] - 0s 4ms/step - loss: 42.8080 - mse: 43.1939 - val_loss: 55.9855 - val_mse: 31.6001\n",
            "Epoch 11/200\n",
            "13/13 [==============================] - 0s 4ms/step - loss: 41.1857 - mse: 41.3800 - val_loss: 52.5588 - val_mse: 29.0095\n",
            "Epoch 12/200\n",
            "13/13 [==============================] - 0s 4ms/step - loss: 43.9933 - mse: 44.5172 - val_loss: 52.0674 - val_mse: 27.6675\n",
            "Epoch 13/200\n",
            "13/13 [==============================] - 0s 4ms/step - loss: 39.7790 - mse: 40.2302 - val_loss: 50.2128 - val_mse: 25.5173\n",
            "Epoch 14/200\n",
            "13/13 [==============================] - 0s 4ms/step - loss: 49.0183 - mse: 47.3392 - val_loss: 50.2541 - val_mse: 24.6524\n",
            "Epoch 15/200\n",
            "13/13 [==============================] - 0s 4ms/step - loss: 37.6771 - mse: 36.5486 - val_loss: 47.7897 - val_mse: 22.7466\n",
            "Epoch 16/200\n",
            "13/13 [==============================] - 0s 4ms/step - loss: 41.1144 - mse: 40.9325 - val_loss: 48.8938 - val_mse: 23.0635\n",
            "Epoch 17/200\n",
            "13/13 [==============================] - 0s 4ms/step - loss: 34.8914 - mse: 35.5669 - val_loss: 46.5901 - val_mse: 21.5727\n",
            "Epoch 18/200\n",
            "13/13 [==============================] - 0s 4ms/step - loss: 34.7179 - mse: 35.2935 - val_loss: 45.7080 - val_mse: 21.2295\n",
            "Epoch 19/200\n",
            "13/13 [==============================] - 0s 4ms/step - loss: 37.5021 - mse: 37.6742 - val_loss: 47.7748 - val_mse: 21.6580\n",
            "Epoch 20/200\n",
            "13/13 [==============================] - 0s 4ms/step - loss: 34.3771 - mse: 34.7023 - val_loss: 46.3146 - val_mse: 20.6034\n",
            "Epoch 21/200\n",
            "13/13 [==============================] - 0s 4ms/step - loss: 33.9864 - mse: 34.1574 - val_loss: 48.2640 - val_mse: 21.4341\n",
            "Epoch 22/200\n",
            "13/13 [==============================] - 0s 4ms/step - loss: 34.6098 - mse: 34.6324 - val_loss: 48.1745 - val_mse: 21.2379\n",
            "Epoch 23/200\n",
            "13/13 [==============================] - 0s 4ms/step - loss: 35.3949 - mse: 35.6475 - val_loss: 45.8644 - val_mse: 20.0395\n",
            "Epoch 24/200\n",
            "13/13 [==============================] - 0s 4ms/step - loss: 36.2304 - mse: 36.2480 - val_loss: 47.0135 - val_mse: 20.4639\n",
            "Epoch 25/200\n",
            "13/13 [==============================] - 0s 4ms/step - loss: 33.3548 - mse: 33.4599 - val_loss: 45.5588 - val_mse: 19.6830\n",
            "Epoch 26/200\n",
            "13/13 [==============================] - 0s 4ms/step - loss: 31.0173 - mse: 31.2051 - val_loss: 45.9846 - val_mse: 19.7539\n",
            "Epoch 27/200\n",
            "13/13 [==============================] - 0s 4ms/step - loss: 33.2450 - mse: 33.5229 - val_loss: 45.6334 - val_mse: 19.4752\n",
            "Epoch 28/200\n",
            "13/13 [==============================] - 0s 4ms/step - loss: 35.6551 - mse: 35.3155 - val_loss: 44.4183 - val_mse: 19.0290\n",
            "Epoch 29/200\n",
            "13/13 [==============================] - 0s 4ms/step - loss: 34.8716 - mse: 34.9386 - val_loss: 45.9710 - val_mse: 19.4527\n",
            "Epoch 30/200\n",
            "13/13 [==============================] - 0s 4ms/step - loss: 34.1617 - mse: 34.3780 - val_loss: 48.0734 - val_mse: 20.3695\n",
            "Epoch 31/200\n",
            "13/13 [==============================] - 0s 4ms/step - loss: 31.1991 - mse: 31.2405 - val_loss: 45.3591 - val_mse: 18.7240\n",
            "Epoch 32/200\n",
            "13/13 [==============================] - 0s 4ms/step - loss: 35.2306 - mse: 35.6653 - val_loss: 48.1837 - val_mse: 20.9986\n",
            "Epoch 33/200\n",
            "13/13 [==============================] - 0s 4ms/step - loss: 31.9739 - mse: 32.2434 - val_loss: 44.0704 - val_mse: 18.1116\n",
            "Epoch 34/200\n",
            "13/13 [==============================] - 0s 4ms/step - loss: 33.9801 - mse: 33.7117 - val_loss: 45.9865 - val_mse: 18.9929\n",
            "Epoch 35/200\n",
            "13/13 [==============================] - 0s 4ms/step - loss: 32.8054 - mse: 32.9181 - val_loss: 47.3248 - val_mse: 19.5689\n",
            "Epoch 36/200\n",
            "13/13 [==============================] - 0s 4ms/step - loss: 36.1334 - mse: 35.4934 - val_loss: 43.6416 - val_mse: 17.9611\n",
            "Epoch 37/200\n",
            "13/13 [==============================] - 0s 4ms/step - loss: 34.5351 - mse: 34.9633 - val_loss: 46.1364 - val_mse: 18.9252\n",
            "Epoch 38/200\n",
            "13/13 [==============================] - 0s 4ms/step - loss: 35.3533 - mse: 35.7938 - val_loss: 43.7104 - val_mse: 17.7588\n",
            "Epoch 39/200\n",
            "13/13 [==============================] - 0s 4ms/step - loss: 29.8278 - mse: 29.5162 - val_loss: 43.6154 - val_mse: 18.2505\n",
            "Epoch 40/200\n",
            "13/13 [==============================] - 0s 4ms/step - loss: 35.2832 - mse: 34.4730 - val_loss: 42.0250 - val_mse: 17.8896\n",
            "Epoch 41/200\n",
            "13/13 [==============================] - 0s 4ms/step - loss: 32.5533 - mse: 33.1566 - val_loss: 45.7161 - val_mse: 18.7381\n"
          ],
          "name": "stdout"
        }
      ]
    },
    {
      "cell_type": "code",
      "metadata": {
        "id": "bWgmzWty_OdK",
        "colab_type": "code",
        "colab": {}
      },
      "source": [
        "##Thus, there was a further reduction in the validation MSE from 31.24 using multivariate linear regression to 18.73 using the Keras Deep FF NN and same two features"
      ],
      "execution_count": 0,
      "outputs": []
    },
    {
      "cell_type": "code",
      "metadata": {
        "id": "liwpBDCB_az7",
        "colab_type": "code",
        "colab": {
          "base_uri": "https://localhost:8080/",
          "height": 573
        },
        "outputId": "2fa44b48-411f-460e-c2aa-edf59ce24c20"
      },
      "source": [
        "import matplotlib.pyplot as plt\n",
        "\n",
        "\n",
        "# Plot training & validation MSE\n",
        "\n",
        "plt.plot(history.history['mse'])\n",
        "plt.plot(history.history['val_mse'])\n",
        "plt.title('Model MSE')\n",
        "plt.ylabel('MSE')\n",
        "plt.xlabel('Epoch')\n",
        "plt.legend(['Train', 'Val.'], loc='upper left')\n",
        "plt.show()\n",
        "\n",
        "# Plot training & validation loss values\n",
        "plt.plot(history.history['loss'])\n",
        "plt.plot(history.history['val_loss'])\n",
        "plt.title('Model loss')\n",
        "plt.ylabel('Loss')\n",
        "plt.xlabel('Epoch')\n",
        "plt.legend(['Train', 'Val'], loc='upper left')\n",
        "plt.show()"
      ],
      "execution_count": 34,
      "outputs": [
        {
          "output_type": "display_data",
          "data": {
            "image/png": "[encoded data removed]",
            "text/plain": [
              "<Figure size 432x288 with 1 Axes>"
            ]
          },
          "metadata": {
            "tags": [],
            "needs_background": "light"
          }
        },
        {
          "output_type": "display_data",
          "data": {
            "image/png": "[encoded data removed]",
            "text/plain": [
              "<Figure size 432x288 with 1 Axes>"
            ]
          },
          "metadata": {
            "tags": [],
            "needs_background": "light"
          }
        }
      ]
    },
    {
      "cell_type": "markdown",
      "metadata": {
        "id": "07uidrxbDmLL",
        "colab_type": "text"
      },
      "source": [
        "###Keras Deep FF NN using all the 13 features in train dataset"
      ]
    },
    {
      "cell_type": "code",
      "metadata": {
        "id": "L-s5GalLDlWK",
        "colab_type": "code",
        "colab": {
          "base_uri": "https://localhost:8080/",
          "height": 468
        },
        "outputId": "40d7bdef-7df6-40be-8788-3702c9feea64"
      },
      "source": [
        "train.head().T"
      ],
      "execution_count": 36,
      "outputs": [
        {
          "output_type": "execute_result",
          "data": {
            "text/html": [
              "<div>\n",
              "<style scoped>\n",
              "    .dataframe tbody tr th:only-of-type {\n",
              "        vertical-align: middle;\n",
              "    }\n",
              "\n",
              "    .dataframe tbody tr th {\n",
              "        vertical-align: top;\n",
              "    }\n",
              "\n",
              "    .dataframe thead th {\n",
              "        text-align: right;\n",
              "    }\n",
              "</style>\n",
              "<table border=\"1\" class=\"dataframe\">\n",
              "  <thead>\n",
              "    <tr style=\"text-align: right;\">\n",
              "      <th></th>\n",
              "      <th>477</th>\n",
              "      <th>15</th>\n",
              "      <th>332</th>\n",
              "      <th>423</th>\n",
              "      <th>19</th>\n",
              "    </tr>\n",
              "  </thead>\n",
              "  <tbody>\n",
              "    <tr>\n",
              "      <th>per capita crime rate by town</th>\n",
              "      <td>15.0234</td>\n",
              "      <td>0.62739</td>\n",
              "      <td>0.03466</td>\n",
              "      <td>7.05042</td>\n",
              "      <td>0.7258</td>\n",
              "    </tr>\n",
              "    <tr>\n",
              "      <th>proportion of residential land zoned for lots over 25,000 sq.ft.</th>\n",
              "      <td>0.0000</td>\n",
              "      <td>0.00000</td>\n",
              "      <td>35.00000</td>\n",
              "      <td>0.00000</td>\n",
              "      <td>0.0000</td>\n",
              "    </tr>\n",
              "    <tr>\n",
              "      <th>proportion of non-retail business acres per town</th>\n",
              "      <td>18.1000</td>\n",
              "      <td>8.14000</td>\n",
              "      <td>6.06000</td>\n",
              "      <td>18.10000</td>\n",
              "      <td>8.1400</td>\n",
              "    </tr>\n",
              "    <tr>\n",
              "      <th>Charles River dummy variable</th>\n",
              "      <td>0.0000</td>\n",
              "      <td>0.00000</td>\n",
              "      <td>0.00000</td>\n",
              "      <td>0.00000</td>\n",
              "      <td>0.0000</td>\n",
              "    </tr>\n",
              "    <tr>\n",
              "      <th>nitric oxides concentration (parts per 10 million</th>\n",
              "      <td>0.6140</td>\n",
              "      <td>0.53800</td>\n",
              "      <td>0.43790</td>\n",
              "      <td>0.61400</td>\n",
              "      <td>0.5380</td>\n",
              "    </tr>\n",
              "    <tr>\n",
              "      <th>average number of rooms per dwelling</th>\n",
              "      <td>5.3040</td>\n",
              "      <td>5.83400</td>\n",
              "      <td>6.03100</td>\n",
              "      <td>6.10300</td>\n",
              "      <td>5.7270</td>\n",
              "    </tr>\n",
              "    <tr>\n",
              "      <th>proportion of owner-occupied units built prior to 1940</th>\n",
              "      <td>97.3000</td>\n",
              "      <td>56.50000</td>\n",
              "      <td>23.30000</td>\n",
              "      <td>85.10000</td>\n",
              "      <td>69.5000</td>\n",
              "    </tr>\n",
              "    <tr>\n",
              "      <th>weighted distances to five Boston employment centres</th>\n",
              "      <td>2.1007</td>\n",
              "      <td>4.49860</td>\n",
              "      <td>6.64070</td>\n",
              "      <td>2.02180</td>\n",
              "      <td>3.7965</td>\n",
              "    </tr>\n",
              "    <tr>\n",
              "      <th>index of accessibility to radial highways</th>\n",
              "      <td>24.0000</td>\n",
              "      <td>4.00000</td>\n",
              "      <td>1.00000</td>\n",
              "      <td>24.00000</td>\n",
              "      <td>4.0000</td>\n",
              "    </tr>\n",
              "    <tr>\n",
              "      <th>full-value property-tax rate per $10,000</th>\n",
              "      <td>666.0000</td>\n",
              "      <td>307.00000</td>\n",
              "      <td>304.00000</td>\n",
              "      <td>666.00000</td>\n",
              "      <td>307.0000</td>\n",
              "    </tr>\n",
              "    <tr>\n",
              "      <th>pupil-teacher ratio by town</th>\n",
              "      <td>20.2000</td>\n",
              "      <td>21.00000</td>\n",
              "      <td>16.90000</td>\n",
              "      <td>20.20000</td>\n",
              "      <td>21.0000</td>\n",
              "    </tr>\n",
              "    <tr>\n",
              "      <th>proportion of blacks by town</th>\n",
              "      <td>349.4800</td>\n",
              "      <td>395.62000</td>\n",
              "      <td>362.25000</td>\n",
              "      <td>2.52000</td>\n",
              "      <td>390.9500</td>\n",
              "    </tr>\n",
              "    <tr>\n",
              "      <th>% lower status of the population</th>\n",
              "      <td>24.9100</td>\n",
              "      <td>8.47000</td>\n",
              "      <td>7.83000</td>\n",
              "      <td>23.29000</td>\n",
              "      <td>11.2800</td>\n",
              "    </tr>\n",
              "    <tr>\n",
              "      <th>Median value of owner-occupied homes in $1000s</th>\n",
              "      <td>12.0000</td>\n",
              "      <td>19.90000</td>\n",
              "      <td>19.40000</td>\n",
              "      <td>13.40000</td>\n",
              "      <td>18.2000</td>\n",
              "    </tr>\n",
              "  </tbody>\n",
              "</table>\n",
              "</div>"
            ],
            "text/plain": [
              "                                                         477  ...       19 \n",
              "per capita crime rate by town                        15.0234  ...    0.7258\n",
              "proportion of residential land zoned for lots o...    0.0000  ...    0.0000\n",
              "proportion of non-retail business acres per town     18.1000  ...    8.1400\n",
              "Charles River dummy variable                          0.0000  ...    0.0000\n",
              "nitric oxides concentration (parts per 10 million     0.6140  ...    0.5380\n",
              "average number of rooms per dwelling                  5.3040  ...    5.7270\n",
              "proportion of owner-occupied units built prior ...   97.3000  ...   69.5000\n",
              "weighted distances to five Boston employment ce...    2.1007  ...    3.7965\n",
              "index of accessibility to radial highways            24.0000  ...    4.0000\n",
              "full-value property-tax rate per $10,000            666.0000  ...  307.0000\n",
              "pupil-teacher ratio by town                          20.2000  ...   21.0000\n",
              "proportion of blacks by town                        349.4800  ...  390.9500\n",
              "% lower status of the population                     24.9100  ...   11.2800\n",
              "Median value of owner-occupied homes in $1000s       12.0000  ...   18.2000\n",
              "\n",
              "[14 rows x 5 columns]"
            ]
          },
          "metadata": {
            "tags": []
          },
          "execution_count": 36
        }
      ]
    },
    {
      "cell_type": "code",
      "metadata": {
        "id": "swrSUQWLEdeP",
        "colab_type": "code",
        "colab": {
          "base_uri": "https://localhost:8080/",
          "height": 290
        },
        "outputId": "9ee1fced-d3f9-4a65-b566-25dc8da91efd"
      },
      "source": [
        "train.dtypes"
      ],
      "execution_count": 37,
      "outputs": [
        {
          "output_type": "execute_result",
          "data": {
            "text/plain": [
              "per capita crime rate by town                                       float64\n",
              "proportion of residential land zoned for lots over 25,000 sq.ft.    float64\n",
              "proportion of non-retail business acres per town                    float64\n",
              "Charles River dummy variable                                          int64\n",
              "nitric oxides concentration (parts per 10 million                   float64\n",
              "average number of rooms per dwelling                                float64\n",
              "proportion of owner-occupied units built prior to 1940              float64\n",
              "weighted distances to five Boston employment centres                float64\n",
              "index of accessibility to radial highways                             int64\n",
              "full-value property-tax rate per $10,000                              int64\n",
              "pupil-teacher ratio by town                                         float64\n",
              "proportion of blacks by town                                        float64\n",
              "% lower status of the population                                    float64\n",
              "Median value of owner-occupied homes in $1000s                      float64\n",
              "dtype: object"
            ]
          },
          "metadata": {
            "tags": []
          },
          "execution_count": 37
        }
      ]
    },
    {
      "cell_type": "code",
      "metadata": {
        "id": "5MJAcw9kFBbS",
        "colab_type": "code",
        "colab": {
          "base_uri": "https://localhost:8080/",
          "height": 35
        },
        "outputId": "e1c547c0-02ae-450d-b896-0795a7b97a14"
      },
      "source": [
        "train.shape"
      ],
      "execution_count": 44,
      "outputs": [
        {
          "output_type": "execute_result",
          "data": {
            "text/plain": [
              "(404, 14)"
            ]
          },
          "metadata": {
            "tags": []
          },
          "execution_count": 44
        }
      ]
    },
    {
      "cell_type": "code",
      "metadata": {
        "id": "eJ5haWreD5kg",
        "colab_type": "code",
        "colab": {}
      },
      "source": [
        "\n",
        "target = 'Median value of owner-occupied homes in $1000s'\n",
        "\n",
        "# Get a dataframe with all train columns except the target\n",
        "\n",
        "train_features = train.drop(columns=[target])\n",
        "\n",
        "# all the features here are numeric \n",
        "numeric_features = train_features.select_dtypes(include='number').columns.tolist()"
      ],
      "execution_count": 0,
      "outputs": []
    },
    {
      "cell_type": "code",
      "metadata": {
        "id": "EsyD36LsEnhf",
        "colab_type": "code",
        "colab": {}
      },
      "source": [
        "# Arrange data into X features matrix and y target vectors\n",
        "\n",
        "X_train = train[numeric_features]\n",
        "y_train = train[target]\n",
        "\n",
        "X_val = val[numeric_features]\n",
        "y_val = val[target]\n"
      ],
      "execution_count": 0,
      "outputs": []
    },
    {
      "cell_type": "code",
      "metadata": {
        "id": "Cs1-ehOuEv3p",
        "colab_type": "code",
        "colab": {
          "base_uri": "https://localhost:8080/",
          "height": 35
        },
        "outputId": "6f802eae-9950-4f9d-effb-14165bdd95b3"
      },
      "source": [
        "X_train.shape, X_val.shape"
      ],
      "execution_count": 43,
      "outputs": [
        {
          "output_type": "execute_result",
          "data": {
            "text/plain": [
              "((404, 13), (102, 13))"
            ]
          },
          "metadata": {
            "tags": []
          },
          "execution_count": 43
        }
      ]
    },
    {
      "cell_type": "code",
      "metadata": {
        "id": "AVGBM6jrFP2O",
        "colab_type": "code",
        "colab": {}
      },
      "source": [
        "# Scale the data\n",
        "\n",
        "scaler = StandardScaler()\n",
        "X_train_scaled = scaler.fit_transform(X_train)\n",
        "X_val_scaled = scaler.transform(X_val)"
      ],
      "execution_count": 0,
      "outputs": []
    },
    {
      "cell_type": "code",
      "metadata": {
        "id": "wB-IElC4FZzQ",
        "colab_type": "code",
        "colab": {}
      },
      "source": [
        "model = Sequential()\n",
        "\n",
        "#Stacking layers on model\n",
        "\n",
        "#Keras Deep Feed Forward Neural Network\n",
        "\n",
        "#PRelu activation function\n",
        "\n",
        "model.add(Dense(128, input_dim=13))  #input dim = 13 here for no of features\n",
        "model.add(tensorflow.keras.layers.PReLU())\n",
        "model.add(Dropout(0.2)) \n",
        "\n",
        "model.add(Dense(64))\n",
        "model.add(tensorflow.keras.layers.PReLU())\n",
        "model.add(Dropout(0.2)) \n",
        "\n",
        "model.add(Dense(32)) \n",
        "model.add(tensorflow.keras.layers.PReLU())\n",
        "model.add(Dropout(0.2))\n",
        "\n",
        "model.add(Dense(1, activation='linear')) "
      ],
      "execution_count": 0,
      "outputs": []
    },
    {
      "cell_type": "code",
      "metadata": {
        "id": "YaIVHDVQFuW0",
        "colab_type": "code",
        "colab": {
          "base_uri": "https://localhost:8080/",
          "height": 999
        },
        "outputId": "0a53a5ae-f4b6-4028-97b7-49f46c07b144"
      },
      "source": [
        "#compile and fit the model\n",
        "\n",
        "stop = EarlyStopping(monitor='val_mse', min_delta=0.01, patience=3)\n",
        "\n",
        "model.compile(loss='mean_squared_error', optimizer='nadam', metrics=['mse'])\n",
        "\n",
        "history = model.fit(X_train_scaled, y_train, epochs=200, \n",
        "          validation_data=(X_val_scaled, y_val),\n",
        "          callbacks=[stop])"
      ],
      "execution_count": 48,
      "outputs": [
        {
          "output_type": "stream",
          "text": [
            "Epoch 1/200\n",
            "13/13 [==============================] - 0s 11ms/step - loss: 590.6878 - mse: 593.3113 - val_loss: 521.9820 - val_mse: 489.1338\n",
            "Epoch 2/200\n",
            "13/13 [==============================] - 0s 4ms/step - loss: 507.8310 - mse: 507.7425 - val_loss: 382.4549 - val_mse: 346.6025\n",
            "Epoch 3/200\n",
            "13/13 [==============================] - 0s 4ms/step - loss: 292.7810 - mse: 297.2586 - val_loss: 155.8288 - val_mse: 118.6211\n",
            "Epoch 4/200\n",
            "13/13 [==============================] - 0s 4ms/step - loss: 118.4200 - mse: 119.6893 - val_loss: 82.1599 - val_mse: 50.2860\n",
            "Epoch 5/200\n",
            "13/13 [==============================] - 0s 4ms/step - loss: 72.6773 - mse: 73.4507 - val_loss: 69.4552 - val_mse: 35.4409\n",
            "Epoch 6/200\n",
            "13/13 [==============================] - 0s 4ms/step - loss: 51.1799 - mse: 51.6295 - val_loss: 60.9362 - val_mse: 27.7959\n",
            "Epoch 7/200\n",
            "13/13 [==============================] - 0s 4ms/step - loss: 42.4224 - mse: 42.7800 - val_loss: 57.9480 - val_mse: 24.3463\n",
            "Epoch 8/200\n",
            "13/13 [==============================] - 0s 4ms/step - loss: 45.5241 - mse: 45.4409 - val_loss: 55.5805 - val_mse: 22.6065\n",
            "Epoch 9/200\n",
            "13/13 [==============================] - 0s 4ms/step - loss: 38.7480 - mse: 39.0901 - val_loss: 51.6485 - val_mse: 20.7090\n",
            "Epoch 10/200\n",
            "13/13 [==============================] - 0s 5ms/step - loss: 38.7294 - mse: 39.0737 - val_loss: 49.0753 - val_mse: 19.9384\n",
            "Epoch 11/200\n",
            "13/13 [==============================] - 0s 4ms/step - loss: 33.1516 - mse: 33.2077 - val_loss: 49.2067 - val_mse: 19.2245\n",
            "Epoch 12/200\n",
            "13/13 [==============================] - 0s 4ms/step - loss: 32.9207 - mse: 32.2022 - val_loss: 45.1338 - val_mse: 19.5999\n",
            "Epoch 13/200\n",
            "13/13 [==============================] - 0s 4ms/step - loss: 33.0909 - mse: 33.1233 - val_loss: 44.4846 - val_mse: 17.4787\n",
            "Epoch 14/200\n",
            "13/13 [==============================] - 0s 4ms/step - loss: 34.4991 - mse: 34.9347 - val_loss: 42.8588 - val_mse: 17.0138\n",
            "Epoch 15/200\n",
            "13/13 [==============================] - 0s 4ms/step - loss: 35.9521 - mse: 35.7949 - val_loss: 39.8510 - val_mse: 16.2701\n",
            "Epoch 16/200\n",
            "13/13 [==============================] - 0s 4ms/step - loss: 32.7115 - mse: 33.2102 - val_loss: 40.1836 - val_mse: 16.0992\n",
            "Epoch 17/200\n",
            "13/13 [==============================] - 0s 4ms/step - loss: 30.8879 - mse: 31.2458 - val_loss: 38.8696 - val_mse: 15.9813\n",
            "Epoch 18/200\n",
            "13/13 [==============================] - 0s 4ms/step - loss: 31.5079 - mse: 31.8864 - val_loss: 41.0942 - val_mse: 16.6799\n",
            "Epoch 19/200\n",
            "13/13 [==============================] - 0s 4ms/step - loss: 30.6939 - mse: 30.0154 - val_loss: 38.1949 - val_mse: 15.2174\n",
            "Epoch 20/200\n",
            "13/13 [==============================] - 0s 4ms/step - loss: 31.4639 - mse: 31.5526 - val_loss: 36.0187 - val_mse: 15.8453\n",
            "Epoch 21/200\n",
            "13/13 [==============================] - 0s 4ms/step - loss: 27.7821 - mse: 26.3541 - val_loss: 38.8392 - val_mse: 15.7137\n",
            "Epoch 22/200\n",
            "13/13 [==============================] - 0s 4ms/step - loss: 31.0229 - mse: 31.0636 - val_loss: 35.6622 - val_mse: 15.1929\n",
            "Epoch 23/200\n",
            "13/13 [==============================] - 0s 4ms/step - loss: 29.2169 - mse: 29.4959 - val_loss: 34.7361 - val_mse: 14.8747\n",
            "Epoch 24/200\n",
            "13/13 [==============================] - 0s 4ms/step - loss: 29.6542 - mse: 29.9205 - val_loss: 33.8135 - val_mse: 14.2282\n",
            "Epoch 25/200\n",
            "13/13 [==============================] - 0s 4ms/step - loss: 27.6018 - mse: 28.0568 - val_loss: 36.5887 - val_mse: 14.9631\n",
            "Epoch 26/200\n",
            "13/13 [==============================] - 0s 4ms/step - loss: 26.5052 - mse: 26.5510 - val_loss: 36.3231 - val_mse: 14.9933\n",
            "Epoch 27/200\n",
            "13/13 [==============================] - 0s 4ms/step - loss: 25.6115 - mse: 25.6708 - val_loss: 34.9498 - val_mse: 14.6969\n"
          ],
          "name": "stdout"
        }
      ]
    },
    {
      "cell_type": "code",
      "metadata": {
        "id": "J2xXIa-QHEIn",
        "colab_type": "code",
        "colab": {
          "base_uri": "https://localhost:8080/",
          "height": 573
        },
        "outputId": "a69e7e80-0bed-41f6-e23b-70b8951e1486"
      },
      "source": [
        "import matplotlib.pyplot as plt\n",
        "\n",
        "\n",
        "# Plot training & validation MSE\n",
        "\n",
        "plt.plot(history.history['mse'])\n",
        "plt.plot(history.history['val_mse'])\n",
        "plt.title('Model MSE')\n",
        "plt.ylabel('MSE')\n",
        "plt.xlabel('Epoch')\n",
        "plt.legend(['Train', 'Val.'], loc='upper left')\n",
        "plt.show()\n",
        "\n",
        "# Plot training & validation loss values\n",
        "plt.plot(history.history['loss'])\n",
        "plt.plot(history.history['val_loss'])\n",
        "plt.title('Model loss')\n",
        "plt.ylabel('Loss')\n",
        "plt.xlabel('Epoch')\n",
        "plt.legend(['Train', 'Val'], loc='upper left')\n",
        "plt.show()"
      ],
      "execution_count": 49,
      "outputs": [
        {
          "output_type": "display_data",
          "data": {
            "image/png": "[encoded data removed]",
            "text/plain": [
              "<Figure size 432x288 with 1 Axes>"
            ]
          },
          "metadata": {
            "tags": [],
            "needs_background": "light"
          }
        },
        {
          "output_type": "display_data",
          "data": {
            "image/png": "[encoded data removed]",
            "text/plain": [
              "<Figure size 432x288 with 1 Axes>"
            ]
          },
          "metadata": {
            "tags": [],
            "needs_background": "light"
          }
        }
      ]
    },
    {
      "cell_type": "markdown",
      "metadata": {
        "id": "oCZ6kTqlJryq",
        "colab_type": "text"
      },
      "source": [
        "##Test all 13 features using RandomForestRegresser and RandomSearchCV"
      ]
    },
    {
      "cell_type": "code",
      "metadata": {
        "id": "auf-2LQmJ0iG",
        "colab_type": "code",
        "colab": {}
      },
      "source": [
        "from sklearn.ensemble import RandomForestRegressor\n",
        "\n",
        "from sklearn.pipeline import make_pipeline\n",
        "\n",
        "from sklearn.model_selection import RandomizedSearchCV\n",
        "\n",
        "from scipy.stats import randint, uniform"
      ],
      "execution_count": 0,
      "outputs": []
    },
    {
      "cell_type": "code",
      "metadata": {
        "id": "KS474V9HLV7o",
        "colab_type": "code",
        "colab": {}
      },
      "source": [
        "# pipeline\n",
        "\n",
        "pipeline = make_pipeline(   \n",
        "    RandomForestRegressor(n_estimators=1000, n_jobs=-1, max_features='auto', random_state=42),\n",
        ")"
      ],
      "execution_count": 0,
      "outputs": []
    },
    {
      "cell_type": "code",
      "metadata": {
        "id": "ruoQgwY-LkBp",
        "colab_type": "code",
        "colab": {}
      },
      "source": [
        "#define parameter distributions for RandomizedSearchCV\n",
        "param_distributions = { \n",
        "    'randomforestregressor__n_estimators': randint(50, 1000), \n",
        "    'randomforestregressor__max_depth': [5, 10, 15, 20, 25, 30, None],\n",
        "}"
      ],
      "execution_count": 0,
      "outputs": []
    },
    {
      "cell_type": "code",
      "metadata": {
        "id": "VyeMvqqpNnGF",
        "colab_type": "code",
        "colab": {
          "base_uri": "https://localhost:8080/",
          "height": 35
        },
        "outputId": "eacc0078-3371-42b6-d771-e61cce9747ba"
      },
      "source": [
        "X_train.shape, X_val.shape"
      ],
      "execution_count": 59,
      "outputs": [
        {
          "output_type": "execute_result",
          "data": {
            "text/plain": [
              "((404, 13), (102, 13))"
            ]
          },
          "metadata": {
            "tags": []
          },
          "execution_count": 59
        }
      ]
    },
    {
      "cell_type": "code",
      "metadata": {
        "id": "AlbqT15aLvBb",
        "colab_type": "code",
        "colab": {
          "base_uri": "https://localhost:8080/",
          "height": 235
        },
        "outputId": "eca04dd2-d9a2-40ae-c7fb-e0af530306a8"
      },
      "source": [
        "search = RandomizedSearchCV(\n",
        "    pipeline, \n",
        "    param_distributions=param_distributions, \n",
        "    n_iter=10, \n",
        "    cv=5, \n",
        "    scoring='neg_mean_squared_error', \n",
        "    verbose=10, \n",
        "    return_train_score=True, \n",
        "    n_jobs=-1\n",
        ")\n",
        "\n",
        "%time\n",
        "\n",
        "search.fit(X_train, y_train);"
      ],
      "execution_count": 60,
      "outputs": [
        {
          "output_type": "stream",
          "text": [
            "CPU times: user 5 µs, sys: 0 ns, total: 5 µs\n",
            "Wall time: 9.3 µs\n",
            "Fitting 5 folds for each of 10 candidates, totalling 50 fits\n"
          ],
          "name": "stdout"
        },
        {
          "output_type": "stream",
          "text": [
            "[Parallel(n_jobs=-1)]: Using backend LokyBackend with 40 concurrent workers.\n",
            "[Parallel(n_jobs=-1)]: Done   7 out of  50 | elapsed:    4.2s remaining:   25.7s\n",
            "[Parallel(n_jobs=-1)]: Done  13 out of  50 | elapsed:    4.7s remaining:   13.3s\n",
            "[Parallel(n_jobs=-1)]: Done  19 out of  50 | elapsed:    5.1s remaining:    8.3s\n",
            "[Parallel(n_jobs=-1)]: Done  25 out of  50 | elapsed:    5.4s remaining:    5.4s\n",
            "[Parallel(n_jobs=-1)]: Done  31 out of  50 | elapsed:    5.7s remaining:    3.5s\n",
            "[Parallel(n_jobs=-1)]: Done  37 out of  50 | elapsed:    5.8s remaining:    2.1s\n",
            "[Parallel(n_jobs=-1)]: Done  43 out of  50 | elapsed:    6.3s remaining:    1.0s\n",
            "[Parallel(n_jobs=-1)]: Done  50 out of  50 | elapsed:    7.4s finished\n"
          ],
          "name": "stderr"
        }
      ]
    },
    {
      "cell_type": "code",
      "metadata": {
        "id": "jPjMYq1VOIC_",
        "colab_type": "code",
        "colab": {
          "base_uri": "https://localhost:8080/",
          "height": 54
        },
        "outputId": "c6eb9c11-b859-491b-dc8f-ff65ad94307b"
      },
      "source": [
        "print('Best hyperparameters', search.best_params_)"
      ],
      "execution_count": 61,
      "outputs": [
        {
          "output_type": "stream",
          "text": [
            "Best hyperparameters {'randomforestregressor__max_depth': None, 'randomforestregressor__n_estimators': 909}\n",
            "Accuracy -14.99846361490618\n"
          ],
          "name": "stdout"
        }
      ]
    },
    {
      "cell_type": "code",
      "metadata": {
        "id": "2GMv3YWMORBI",
        "colab_type": "code",
        "colab": {}
      },
      "source": [
        "#make predictions on Val. set\n",
        "pipeline = search.best_estimator_"
      ],
      "execution_count": 0,
      "outputs": []
    },
    {
      "cell_type": "code",
      "metadata": {
        "id": "CJByBu8LOZEd",
        "colab_type": "code",
        "colab": {}
      },
      "source": [
        "# Predict on Val. Data\n",
        "y_pred = pipeline.predict(X_val)"
      ],
      "execution_count": 0,
      "outputs": []
    },
    {
      "cell_type": "code",
      "metadata": {
        "id": "mp-gaaWTOhK7",
        "colab_type": "code",
        "colab": {
          "base_uri": "https://localhost:8080/",
          "height": 35
        },
        "outputId": "fc86bed6-6d26-4ef1-9d3a-491cded17664"
      },
      "source": [
        "#Val. MSE\n",
        "\n",
        "mse_val = mean_squared_error(y_val, y_pred)\n",
        "print(f'RFRegressor + RandomSearchCV Validation MSE: {mse_val:.2f}')"
      ],
      "execution_count": 64,
      "outputs": [
        {
          "output_type": "stream",
          "text": [
            "RFRegressor + RandomSearchCV Validation MSE: 8.75\n"
          ],
          "name": "stdout"
        }
      ]
    },
    {
      "cell_type": "markdown",
      "metadata": {
        "id": "erDyJwlcR0SN",
        "colab_type": "text"
      },
      "source": [
        "##Feature importances"
      ]
    },
    {
      "cell_type": "code",
      "metadata": {
        "id": "kkD9r7iSRV70",
        "colab_type": "code",
        "colab": {
          "base_uri": "https://localhost:8080/",
          "height": 336
        },
        "outputId": "721bc571-58c6-4420-a25f-5dc7538f19ae"
      },
      "source": [
        "%matplotlib inline\n",
        "import matplotlib.pyplot as plt\n",
        "\n",
        "# Get feature importances\n",
        "rf = pipeline.named_steps['randomforestregressor']\n",
        "importances = pd.Series(rf.feature_importances_, X_train.columns)\n",
        "\n",
        "# Plot feature importances\n",
        "n = 10\n",
        "plt.figure(figsize=(10, n/2))\n",
        "plt.title(f'Top {n} features')\n",
        "importances.sort_values()[-n:].plot.barh(color='blue');"
      ],
      "execution_count": 67,
      "outputs": [
        {
          "output_type": "display_data",
          "data": {
            "image/png": "[encoded data removed]",
            "text/plain": [
              "<Figure size 720x360 with 1 Axes>"
            ]
          },
          "metadata": {
            "tags": [],
            "needs_background": "light"
          }
        }
      ]
    },
    {
      "cell_type": "markdown",
      "metadata": {
        "id": "k5g0Q7YLSnRh",
        "colab_type": "text"
      },
      "source": [
        "###Elif weights for features"
      ]
    },
    {
      "cell_type": "code",
      "metadata": {
        "id": "K3VkXV-DSMmo",
        "colab_type": "code",
        "colab": {}
      },
      "source": [
        "pip install eli5"
      ],
      "execution_count": 0,
      "outputs": []
    },
    {
      "cell_type": "code",
      "metadata": {
        "id": "YBjxpeWMSQKJ",
        "colab_type": "code",
        "colab": {}
      },
      "source": [
        "import eli5\n",
        "from eli5.sklearn import PermutationImportance\n",
        "\n",
        "permuter = PermutationImportance(\n",
        "    pipeline,\n",
        "    scoring='neg_mean_squared_error',\n",
        "    n_iter=5,\n",
        "    random_state=42\n",
        ")\n",
        "permuter.fit(X_val, y_val)"
      ],
      "execution_count": 0,
      "outputs": []
    },
    {
      "cell_type": "code",
      "metadata": {
        "id": "7UMcFAeqSbG8",
        "colab_type": "code",
        "colab": {
          "base_uri": "https://localhost:8080/",
          "height": 259
        },
        "outputId": "8d9112d0-b5a0-4481-d3af-a7e8d7e67096"
      },
      "source": [
        "eli5.show_weights(\n",
        "    permuter,\n",
        "    top=None,\n",
        "    feature_names=X_val.columns.tolist()\n",
        ")\n",
        "\n",
        "#Elif weights have higher importance than above feature importance bars"
      ],
      "execution_count": 70,
      "outputs": [
        {
          "output_type": "execute_result",
          "data": {
            "text/html": [
              "\n",
              "    <style>\n",
              "    table.eli5-weights tr:hover {\n",
              "        filter: brightness(85%);\n",
              "    }\n",
              "</style>\n",
              "\n",
              "\n",
              "\n",
              "    \n",
              "\n",
              "    \n",
              "\n",
              "    \n",
              "\n",
              "    \n",
              "\n",
              "    \n",
              "\n",
              "    \n",
              "\n",
              "\n",
              "    \n",
              "\n",
              "    \n",
              "\n",
              "    \n",
              "\n",
              "    \n",
              "\n",
              "    \n",
              "\n",
              "    \n",
              "\n",
              "\n",
              "    \n",
              "\n",
              "    \n",
              "\n",
              "    \n",
              "\n",
              "    \n",
              "\n",
              "    \n",
              "        <table class=\"eli5-weights eli5-feature-importances\" style=\"border-collapse: collapse; border: none; margin-top: 0em; table-layout: auto;\">\n",
              "    <thead>\n",
              "    <tr style=\"border: none;\">\n",
              "        <th style=\"padding: 0 1em 0 0.5em; text-align: right; border: none;\">Weight</th>\n",
              "        <th style=\"padding: 0 0.5em 0 0.5em; text-align: left; border: none;\">Feature</th>\n",
              "    </tr>\n",
              "    </thead>\n",
              "    <tbody>\n",
              "    \n",
              "        <tr style=\"background-color: hsl(120, 100.00%, 80.00%); border: none;\">\n",
              "            <td style=\"padding: 0 1em 0 0.5em; text-align: right; border: none;\">\n",
              "                32.1764\n",
              "                \n",
              "                    &plusmn; 8.5623\n",
              "                \n",
              "            </td>\n",
              "            <td style=\"padding: 0 0.5em 0 0.5em; text-align: left; border: none;\">\n",
              "                % lower status of the population\n",
              "            </td>\n",
              "        </tr>\n",
              "    \n",
              "        <tr style=\"background-color: hsl(120, 100.00%, 80.86%); border: none;\">\n",
              "            <td style=\"padding: 0 1em 0 0.5em; text-align: right; border: none;\">\n",
              "                30.2188\n",
              "                \n",
              "                    &plusmn; 7.8831\n",
              "                \n",
              "            </td>\n",
              "            <td style=\"padding: 0 0.5em 0 0.5em; text-align: left; border: none;\">\n",
              "                average number of rooms per dwelling\n",
              "            </td>\n",
              "        </tr>\n",
              "    \n",
              "        <tr style=\"background-color: hsl(120, 100.00%, 93.68%); border: none;\">\n",
              "            <td style=\"padding: 0 1em 0 0.5em; text-align: right; border: none;\">\n",
              "                6.2117\n",
              "                \n",
              "                    &plusmn; 2.6460\n",
              "                \n",
              "            </td>\n",
              "            <td style=\"padding: 0 0.5em 0 0.5em; text-align: left; border: none;\">\n",
              "                weighted distances to five Boston employment centres\n",
              "            </td>\n",
              "        </tr>\n",
              "    \n",
              "        <tr style=\"background-color: hsl(120, 100.00%, 96.99%); border: none;\">\n",
              "            <td style=\"padding: 0 1em 0 0.5em; text-align: right; border: none;\">\n",
              "                2.1541\n",
              "                \n",
              "                    &plusmn; 0.4903\n",
              "                \n",
              "            </td>\n",
              "            <td style=\"padding: 0 0.5em 0 0.5em; text-align: left; border: none;\">\n",
              "                per capita crime rate by town\n",
              "            </td>\n",
              "        </tr>\n",
              "    \n",
              "        <tr style=\"background-color: hsl(120, 100.00%, 97.03%); border: none;\">\n",
              "            <td style=\"padding: 0 1em 0 0.5em; text-align: right; border: none;\">\n",
              "                2.1066\n",
              "                \n",
              "                    &plusmn; 1.1289\n",
              "                \n",
              "            </td>\n",
              "            <td style=\"padding: 0 0.5em 0 0.5em; text-align: left; border: none;\">\n",
              "                nitric oxides concentration (parts per 10 million\n",
              "            </td>\n",
              "        </tr>\n",
              "    \n",
              "        <tr style=\"background-color: hsl(120, 100.00%, 97.88%); border: none;\">\n",
              "            <td style=\"padding: 0 1em 0 0.5em; text-align: right; border: none;\">\n",
              "                1.3027\n",
              "                \n",
              "                    &plusmn; 0.3999\n",
              "                \n",
              "            </td>\n",
              "            <td style=\"padding: 0 0.5em 0 0.5em; text-align: left; border: none;\">\n",
              "                pupil-teacher ratio by town\n",
              "            </td>\n",
              "        </tr>\n",
              "    \n",
              "        <tr style=\"background-color: hsl(120, 100.00%, 97.95%); border: none;\">\n",
              "            <td style=\"padding: 0 1em 0 0.5em; text-align: right; border: none;\">\n",
              "                1.2382\n",
              "                \n",
              "                    &plusmn; 0.4849\n",
              "                \n",
              "            </td>\n",
              "            <td style=\"padding: 0 0.5em 0 0.5em; text-align: left; border: none;\">\n",
              "                proportion of owner-occupied units built prior to 1940\n",
              "            </td>\n",
              "        </tr>\n",
              "    \n",
              "        <tr style=\"background-color: hsl(120, 100.00%, 98.81%); border: none;\">\n",
              "            <td style=\"padding: 0 1em 0 0.5em; text-align: right; border: none;\">\n",
              "                0.5710\n",
              "                \n",
              "                    &plusmn; 0.2723\n",
              "                \n",
              "            </td>\n",
              "            <td style=\"padding: 0 0.5em 0 0.5em; text-align: left; border: none;\">\n",
              "                full-value property-tax rate per $10,000\n",
              "            </td>\n",
              "        </tr>\n",
              "    \n",
              "        <tr style=\"background-color: hsl(120, 100.00%, 99.43%); border: none;\">\n",
              "            <td style=\"padding: 0 1em 0 0.5em; text-align: right; border: none;\">\n",
              "                0.1994\n",
              "                \n",
              "                    &plusmn; 0.1769\n",
              "                \n",
              "            </td>\n",
              "            <td style=\"padding: 0 0.5em 0 0.5em; text-align: left; border: none;\">\n",
              "                proportion of non-retail business acres per town\n",
              "            </td>\n",
              "        </tr>\n",
              "    \n",
              "        <tr style=\"background-color: hsl(120, 100.00%, 99.46%); border: none;\">\n",
              "            <td style=\"padding: 0 1em 0 0.5em; text-align: right; border: none;\">\n",
              "                0.1852\n",
              "                \n",
              "                    &plusmn; 0.1581\n",
              "                \n",
              "            </td>\n",
              "            <td style=\"padding: 0 0.5em 0 0.5em; text-align: left; border: none;\">\n",
              "                index of accessibility to radial highways\n",
              "            </td>\n",
              "        </tr>\n",
              "    \n",
              "        <tr style=\"background-color: hsl(120, 100.00%, 99.49%); border: none;\">\n",
              "            <td style=\"padding: 0 1em 0 0.5em; text-align: right; border: none;\">\n",
              "                0.1688\n",
              "                \n",
              "                    &plusmn; 0.5877\n",
              "                \n",
              "            </td>\n",
              "            <td style=\"padding: 0 0.5em 0 0.5em; text-align: left; border: none;\">\n",
              "                proportion of blacks by town\n",
              "            </td>\n",
              "        </tr>\n",
              "    \n",
              "        <tr style=\"background-color: hsl(120, 100.00%, 99.87%); border: none;\">\n",
              "            <td style=\"padding: 0 1em 0 0.5em; text-align: right; border: none;\">\n",
              "                0.0253\n",
              "                \n",
              "                    &plusmn; 0.0514\n",
              "                \n",
              "            </td>\n",
              "            <td style=\"padding: 0 0.5em 0 0.5em; text-align: left; border: none;\">\n",
              "                Charles River dummy variable\n",
              "            </td>\n",
              "        </tr>\n",
              "    \n",
              "        <tr style=\"background-color: hsl(120, 100.00%, 99.95%); border: none;\">\n",
              "            <td style=\"padding: 0 1em 0 0.5em; text-align: right; border: none;\">\n",
              "                0.0061\n",
              "                \n",
              "                    &plusmn; 0.0373\n",
              "                \n",
              "            </td>\n",
              "            <td style=\"padding: 0 0.5em 0 0.5em; text-align: left; border: none;\">\n",
              "                proportion of residential land zoned for lots over 25,000 sq.ft.\n",
              "            </td>\n",
              "        </tr>\n",
              "    \n",
              "    \n",
              "    </tbody>\n",
              "</table>\n",
              "    \n",
              "\n",
              "    \n",
              "\n",
              "\n",
              "    \n",
              "\n",
              "    \n",
              "\n",
              "    \n",
              "\n",
              "    \n",
              "\n",
              "    \n",
              "\n",
              "    \n",
              "\n",
              "\n",
              "\n"
            ],
            "text/plain": [
              "<IPython.core.display.HTML object>"
            ]
          },
          "metadata": {
            "tags": []
          },
          "execution_count": 70
        }
      ]
    },
    {
      "cell_type": "markdown",
      "metadata": {
        "id": "l6YOp9KlGEaV",
        "colab_type": "text"
      },
      "source": [
        "\n",
        "\n",
        "#Summary of results for Val. MSE:\n",
        "\n",
        "####Zero features = 75.05\n",
        "\n",
        "####Linear regression with two features = 31.24\n",
        "\n",
        "####Keras Deep FF NN with two features = 18.73\n",
        "\n",
        "####Keras Deep FF NN with 13 features = 14.69\n",
        "\n",
        "####RandomForestRegressor + RandomSearchCV with 13 features = 8.75 >>> Best result\n",
        "\n"
      ]
    },
    {
      "cell_type": "code",
      "metadata": {
        "id": "VIM5UgbCGAuL",
        "colab_type": "code",
        "colab": {}
      },
      "source": [
        ""
      ],
      "execution_count": 0,
      "outputs": []
    },
    {
      "cell_type": "markdown",
      "metadata": {
        "colab_type": "text",
        "id": "SfcFnOONyuNm"
      },
      "source": [
        "## Use the Keras Library to build an image recognition network using the Fashion-MNIST dataset (also comes with keras)\n",
        "\n",
        "- Load and preprocess the image data similar to how we preprocessed the MNIST data in class.\n",
        "- Make sure to one-hot encode your category labels\n",
        "- The number of nodes in your output layer should equal the number of classes you want to predict for Fashion-MNIST.\n",
        "- Try different hyperparameters. What is the highest accuracy that you are able to achieve.\n",
        "- Use the history object that is returned from model.fit to make graphs of the model's loss or train/validation accuracies by epoch. \n",
        "- Remember that neural networks fall prey to randomness so you may need to run your model multiple times (or use Cross Validation) in order to tell if a change to a hyperparameter is truly producing better results."
      ]
    },
    {
      "cell_type": "code",
      "metadata": {
        "colab_type": "code",
        "id": "szi6-IpuzaH1",
        "colab": {}
      },
      "source": [
        "#will do it in a separate notebook"
      ],
      "execution_count": 0,
      "outputs": []
    },
    {
      "cell_type": "markdown",
      "metadata": {
        "colab_type": "text",
        "id": "zv_3xNMjzdLI"
      },
      "source": [
        "## Stretch Goals:\n",
        "\n",
        "- Use Hyperparameter Tuning to make the accuracy of your models as high as possible. (error as low as possible)\n",
        "- Use Cross Validation techniques to get more consistent results with your model.\n",
        "- Use GridSearchCV to try different combinations of hyperparameters. \n",
        "- Start looking into other types of Keras layers for CNNs and RNNs maybe try and build a CNN model for fashion-MNIST to see how the results compare."
      ]
    }
  ]
}