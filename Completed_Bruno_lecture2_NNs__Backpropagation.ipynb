{
  "nbformat": 4,
  "nbformat_minor": 0,
  "metadata": {
    "kernelspec": {
      "display_name": "U4-S2-NN (Python3)",
      "language": "python",
      "name": "u4-s2-nn"
    },
    "language_info": {
      "codemirror_mode": {
        "name": "ipython",
        "version": 3
      },
      "file_extension": ".py",
      "mimetype": "text/x-python",
      "name": "python",
      "nbconvert_exporter": "python",
      "pygments_lexer": "ipython3",
      "version": "3.7.0"
    },
    "colab": {
      "name": "Completed_Bruno_lecture2_NNs__Backpropagation.ipynb",
      "provenance": [],
      "include_colab_link": true
    }
  },
  "cells": [
    {
      "cell_type": "markdown",
      "metadata": {
        "id": "view-in-github",
        "colab_type": "text"
      },
      "source": [
        "<a href=\"https://colab.research.google.com/github/bs3537/DS-Unit-4-Sprint-2-Neural-Networks/blob/master/Completed_Bruno_lecture2_NNs__Backpropagation.ipynb\" target=\"_parent\"><img src=\"https://colab.research.google.com/assets/colab-badge.svg\" alt=\"Open In Colab\"/></a>"
      ]
    },
    {
      "cell_type": "markdown",
      "metadata": {
        "id": "47n4Vs3YWi6c",
        "colab_type": "text"
      },
      "source": [
        "Lambda School Data Science\n",
        "\n",
        "*Unit 4, Sprint 2, Module 2*\n",
        "\n",
        "---"
      ]
    },
    {
      "cell_type": "markdown",
      "metadata": {
        "toc-hr-collapsed": true,
        "id": "ay26hoFRWi6e",
        "colab_type": "text"
      },
      "source": [
        "# Backpropagation & Gradient Descent (Prepare)"
      ]
    },
    {
      "cell_type": "markdown",
      "metadata": {
        "id": "qQDvaulwWi6e",
        "colab_type": "text"
      },
      "source": [
        "## Learning Objectives\n",
        "* <a href=\"#p1\">Part 1</a>: Explain the intutition behind backproprogation\n",
        "* <a href=\"#p2\">Part 2</a>: Implement gradient descent + backpropagation on a feedforward neural network. "
      ]
    },
    {
      "cell_type": "markdown",
      "metadata": {
        "id": "egZS6rVZWi6f",
        "colab_type": "text"
      },
      "source": [
        "## Summary of Yesterday\n",
        "\n",
        "Yesterday, we learned about some of the principal components of Neural Networks: Neurons, Weights, Activation Functions, and layers (input, output, & hidden). Today, we will reinforce our understanding of those components and introduce the mechanics of training a neural network. Feed-forward neural networks, such as multi-layer perceptrons (MLPs), are almost always trained using some variation of gradient descent where the gradient has been calculated by backpropagation.\n",
        "\n",
        "<center><img src=\"https://cdn-images-1.medium.com/max/1600/1*_M4bZyuwaGby6KMiYVYXvg.jpeg\" width=\"400\"></center>\n",
        "\n",
        "- There are three kinds of layers: input, hidden, and output layers.\n",
        "- Each layer is made up of **n** individual neurons (aka activation units) which have a corresponding weight and bias.\n",
        "- Signal is passed from layer to layer through a network by:\n",
        " - Taking in inputs from the training data (or previous layer)\n",
        " - Multiplying each input by its corresponding weight (think arrow/connecting line)\n",
        " - Adding a bias to this weighted some of inputs and weights\n",
        " - Activating this weighted sum + bias by squishifying it with sigmoid or some other activation function. With a single perceptron with three inputs, calculating the output from the node is done like so:\n",
        "\\begin{align}\n",
        " y = sigmoid(\\sum(weight_{1}input_{1} + weight_{2}input_{2} + weight_{3}input_{3}) + bias)\n",
        "\\end{align}\n",
        " - this final activated value is the signal that gets passed onto the next layer of the network.\n",
        " \n",
        " "
      ]
    },
    {
      "cell_type": "markdown",
      "metadata": {
        "id": "wYtWJOBdWi6g",
        "colab_type": "text"
      },
      "source": [
        "## Training a Neural Network: *Formal Summary*\n",
        "\n",
        "0. Pick a network architecture\n",
        "   - No. of input units = No. of features\n",
        "   - No. of output units = Number of Classes (or expected targets)\n",
        "   - Select the number of hidden layers and number of neurons within each hidden layer\n",
        "1. Randomly initialize weights\n",
        "2. Implement forward propagation to get $h_{\\theta}(x^{(i)})$ for any $x^{(i)}$\n",
        "3. Implement code to compute a cost function $J(\\theta)$\n",
        "4. Implement backpropagation to compute partial derivatives $\\frac{\\delta}{\\delta\\theta_{jk}^{l}}{J(\\theta)}$\n",
        "5. Use gradient descent (or other advanced optimizer) with backpropagation to minimize $J(\\theta)$ as a function of parameters $\\theta\\$\n",
        "6. Repeat steps 2 - 5 until cost function is 'minimized' or some other stopping criteria is met. One pass over steps 2 - 5 is called an iteration or epoch."
      ]
    },
    {
      "cell_type": "markdown",
      "metadata": {
        "toc-hr-collapsed": false,
        "id": "4sPLSz19Wi6g",
        "colab_type": "text"
      },
      "source": [
        "## Calculating *\"cost\"*, *\"loss\"* or *\"error\"*\n",
        "\n",
        "We've talked about how in order to evaluate a network's performance, the data is \"fed forward\" until predictions are obtained and then the \"loss\" or \"error\" for a given observation is ascertained by looking at what the network predicted for that observation and comparing it to what it *should* have predicted. \n",
        "\n",
        "The error for a given observation is calculated by taking the square of the difference between the predicted value and the actual value. \n",
        "\n",
        "We can summarize the overall quality of a network's predictions by finding the average error across all observations. This gives us the \"Mean Squared Error.\" which hopefully is a fairly familiar model evaluation metric by now. Graphing the MSE over each epoch (training cycle) is a common practice with Neural Networks. This is what you're seeing in the top right corner of the Tensorflow Playground website as the number of \"epochs\" climbs higher and higher."
      ]
    },
    {
      "cell_type": "markdown",
      "metadata": {
        "id": "bXMxhsyCWi6h",
        "colab_type": "text"
      },
      "source": [
        "## What is an \"Epoch\"?\n",
        "\n",
        "An \"Epoch\" is one cycle of passing our data forward through the network, measuring error given our specified cost function, and then -via gradient descent- updating weights within our network to hopefully improve the quality of our predictions on the next iteration."
      ]
    },
    {
      "cell_type": "markdown",
      "metadata": {
        "id": "cPLyBvnzWi6i",
        "colab_type": "text"
      },
      "source": [
        "### Batch vs Minibatch vs Stochastic Gradient Descent Epochs\n",
        "\n",
        "You may have heard these variations on the training process referenced in the 3Blue1Brown videos about backpropagation. \"Minibatch\" Gradient Descent means that instead of passing all of our data through the network for a given epoch (Batch GD), we just pass a randomized portion of our data through the network for each epoch. \n",
        "\n",
        "Stochastic Gradient Descent is when we make updates to our weights after forward propagating each individual training observation."
      ]
    },
    {
      "cell_type": "markdown",
      "metadata": {
        "id": "cDgRZlSpWi6i",
        "colab_type": "text"
      },
      "source": [
        "### A note about Hyperparameters\n",
        "\n",
        "Neural Networks have many more hyperparameters than other machine learning algorithms which is part of what makes them a beast to train.\n",
        "\n",
        "1. You need more data to train them on. \n",
        "2. They're complex so they take longer to train. \n",
        "3. They have lots and lots of hyperparameters which we need to find the most optimal combination of, so we might end up training our model dozens or hundreds of times with different combinations of hyperparameters in order to try and squeeze out a few more tenths of a percent of accuracy. "
      ]
    },
    {
      "cell_type": "markdown",
      "metadata": {
        "colab_type": "text",
        "id": "aM4CK1IarId4",
        "toc-hr-collapsed": false
      },
      "source": [
        "# Backpropagation (Learn)\n",
        "<a id=\"p1\"></a>"
      ]
    },
    {
      "cell_type": "markdown",
      "metadata": {
        "colab_type": "text",
        "toc-hr-collapsed": false,
        "id": "oZ_LtnCmWi6k"
      },
      "source": [
        "## Overview\n",
        "\n",
        "Backpropagation is short for [\"Backwards Propagation of errors\"](https://en.wikipedia.org/wiki/Backpropagation) and refers to a specific (rather calculus intensive) algorithm for how weights in a neural network are updated in reverse order at the end of each training epoch. Our purpose today is to demonstrate the backpropagation algorithm on a simple Feedforward Neural Network and in so doing help you get a grasp on the main process. If you want to understand all of the underlying calculus of how the gradients are calculated then you'll need to dive into it yourself, [3Blue1Brown's video is a great starting place](https://www.youtube.com/watch?v=tIeHLnjs5U8). I also highly recommend this Welch Labs series [Neural Networks Demystified](https://www.youtube.com/watch?v=bxe2T-V8XRs) if you want a rapid yet orderly walkthrough of the main intuitions and math behind the backpropagation algorithm. "
      ]
    },
    {
      "cell_type": "markdown",
      "metadata": {
        "id": "kdX36dbtWi6k",
        "colab_type": "text"
      },
      "source": [
        "### What is a Gradient?\n",
        "\n",
        "> In vector calculus, the gradient is a multi-variable generalization of the derivative. \n",
        "\n",
        "The gradients that we will deal with today will be vector representations of the derivative of the activation function. "
      ]
    },
    {
      "cell_type": "markdown",
      "metadata": {
        "toc-hr-collapsed": false,
        "id": "aoMpGdmuWi6l",
        "colab_type": "text"
      },
      "source": [
        "## Follow Along\n",
        "\n",
        "In this section, we will again implement a multi-layer perceptron using numpy. We'll focus on using a __Feed Forward Neural Network__ to predict test scores. "
      ]
    },
    {
      "cell_type": "markdown",
      "metadata": {
        "colab_type": "text",
        "id": "Dm2HPETcrgy6",
        "toc-hr-collapsed": true
      },
      "source": [
        "![231 Neural Network](https://cdn-images-1.medium.com/max/1600/1*IjY3wFF24sK9UhiOlf36Bw.png)"
      ]
    },
    {
      "cell_type": "markdown",
      "metadata": {
        "colab_type": "text",
        "id": "4d4tzpwO6B47"
      },
      "source": [
        "### Generate some Fake Data"
      ]
    },
    {
      "cell_type": "code",
      "metadata": {
        "colab_type": "code",
        "id": "ERyVgeO_IWyV",
        "colab": {}
      },
      "source": [
        "import numpy as np\n",
        "\n",
        "np.random.seed(812)\n",
        "\n",
        "# hours studying, hours sleep\n",
        "X = np.array(([2,9],\n",
        "              [1,5],\n",
        "              [3,6]), dtype=float)\n",
        "\n",
        "# Exam Scores\n",
        "y = np.array(([90],\n",
        "              [72],\n",
        "              [80]), dtype=float)\n",
        "\n",
        "# y = 2*hours_studying + 4*hours_sleeping + 50\n",
        "# ^ what the network is trying to learn"
      ],
      "execution_count": 0,
      "outputs": []
    },
    {
      "cell_type": "markdown",
      "metadata": {
        "id": "LRT5l91ZWi6q",
        "colab_type": "text"
      },
      "source": [
        "### Feature Normalization"
      ]
    },
    {
      "cell_type": "code",
      "metadata": {
        "colab_type": "code",
        "id": "cDeUBW6k4Ri4",
        "colab": {},
        "outputId": "5a9ba187-e892-4385-c369-b3832286ea43"
      },
      "source": [
        "# Normalizing Data on feature \n",
        "# Neural Network would probably do this on its own, but it will help us converge on a solution faster\n",
        "X = X / np.amax(X, axis=0)\n",
        "y = y / 100\n",
        "\n",
        "print(\"Studying, Sleeping \\n\", X)\n",
        "print(\"Test Score \\n\", y)"
      ],
      "execution_count": 0,
      "outputs": [
        {
          "output_type": "stream",
          "text": [
            "Studying, Sleeping \n",
            " [[0.66666667 1.        ]\n",
            " [0.33333333 0.55555556]\n",
            " [1.         0.66666667]]\n",
            "Test Score \n",
            " [[0.9 ]\n",
            " [0.72]\n",
            " [0.8 ]]\n"
          ],
          "name": "stdout"
        }
      ]
    },
    {
      "cell_type": "markdown",
      "metadata": {
        "colab_type": "text",
        "id": "bgTf6vTS69Sw"
      },
      "source": [
        "### Neural Network Architecture\n",
        "Lets create a Neural_Network class to contain this functionality"
      ]
    },
    {
      "cell_type": "code",
      "metadata": {
        "colab_type": "code",
        "id": "RUI8VSR5zyBv",
        "colab": {}
      },
      "source": [
        "class NeuralNetwork: \n",
        "    \n",
        "    def __init__(self):\n",
        "        # Setup Arch\n",
        "        self.inputs = 2\n",
        "        self.hiddenNodes = 3 \n",
        "        self.outputNodes = 1\n",
        "        \n",
        "        # Initialize Weights\n",
        "        # 2x3\n",
        "        self.weights1 = np.random.randn(self.inputs, self.hiddenNodes)\n",
        "        \n",
        "        # 3x1\n",
        "        self.weights2 = np.random.randn(self.hiddenNodes, self.outputNodes)"
      ],
      "execution_count": 0,
      "outputs": []
    },
    {
      "cell_type": "markdown",
      "metadata": {
        "colab_type": "text",
        "id": "gbyT_FJ88IlK"
      },
      "source": [
        "### Randomly Initialize Weights\n",
        "How many random weights do we need to initialize? \"Fully-connected Layers\""
      ]
    },
    {
      "cell_type": "code",
      "metadata": {
        "colab_type": "code",
        "id": "IreIDe6P8H0H",
        "colab": {}
      },
      "source": [
        "nn = NeuralNetwork()"
      ],
      "execution_count": 0,
      "outputs": []
    },
    {
      "cell_type": "code",
      "metadata": {
        "id": "HG5KyHwaWi62",
        "colab_type": "code",
        "colab": {},
        "outputId": "c18779e8-98da-46b7-c508-9503c4e4fe0c"
      },
      "source": [
        "print(\"Layer 1 weights: \\n\", nn.weights1)\n",
        "print(\"Layer 2 weights: \\n\", nn.weights2)"
      ],
      "execution_count": 0,
      "outputs": [
        {
          "output_type": "stream",
          "text": [
            "Layer 1 weights: \n",
            " [[ 0.96808324 -1.782362   -0.75408522]\n",
            " [-1.23115135  0.62890718  0.44526701]]\n",
            "Layer 2 weights: \n",
            " [[-1.78221311]\n",
            " [-1.43272971]\n",
            " [ 0.56695085]]\n"
          ],
          "name": "stdout"
        }
      ]
    },
    {
      "cell_type": "markdown",
      "metadata": {
        "colab_type": "text",
        "id": "hbxDhyjQ-RwS"
      },
      "source": [
        "### Implement Feedforward Functionality\n",
        "\n",
        "After this step our neural network should be able to generate an output even though it has not been trained."
      ]
    },
    {
      "cell_type": "code",
      "metadata": {
        "colab_type": "code",
        "id": "0gGivpEk-VdP",
        "colab": {}
      },
      "source": [
        "class NeuralNetwork: \n",
        "    \n",
        "    def __init__(self):\n",
        "        # Setup Arch\n",
        "        self.inputs = 2\n",
        "        self.hiddenNodes =3 \n",
        "        self.outputNodes = 1\n",
        "        \n",
        "        # Initialize Weights\n",
        "        # 2x3\n",
        "        self.weights1 = np.random.randn(self.inputs, self.hiddenNodes)\n",
        "        \n",
        "        # 3x1\n",
        "        self.weights2 = np.random.randn(self.hiddenNodes, self.outputNodes)\n",
        "        \n",
        "    def sigmoid(self, s):\n",
        "        return 1 / (1+np.exp(-s))\n",
        "    \n",
        "    def feed_forward(self, X):\n",
        "        \"\"\"\n",
        "        Calculate the NN inference using feed forward.\n",
        "        \"\"\"\n",
        "        \n",
        "        # Weight Sum\n",
        "        self.hidden_sum = np.dot(X, self.weights1)\n",
        "        \n",
        "        # Activation\n",
        "        self.activated_hidden = self.sigmoid(self.hidden_sum)\n",
        "        \n",
        "        # Weighted Sum 2\n",
        "        self.output_sum = np.dot(self.activated_hidden, self.weights2)\n",
        "        \n",
        "        # Final Output\n",
        "        self.activated_output = self.sigmoid(self.output_sum)\n",
        "        \n",
        "        return self.activated_output"
      ],
      "execution_count": 0,
      "outputs": []
    },
    {
      "cell_type": "code",
      "metadata": {
        "id": "iykNOoFIWi67",
        "colab_type": "code",
        "colab": {},
        "outputId": "8d9e1780-68b9-4541-b104-53a01ef5c4da"
      },
      "source": [
        "X"
      ],
      "execution_count": 0,
      "outputs": [
        {
          "output_type": "execute_result",
          "data": {
            "text/plain": [
              "array([[0.66666667, 1.        ],\n",
              "       [0.33333333, 0.55555556],\n",
              "       [1.        , 0.66666667]])"
            ]
          },
          "metadata": {
            "tags": []
          },
          "execution_count": 49
        }
      ]
    },
    {
      "cell_type": "markdown",
      "metadata": {
        "colab_type": "text",
        "id": "a1pxdfmDAaJg"
      },
      "source": [
        "### Make a Prediction"
      ]
    },
    {
      "cell_type": "code",
      "metadata": {
        "id": "jBvOu3c7Wi6_",
        "colab_type": "code",
        "colab": {},
        "outputId": "3ea295ae-1d2c-4947-be48-94abf98947fa"
      },
      "source": [
        "# Try to make a prediction with our updated 'net\n",
        "\n",
        "nn = NeuralNetwork()\n",
        "output = nn.feed_forward(X[0])\n",
        "print(\"intput\", X[0])\n",
        "print(\"output\", output)\n",
        "print(\"true_output\", y[0])"
      ],
      "execution_count": 0,
      "outputs": [
        {
          "output_type": "stream",
          "text": [
            "intput [0.66666667 1.        ]\n",
            "output [0.35238723]\n",
            "true_output [0.9]\n"
          ],
          "name": "stdout"
        }
      ]
    },
    {
      "cell_type": "markdown",
      "metadata": {
        "colab_type": "text",
        "id": "3V61yNmAB2T5"
      },
      "source": [
        "### Calculate Error"
      ]
    },
    {
      "cell_type": "code",
      "metadata": {
        "id": "J5rWvH5tWi7D",
        "colab_type": "code",
        "colab": {},
        "outputId": "fab9d57c-9fc2-4a7e-dab9-56c1459ea75e"
      },
      "source": [
        "error = y[0] - output\n",
        "print(error)"
      ],
      "execution_count": 0,
      "outputs": [
        {
          "output_type": "stream",
          "text": [
            "[0.54761277]\n"
          ],
          "name": "stdout"
        }
      ]
    },
    {
      "cell_type": "code",
      "metadata": {
        "id": "kF7d7Tj2Wi7J",
        "colab_type": "code",
        "colab": {},
        "outputId": "eaa0aa1d-2ea6-4df5-d034-1d7465bde9cd"
      },
      "source": [
        "output_all = nn.feed_forward(X)\n",
        "error_all = y - output_all\n",
        "print(output_all)\n",
        "print(error_all)\n",
        "print(y)"
      ],
      "execution_count": 0,
      "outputs": [
        {
          "output_type": "stream",
          "text": [
            "[[0.35238723]\n",
            " [0.36996977]\n",
            " [0.36033211]]\n",
            "[[0.54761277]\n",
            " [0.35003023]\n",
            " [0.43966789]]\n",
            "[[0.9 ]\n",
            " [0.72]\n",
            " [0.8 ]]\n"
          ],
          "name": "stdout"
        }
      ]
    },
    {
      "cell_type": "markdown",
      "metadata": {
        "colab_type": "text",
        "id": "26wgCLU0TLvy"
      },
      "source": [
        "Why is my error so big?\n",
        "\n",
        "My error is so big because my prediction is low.\n",
        "\n",
        "Why are my prediction low?\n",
        "\n",
        "Because either:\n",
        "\n",
        "  1) Second layer **weights** are low\n",
        "  \n",
        "  (or)\n",
        "  \n",
        "  2) Activations coming from the first layer are low\n",
        "  \n",
        "How are activations from the first layer determined? \n",
        "\n",
        "  1) By inputs - fixed\n",
        "  \n",
        "  2) by **weights** - variable\n",
        "  \n",
        "The only thing that I have control over throughout this process in order to increase the value of my final predictions is to either increase weights in layer 2 or increase weights in layer 1. \n",
        "\n",
        "Imagine that you could only change your weights by a fixed amount. Say you have .3 and you have to split that up and disperse it over your weights so as to increase your predictions as much as possible. (This isn't actually what happens, but it will help us identify which weights we would benefit the most from moving.)\n",
        "\n",
        "I need to increase weights of my model somewhere, I'll get the biggest bang for my buck if I increase weights in places where I'm already seeing high activation values -because they end up getting multiplied together before being passed to the sigmoid function. \n",
        "\n",
        "> \"Neurons that fire together, wire together\""
      ]
    },
    {
      "cell_type": "markdown",
      "metadata": {
        "colab_type": "text",
        "id": "j_eyzItYIxgm"
      },
      "source": [
        "### Implement Backpropagation \n",
        "\n",
        "> *Assigning blame for bad predictions and delivering justice - repeatedly and a little bit at a time*\n",
        "\n",
        "What in our model could be causing our predictions to suck so bad? \n",
        "\n",
        "Well, we know that our inputs (X) and outputs (y) are correct, if they weren't then we would have bigger problems than understanding backpropagation.\n",
        "\n",
        "We also know that our activation function (sigmoid) is working correctly. It can't be blamed because it just does whatever we tell it to and transforms the data in a known way.\n",
        "\n",
        "So what are the potential culprits for these terrible predictions? The **weights** of our model. Here's the problem though. I have weights that exist in both layers of my model. How do I know if the weights in the first layer are to blame, or the second layer, or both? \n",
        "\n",
        "Lets investigate. And see if we can just eyeball what should be updated."
      ]
    },
    {
      "cell_type": "code",
      "metadata": {
        "id": "xQ7jwLrbWi7N",
        "colab_type": "code",
        "colab": {},
        "outputId": "49ef32d9-d236-4a2d-e50d-cdbeb6fc6baa"
      },
      "source": [
        "attributes = ['weights1', 'hidden_sum', 'activated_hidden', 'weights2', 'activated_output']\n",
        "[print(i+'\\n', getattr(nn,i), '\\n'+'---'*3) for i in attributes if i[:2]!= '__'] "
      ],
      "execution_count": 0,
      "outputs": [
        {
          "output_type": "stream",
          "text": [
            "weights1\n",
            " [[ 0.88920439  0.32918141  0.08813896]\n",
            " [ 0.41583845  0.45241918 -0.19653862]] \n",
            "---------\n",
            "hidden_sum\n",
            " [[ 1.00864137  0.67187345 -0.13777932]\n",
            " [ 0.52742282  0.36107112 -0.07980847]\n",
            " [ 1.16643002  0.63079419 -0.04288679]] \n",
            "---------\n",
            "activated_hidden\n",
            " [[0.73275418 0.66192253 0.46560956]\n",
            " [0.62888183 0.5892997  0.48005847]\n",
            " [0.76249912 0.65266952 0.48927995]] \n",
            "---------\n",
            "weights2\n",
            " [[-0.37577564]\n",
            " [-1.69915475]\n",
            " [-0.10140401]] \n",
            "---------\n",
            "activated_output\n",
            " [[0.19042135]\n",
            " [0.21647809]\n",
            " [0.19075219]] \n",
            "---------\n"
          ],
          "name": "stdout"
        },
        {
          "output_type": "execute_result",
          "data": {
            "text/plain": [
              "[None, None, None, None, None]"
            ]
          },
          "metadata": {
            "tags": []
          },
          "execution_count": 20
        }
      ]
    },
    {
      "cell_type": "markdown",
      "metadata": {
        "colab_type": "text",
        "id": "16Ujj6vNYQyX"
      },
      "source": [
        "### Backpropagation (Simple Overview)\n",
        "\n",
        "Our model has 9 total weights (6 in the first layer, 3 in the last layer) that could be off.\n",
        "\n",
        "1) Calculate Error for a given each observation\n",
        "\n",
        "2) Does the error indicate that I'm overestimating or underestimating in my prediction?\n",
        "\n",
        "3) Look at final layer weights to get an idea for which weights are helping pass desirable signals and which are stifling desirable signals\n",
        "\n",
        "4) Also go to the previous layer and see what can be done to boost activations that are associated with helpful weights, and limit activations that are associated with unhelpful weights."
      ]
    },
    {
      "cell_type": "markdown",
      "metadata": {
        "colab_type": "text",
        "toc-hr-collapsed": true,
        "id": "5hxEGlkOWi7P"
      },
      "source": [
        "### Update Weights Based on Gradient\n",
        "\n",
        "Repeat steps 1-4 for every observation in a given batch, and then given the network's cost function, calculate its gradient using calculus and update weights associated with the (negative) gradient of the cost function. \n",
        "\n",
        "Remember that we have 9 weights in our network therefore the gradient that comes from our gradient descent calculation will be the vector that takes us in the most downward direction along some function in 9-dimensional hyperspace.\n",
        "\n",
        "\\begin{align}\n",
        "C(w1, w2, w3, w4, w5, w6, w7, w8, w9)\n",
        "\\end{align}\n",
        "\n",
        "You should also know that with neural networks it is common to have gradients that are not convex (like what we saw when we applied gradient descent to linear regression). Due to the high complexity of these models and their nonlinearity, it is common for gradient descent to get stuck in a local minimum, but there are ways to combat this:\n",
        "\n",
        "1) Stochastic Gradient Descent\n",
        "\n",
        "2) More advanced Gradient-Descent-based \"Optimizers\" - See Stretch Goals on assignment."
      ]
    },
    {
      "cell_type": "code",
      "metadata": {
        "id": "v6412WMfWi7P",
        "colab_type": "code",
        "colab": {}
      },
      "source": [
        "# I want activations that correspond to negative weights to be lower\n",
        "# and activations that correspond to positive weights to be higher\n",
        "\n",
        "class NeuralNetwork: \n",
        "    \n",
        "    def __init__(self):\n",
        "        # Setup Arch\n",
        "        self.inputs = 2\n",
        "        self.hiddenNodes =3 \n",
        "        self.outputNodes = 1\n",
        "        \n",
        "        # Initialize Weights\n",
        "        # 2x3\n",
        "        self.weights1 = np.random.randn(self.inputs, self.hiddenNodes)\n",
        "        \n",
        "        # 3x1\n",
        "        self.weights2 = np.random.randn(self.hiddenNodes, self.outputNodes)\n",
        "        \n",
        "    def sigmoid(self, s):\n",
        "        return 1 / (1+np.exp(-s))\n",
        "    \n",
        "    def sigmoidPrime(self, s):\n",
        "        sx = self.sigmoid(s)\n",
        "        return sx * (1-sx)\n",
        "    \n",
        "    def feed_forward(self, X):\n",
        "        \"\"\"\n",
        "        Calculate the NN inference using feed forward.\n",
        "        \"\"\"\n",
        "        \n",
        "        # Weight Sum\n",
        "        self.hidden_sum = np.dot(X, self.weights1)\n",
        "        \n",
        "        # Activation\n",
        "        self.activated_hidden = self.sigmoid(self.hidden_sum)\n",
        "        \n",
        "        # Weighted Sum 2\n",
        "        self.output_sum = np.dot(self.activated_hidden, self.weights2)\n",
        "        \n",
        "        # Final Output\n",
        "        self.activated_output = self.sigmoid(self.output_sum)\n",
        "        \n",
        "        return self.activated_output\n",
        "    \n",
        "    def backward(self, X,y,o):\n",
        "        \"\"\"\n",
        "        Back prop thru the network\n",
        "        \"\"\"\n",
        "        \n",
        "        self.o_error = y - o\n",
        "        \n",
        "        # Apply derivative of sigmoid to error\n",
        "        self.o_delta = self.o_error * self.sigmoidPrime(self.output_sum)\n",
        "        \n",
        "        # z2 error: how much were our output layer weights off\n",
        "        self.z2_error = self.o_delta.dot(self.weights2.T)\n",
        "        \n",
        "        # z2 delta: how much were the weights off?\n",
        "        self.z2_delta = self.z2_error*self.sigmoidPrime(self.hidden_sum)\n",
        "\n",
        "        self.weights1 += X.T.dot(self.z2_delta) #Adjust first set (input => hidden) weights\n",
        "        self.weights2 += self.activated_hidden.T.dot(self.o_delta) #adjust second set (hidden => output) weights\n",
        "        \n",
        "    def train(self, X, y):\n",
        "        o = self.feed_forward(X)\n",
        "        self.backward(X,y,o)"
      ],
      "execution_count": 0,
      "outputs": []
    },
    {
      "cell_type": "markdown",
      "metadata": {
        "toc-hr-collapsed": true,
        "id": "a_RkkzNqWi7R",
        "colab_type": "text"
      },
      "source": [
        "#### Let's look at the shape of the Gradient Componets\n"
      ]
    },
    {
      "cell_type": "code",
      "metadata": {
        "id": "k1pbfosEWi7S",
        "colab_type": "code",
        "colab": {}
      },
      "source": [
        "#from reference import NeuralNetwork\n",
        "\n",
        "nn = NeuralNetwork()\n",
        "\n",
        "nn.train(X,y)"
      ],
      "execution_count": 0,
      "outputs": []
    },
    {
      "cell_type": "markdown",
      "metadata": {
        "id": "wXn17o0xWi7U",
        "colab_type": "text"
      },
      "source": [
        "##### Our Error Associated with Each Observation \n",
        "aka how wrong were we?"
      ]
    },
    {
      "cell_type": "code",
      "metadata": {
        "id": "nY-qx0O1Wi7V",
        "colab_type": "code",
        "colab": {},
        "outputId": "2214fcf1-b17f-4acc-b0f1-fe9fa75973d3"
      },
      "source": [
        "nn.o_error"
      ],
      "execution_count": 0,
      "outputs": [
        {
          "output_type": "execute_result",
          "data": {
            "text/plain": [
              "array([[ 0.1142058 ],\n",
              "       [-0.08513503],\n",
              "       [ 0.01047415]])"
            ]
          },
          "metadata": {
            "tags": []
          },
          "execution_count": 62
        }
      ]
    },
    {
      "cell_type": "markdown",
      "metadata": {
        "id": "ddaDGdNCWi7Y",
        "colab_type": "text"
      },
      "source": [
        "##### 1st Gradient \n",
        "Simple interpretation - how much more sigmoid activation would have pushed us towards the right answer?\n",
        "\n",
        "`self.o_delta = self.o_error * self.sigmoidPrime(self.output_sum)`"
      ]
    },
    {
      "cell_type": "code",
      "metadata": {
        "id": "jgk0sXnQWi7Y",
        "colab_type": "code",
        "colab": {},
        "outputId": "02ca3730-d908-4af0-8657-c2936850d49c"
      },
      "source": [
        "nn.output_sum"
      ],
      "execution_count": 0,
      "outputs": [
        {
          "output_type": "execute_result",
          "data": {
            "text/plain": [
              "array([[1.29975772],\n",
              "       [1.41870312],\n",
              "       [1.32206974]])"
            ]
          },
          "metadata": {
            "tags": []
          },
          "execution_count": 63
        }
      ]
    },
    {
      "cell_type": "code",
      "metadata": {
        "id": "YvE2mvrjWi7b",
        "colab_type": "code",
        "colab": {},
        "outputId": "75a0ca79-9d29-4c55-c834-6f223d84cfb3"
      },
      "source": [
        "nn.sigmoid(nn.output_sum)"
      ],
      "execution_count": 0,
      "outputs": [
        {
          "output_type": "execute_result",
          "data": {
            "text/plain": [
              "array([[0.7857942 ],\n",
              "       [0.80513503],\n",
              "       [0.78952585]])"
            ]
          },
          "metadata": {
            "tags": []
          },
          "execution_count": 64
        }
      ]
    },
    {
      "cell_type": "code",
      "metadata": {
        "id": "TLaB-8oaWi7d",
        "colab_type": "code",
        "colab": {},
        "outputId": "5ef12960-bf96-4f27-f44a-da80dc07f07a"
      },
      "source": [
        "nn.sigmoidPrime(nn.output_sum)"
      ],
      "execution_count": 0,
      "outputs": [
        {
          "output_type": "execute_result",
          "data": {
            "text/plain": [
              "array([[0.16832167],\n",
              "       [0.15689262],\n",
              "       [0.16617478]])"
            ]
          },
          "metadata": {
            "tags": []
          },
          "execution_count": 65
        }
      ]
    },
    {
      "cell_type": "code",
      "metadata": {
        "id": "mU3bOONtWi7f",
        "colab_type": "code",
        "colab": {},
        "outputId": "a4011b45-cc14-4aaf-e194-cdd35d7d8554"
      },
      "source": [
        "nn.o_delta"
      ],
      "execution_count": 0,
      "outputs": [
        {
          "output_type": "execute_result",
          "data": {
            "text/plain": [
              "array([[ 0.01922331],\n",
              "       [-0.01335706],\n",
              "       [ 0.00174054]])"
            ]
          },
          "metadata": {
            "tags": []
          },
          "execution_count": 66
        }
      ]
    },
    {
      "cell_type": "markdown",
      "metadata": {
        "id": "mLoR0760Wi7h",
        "colab_type": "text"
      },
      "source": [
        "##### 2nd Error\n",
        "Justice hasn't been served yet - tho. We still have neurons to blame. Let's go back another layer. \n",
        "\n",
        "`self.z2_error = self.o_delta.dot(self.weights2.T)`\n",
        "\n",
        "__Discussion:__ Why is this shape different?"
      ]
    },
    {
      "cell_type": "code",
      "metadata": {
        "id": "xpvPF23rWi7h",
        "colab_type": "code",
        "colab": {},
        "outputId": "87ad1597-8411-4f7d-f660-c9aa052f6158"
      },
      "source": [
        "nn.z2_error"
      ],
      "execution_count": 0,
      "outputs": [
        {
          "output_type": "execute_result",
          "data": {
            "text/plain": [
              "array([[ 0.00523652,  0.01959235,  0.0354702 ],\n",
              "       [-0.00363852, -0.01361348, -0.02464599],\n",
              "       [ 0.00047413,  0.00177395,  0.00321158]])"
            ]
          },
          "metadata": {
            "tags": []
          },
          "execution_count": 67
        }
      ]
    },
    {
      "cell_type": "code",
      "metadata": {
        "id": "D7mKIVqlWi7k",
        "colab_type": "code",
        "colab": {},
        "outputId": "fcdb5c09-395f-4386-edef-de439f5e5c77"
      },
      "source": [
        "y"
      ],
      "execution_count": 0,
      "outputs": [
        {
          "output_type": "execute_result",
          "data": {
            "text/plain": [
              "array([[0.9 ],\n",
              "       [0.72],\n",
              "       [0.8 ]])"
            ]
          },
          "metadata": {
            "tags": []
          },
          "execution_count": 68
        }
      ]
    },
    {
      "cell_type": "markdown",
      "metadata": {
        "id": "U-R4lLhbWi7m",
        "colab_type": "text"
      },
      "source": [
        "##### 2nd Gradient\n",
        "For each observation, how much more sigmoid activation from this layer would have pushed us towards the right answer?\n",
        "\n",
        "`self.z2_delta = self.z2_error * self.sigmoidPrime(self.hidden_sum)`"
      ]
    },
    {
      "cell_type": "code",
      "metadata": {
        "id": "ic0qPh1AWi7n",
        "colab_type": "code",
        "colab": {},
        "outputId": "3a327102-e44a-4144-a813-1f119468c112"
      },
      "source": [
        "nn.z2_delta"
      ],
      "execution_count": 0,
      "outputs": [
        {
          "output_type": "execute_result",
          "data": {
            "text/plain": [
              "array([[ 0.00122416,  0.00477923,  0.00784487],\n",
              "       [-0.00089422, -0.00338209, -0.00594672],\n",
              "       [ 0.00010289,  0.0004218 ,  0.00071253]])"
            ]
          },
          "metadata": {
            "tags": []
          },
          "execution_count": 69
        }
      ]
    },
    {
      "cell_type": "code",
      "metadata": {
        "id": "fgjsM6JWWi7p",
        "colab_type": "code",
        "colab": {},
        "outputId": "d29796c2-537d-479a-f696-3491ca77edd5"
      },
      "source": [
        "X.T.shape == nn.weights1.shape"
      ],
      "execution_count": 0,
      "outputs": [
        {
          "output_type": "execute_result",
          "data": {
            "text/plain": [
              "True"
            ]
          },
          "metadata": {
            "tags": []
          },
          "execution_count": 70
        }
      ]
    },
    {
      "cell_type": "markdown",
      "metadata": {
        "id": "PkSiID9gWi7r",
        "colab_type": "text"
      },
      "source": [
        "##### Descent\n",
        "\n",
        "*Discussion:* Input to Hidden Weight Update\n",
        "- We multiply the gradient by the inputs. Why?\n",
        "- Why do we need to transpose the inputs? "
      ]
    },
    {
      "cell_type": "code",
      "metadata": {
        "id": "-PTRnsyRWi7s",
        "colab_type": "code",
        "colab": {},
        "outputId": "9f42bcc1-2b97-494e-f9ee-b9f31e9de026"
      },
      "source": [
        "X.T"
      ],
      "execution_count": 0,
      "outputs": [
        {
          "output_type": "execute_result",
          "data": {
            "text/plain": [
              "array([[0.66666667, 0.33333333, 1.        ],\n",
              "       [1.        , 0.55555556, 0.66666667]])"
            ]
          },
          "metadata": {
            "tags": []
          },
          "execution_count": 71
        }
      ]
    },
    {
      "cell_type": "code",
      "metadata": {
        "id": "OYXOhP10Wi7u",
        "colab_type": "code",
        "colab": {},
        "outputId": "cc247aa9-d4e1-4a48-8f00-9383ceae4dfa"
      },
      "source": [
        "X.T.dot(nn.z2_delta)"
      ],
      "execution_count": 0,
      "outputs": [
        {
          "output_type": "execute_result",
          "data": {
            "text/plain": [
              "array([[0.00062092, 0.0024806 , 0.0039602 ],\n",
              "       [0.00079597, 0.0031815 , 0.00501615]])"
            ]
          },
          "metadata": {
            "tags": []
          },
          "execution_count": 72
        }
      ]
    },
    {
      "cell_type": "markdown",
      "metadata": {
        "id": "sReoviaEWi7w",
        "colab_type": "text"
      },
      "source": [
        "*Discussion:* Hidden to Output Weight Update\n",
        "- Why is output the shape 3x1? \n",
        "- We multiply the gradient by the inputs. Why?\n",
        "- Why do we need to transpose the inputs?"
      ]
    },
    {
      "cell_type": "code",
      "metadata": {
        "id": "z88p_4glWi7w",
        "colab_type": "code",
        "colab": {},
        "outputId": "8d6f76da-1cb3-4a6a-89a5-c31965959ba2"
      },
      "source": [
        "nn.activated_hidden.T.dot(nn.o_delta)"
      ],
      "execution_count": 0,
      "outputs": [
        {
          "output_type": "execute_result",
          "data": {
            "text/plain": [
              "array([[0.00190795],\n",
              "       [0.00496496],\n",
              "       [0.0014942 ]])"
            ]
          },
          "metadata": {
            "tags": []
          },
          "execution_count": 73
        }
      ]
    },
    {
      "cell_type": "markdown",
      "metadata": {
        "id": "3bDQYQxHWi7y",
        "colab_type": "text"
      },
      "source": [
        "### Train the Network (fo real this time)"
      ]
    },
    {
      "cell_type": "code",
      "metadata": {
        "id": "iYwV1-uJWi7y",
        "colab_type": "code",
        "colab": {},
        "outputId": "a4f2e982-f5a6-48f2-b9c3-6b7d2d11ab7c"
      },
      "source": [
        "# Train my 'net\n",
        "nn = NeuralNetwork()\n",
        "\n",
        "# Number of Epochs / Iterations\n",
        "for i in range(10000):\n",
        "    if (i+1 in [1,2,3,4,5]) or ((i+1) % 1000 ==0):\n",
        "        print('+' + '---' * 3 + f'EPOCH {i+1}' + '---'*3 + '+')\n",
        "        print('Input: \\n', X)\n",
        "        print('Actual Output: \\n', y)\n",
        "        print('Predicted Output: \\n', str(nn.feed_forward(X)))\n",
        "        print(\"Loss: \\n\", str(np.mean(np.square(y - nn.feed_forward(X)))))\n",
        "    nn.train(X,y)"
      ],
      "execution_count": 0,
      "outputs": [
        {
          "output_type": "stream",
          "text": [
            "+---------EPOCH 1---------+\n",
            "Input: \n",
            " [[0.66666667 1.        ]\n",
            " [0.33333333 0.55555556]\n",
            " [1.         0.66666667]]\n",
            "Actual Output: \n",
            " [[0.9 ]\n",
            " [0.72]\n",
            " [0.8 ]]\n",
            "Predicted Output: \n",
            " [[0.70228289]\n",
            " [0.71590461]\n",
            " [0.6825923 ]]\n",
            "Loss: \n",
            " 0.01763113257757309\n",
            "+---------EPOCH 2---------+\n",
            "Input: \n",
            " [[0.66666667 1.        ]\n",
            " [0.33333333 0.55555556]\n",
            " [1.         0.66666667]]\n",
            "Actual Output: \n",
            " [[0.9 ]\n",
            " [0.72]\n",
            " [0.8 ]]\n",
            "Predicted Output: \n",
            " [[0.71256982]\n",
            " [0.72513114]\n",
            " [0.69200733]]\n",
            "Loss: \n",
            " 0.01560627266475098\n",
            "+---------EPOCH 3---------+\n",
            "Input: \n",
            " [[0.66666667 1.        ]\n",
            " [0.33333333 0.55555556]\n",
            " [1.         0.66666667]]\n",
            "Actual Output: \n",
            " [[0.9 ]\n",
            " [0.72]\n",
            " [0.8 ]]\n",
            "Predicted Output: \n",
            " [[0.7217931 ]\n",
            " [0.73334823]\n",
            " [0.70050841]]\n",
            "Loss: \n",
            " 0.013944817271742094\n",
            "+---------EPOCH 4---------+\n",
            "Input: \n",
            " [[0.66666667 1.        ]\n",
            " [0.33333333 0.55555556]\n",
            " [1.         0.66666667]]\n",
            "Actual Output: \n",
            " [[0.9 ]\n",
            " [0.72]\n",
            " [0.8 ]]\n",
            "Predicted Output: \n",
            " [[0.73007866]\n",
            " [0.74068542]\n",
            " [0.70819586]]\n",
            "Loss: \n",
            " 0.012576382519405412\n",
            "+---------EPOCH 5---------+\n",
            "Input: \n",
            " [[0.66666667 1.        ]\n",
            " [0.33333333 0.55555556]\n",
            " [1.         0.66666667]]\n",
            "Actual Output: \n",
            " [[0.9 ]\n",
            " [0.72]\n",
            " [0.8 ]]\n",
            "Predicted Output: \n",
            " [[0.73753676]\n",
            " [0.74725391]\n",
            " [0.71515856]]\n",
            "Loss: \n",
            " 0.011445049546283573\n",
            "+---------EPOCH 1000---------+\n",
            "Input: \n",
            " [[0.66666667 1.        ]\n",
            " [0.33333333 0.55555556]\n",
            " [1.         0.66666667]]\n",
            "Actual Output: \n",
            " [[0.9 ]\n",
            " [0.72]\n",
            " [0.8 ]]\n",
            "Predicted Output: \n",
            " [[0.83292008]\n",
            " [0.77838297]\n",
            " [0.80396627]]\n",
            "Loss: \n",
            " 0.002641339527056542\n",
            "+---------EPOCH 2000---------+\n",
            "Input: \n",
            " [[0.66666667 1.        ]\n",
            " [0.33333333 0.55555556]\n",
            " [1.         0.66666667]]\n",
            "Actual Output: \n",
            " [[0.9 ]\n",
            " [0.72]\n",
            " [0.8 ]]\n",
            "Predicted Output: \n",
            " [[0.84662003]\n",
            " [0.75808412]\n",
            " [0.80552767]]\n",
            "Loss: \n",
            " 0.001443458702047449\n",
            "+---------EPOCH 3000---------+\n",
            "Input: \n",
            " [[0.66666667 1.        ]\n",
            " [0.33333333 0.55555556]\n",
            " [1.         0.66666667]]\n",
            "Actual Output: \n",
            " [[0.9 ]\n",
            " [0.72]\n",
            " [0.8 ]]\n",
            "Predicted Output: \n",
            " [[0.85835941]\n",
            " [0.74661097]\n",
            " [0.80434752]]\n",
            "Loss: \n",
            " 0.0008203277190013588\n",
            "+---------EPOCH 4000---------+\n",
            "Input: \n",
            " [[0.66666667 1.        ]\n",
            " [0.33333333 0.55555556]\n",
            " [1.         0.66666667]]\n",
            "Actual Output: \n",
            " [[0.9 ]\n",
            " [0.72]\n",
            " [0.8 ]]\n",
            "Predicted Output: \n",
            " [[0.86741528]\n",
            " [0.73962052]\n",
            " [0.80292022]]\n",
            "Loss: \n",
            " 0.00048508542214351975\n",
            "+---------EPOCH 5000---------+\n",
            "Input: \n",
            " [[0.66666667 1.        ]\n",
            " [0.33333333 0.55555556]\n",
            " [1.         0.66666667]]\n",
            "Actual Output: \n",
            " [[0.9 ]\n",
            " [0.72]\n",
            " [0.8 ]]\n",
            "Predicted Output: \n",
            " [[0.87422047]\n",
            " [0.7348208 ]\n",
            " [0.80203985]]\n",
            "Loss: \n",
            " 0.0002961337314910585\n",
            "+---------EPOCH 6000---------+\n",
            "Input: \n",
            " [[0.66666667 1.        ]\n",
            " [0.33333333 0.55555556]\n",
            " [1.         0.66666667]]\n",
            "Actual Output: \n",
            " [[0.9 ]\n",
            " [0.72]\n",
            " [0.8 ]]\n",
            "Predicted Output: \n",
            " [[0.87939935]\n",
            " [0.73139298]\n",
            " [0.80149854]]\n",
            "Loss: \n",
            " 0.0001854774885387398\n",
            "+---------EPOCH 7000---------+\n",
            "Input: \n",
            " [[0.66666667 1.        ]\n",
            " [0.33333333 0.55555556]\n",
            " [1.         0.66666667]]\n",
            "Actual Output: \n",
            " [[0.9 ]\n",
            " [0.72]\n",
            " [0.8 ]]\n",
            "Predicted Output: \n",
            " [[0.88340419]\n",
            " [0.72889145]\n",
            " [0.80113571]]\n",
            "Loss: \n",
            " 0.00011858951335726703\n",
            "+---------EPOCH 8000---------+\n",
            "Input: \n",
            " [[0.66666667 1.        ]\n",
            " [0.33333333 0.55555556]\n",
            " [1.         0.66666667]]\n",
            "Actual Output: \n",
            " [[0.9 ]\n",
            " [0.72]\n",
            " [0.8 ]]\n",
            "Predicted Output: \n",
            " [[0.88654197]\n",
            " [0.72702663]\n",
            " [0.80087922]]\n",
            "Loss: \n",
            " 7.708840648926308e-05\n",
            "+---------EPOCH 9000---------+\n",
            "Input: \n",
            " [[0.66666667 1.        ]\n",
            " [0.33333333 0.55555556]\n",
            " [1.         0.66666667]]\n",
            "Actual Output: \n",
            " [[0.9 ]\n",
            " [0.72]\n",
            " [0.8 ]]\n",
            "Predicted Output: \n",
            " [[0.88902736]\n",
            " [0.72560982]\n",
            " [0.80069143]]\n",
            "Loss: \n",
            " 5.0782324278368314e-05\n",
            "+---------EPOCH 10000---------+\n",
            "Input: \n",
            " [[0.66666667 1.        ]\n",
            " [0.33333333 0.55555556]\n",
            " [1.         0.66666667]]\n",
            "Actual Output: \n",
            " [[0.9 ]\n",
            " [0.72]\n",
            " [0.8 ]]\n",
            "Predicted Output: \n",
            " [[0.89101407]\n",
            " [0.72451592]\n",
            " [0.80055031]]\n",
            "Loss: \n",
            " 3.381440236191647e-05\n"
          ],
          "name": "stdout"
        }
      ]
    },
    {
      "cell_type": "code",
      "metadata": {
        "id": "TYTT2AXHWi71",
        "colab_type": "code",
        "colab": {},
        "outputId": "7cba9be4-82d0-47b8-f496-0551371de71a"
      },
      "source": [
        "nn = NeuralNetwork()\n",
        "output = nn.feed_forward([4, 11])\n",
        "print(\"output\", output)"
      ],
      "execution_count": 0,
      "outputs": [
        {
          "output_type": "stream",
          "text": [
            "output [0.82591075]\n"
          ],
          "name": "stdout"
        }
      ]
    },
    {
      "cell_type": "markdown",
      "metadata": {
        "id": "M6C8sChMWi73",
        "colab_type": "text"
      },
      "source": [
        "## Challenge\n",
        "\n",
        "In the module project, you will implement backpropagation inside a multi-layer perceptron (aka a feedforward neural network). "
      ]
    },
    {
      "cell_type": "markdown",
      "metadata": {
        "id": "ckWQJAJlWi74",
        "colab_type": "text"
      },
      "source": [
        "# Stochastic Gradient Descent (Learn)"
      ]
    },
    {
      "cell_type": "markdown",
      "metadata": {
        "id": "IAf4HKipWi74",
        "colab_type": "text"
      },
      "source": [
        "## Overview\n",
        "\n",
        "The What - Stochastic Gradient Descent calculates an approximation of the gradient over the entire dataset by reviewing the predictions of a random sample. \n",
        "\n",
        "The Why - *Speed*. Calculating the gradient over the entire dataset is extremely expensive computationally. "
      ]
    },
    {
      "cell_type": "markdown",
      "metadata": {
        "colab_type": "text",
        "id": "ZF7UE-KluPsX"
      },
      "source": [
        "## Follow Along\n",
        "\n",
        "A true Stochastic GD-based implementation from [Welch Labs](https://www.youtube.com/watch?v=bxe2T-V8XRs)"
      ]
    },
    {
      "cell_type": "code",
      "metadata": {
        "id": "xy8ZaJfKWi75",
        "colab_type": "code",
        "colab": {}
      },
      "source": [
        "class Neural_Network(object):\n",
        "    def __init__(self):        \n",
        "        #Define Hyperparameters\n",
        "        self.inputLayerSize = 2\n",
        "        self.outputLayerSize = 1\n",
        "        self.hiddenLayerSize = 3\n",
        "        \n",
        "        #Weights (parameters)\n",
        "        self.W1 = np.random.randn(self.inputLayerSize,self.hiddenLayerSize)\n",
        "        self.W2 = np.random.randn(self.hiddenLayerSize,self.outputLayerSize)\n",
        "        \n",
        "    def forward(self, X):\n",
        "        #Propogate inputs though network\n",
        "        self.z2 = np.dot(X, self.W1)\n",
        "        self.a2 = self.sigmoid(self.z2)\n",
        "        self.z3 = np.dot(self.a2, self.W2)\n",
        "        yHat = self.sigmoid(self.z3) \n",
        "        return yHat\n",
        "        \n",
        "    def sigmoid(self, z):\n",
        "        #Apply sigmoid activation function to scalar, vector, or matrix\n",
        "        return 1/(1+np.exp(-z))\n",
        "    \n",
        "    def sigmoidPrime(self,z):\n",
        "        #Gradient of sigmoid\n",
        "        return np.exp(-z)/((1+np.exp(-z))**2)\n",
        "    \n",
        "    def costFunction(self, X, y):\n",
        "        #Compute cost for given X,y, use weights already stored in class.\n",
        "        self.yHat = self.forward(X)\n",
        "        J = 0.5*sum((y-self.yHat)**2)\n",
        "        return J\n",
        "        \n",
        "    def costFunctionPrime(self, X, y):\n",
        "        #Compute derivative with respect to W and W2 for a given X and y:\n",
        "        self.yHat = self.forward(X)\n",
        "        \n",
        "        delta3 = np.multiply(-(y-self.yHat), self.sigmoidPrime(self.z3))\n",
        "        dJdW2 = np.dot(self.a2.T, delta3)\n",
        "        \n",
        "        delta2 = np.dot(delta3, self.W2.T)*self.sigmoidPrime(self.z2)\n",
        "        dJdW1 = np.dot(X.T, delta2)  \n",
        "        \n",
        "        return dJdW1, dJdW2\n",
        "    \n",
        "    #Helper Functions for interacting with other classes:\n",
        "    def getParams(self):\n",
        "        #Get W1 and W2 unrolled into vector:\n",
        "        params = np.concatenate((self.W1.ravel(), self.W2.ravel()))\n",
        "        return params\n",
        "    \n",
        "    def setParams(self, params):\n",
        "        #Set W1 and W2 using single paramater vector.\n",
        "        W1_start = 0\n",
        "        W1_end = self.hiddenLayerSize * self.inputLayerSize\n",
        "        self.W1 = np.reshape(params[W1_start:W1_end], (self.inputLayerSize , self.hiddenLayerSize))\n",
        "        W2_end = W1_end + self.hiddenLayerSize*self.outputLayerSize\n",
        "        self.W2 = np.reshape(params[W1_end:W2_end], (self.hiddenLayerSize, self.outputLayerSize))\n",
        "        \n",
        "    def computeGradients(self, X, y):\n",
        "        dJdW1, dJdW2 = self.costFunctionPrime(X, y)\n",
        "        return np.concatenate((dJdW1.ravel(), dJdW2.ravel()))"
      ],
      "execution_count": 0,
      "outputs": []
    },
    {
      "cell_type": "code",
      "metadata": {
        "colab_type": "code",
        "id": "uA9LaTgKr6rP",
        "colab": {}
      },
      "source": [
        "from scipy import optimize\n",
        "\n",
        "class trainer(object):\n",
        "    def __init__(self, N):\n",
        "        #Make Local reference to network:\n",
        "        self.N = N\n",
        "        \n",
        "    def callbackF(self, params):\n",
        "        self.N.setParams(params)\n",
        "        self.J.append(self.N.costFunction(self.X, self.y))   \n",
        "        \n",
        "    def costFunctionWrapper(self, params, X, y):\n",
        "        self.N.setParams(params)\n",
        "        cost = self.N.costFunction(X, y)\n",
        "        grad = self.N.computeGradients(X,y)\n",
        "        \n",
        "        return cost, grad\n",
        "        \n",
        "    def train(self, X, y):\n",
        "        #Make an internal variable for the callback function:\n",
        "        self.X = X\n",
        "        self.y = y\n",
        "\n",
        "        #Make empty list to store costs:\n",
        "        self.J = []\n",
        "        \n",
        "        params0 = self.N.getParams()\n",
        "\n",
        "        options = {'maxiter': 200, 'disp' : True}\n",
        "        _res = optimize.minimize(self.costFunctionWrapper, params0, jac=True, method='BFGS', \\\n",
        "                                 args=(X, y), options=options, callback=self.callbackF)\n",
        "\n",
        "        self.N.setParams(_res.x)\n",
        "        self.optimizationResults = _res"
      ],
      "execution_count": 0,
      "outputs": []
    },
    {
      "cell_type": "code",
      "metadata": {
        "colab_type": "code",
        "id": "g_kHb6Se1u9y",
        "colab": {}
      },
      "source": [
        "NN = Neural_Network()"
      ],
      "execution_count": 0,
      "outputs": []
    },
    {
      "cell_type": "code",
      "metadata": {
        "colab_type": "code",
        "id": "hYYVhFf4rn3q",
        "colab": {}
      },
      "source": [
        "T = trainer(NN)"
      ],
      "execution_count": 0,
      "outputs": []
    },
    {
      "cell_type": "code",
      "metadata": {
        "colab_type": "code",
        "id": "L-gYdVfgrysE",
        "outputId": "ae371bf9-692c-49b4-b165-8562dab9c06e",
        "colab": {
          "base_uri": "https://localhost:8080/",
          "height": 104
        }
      },
      "source": [
        "T.train(X,y)"
      ],
      "execution_count": 0,
      "outputs": [
        {
          "output_type": "stream",
          "text": [
            "Optimization terminated successfully.\n",
            "         Current function value: 0.000000\n",
            "         Iterations: 32\n",
            "         Function evaluations: 43\n",
            "         Gradient evaluations: 43\n"
          ],
          "name": "stdout"
        }
      ]
    },
    {
      "cell_type": "code",
      "metadata": {
        "colab_type": "code",
        "id": "Jyv_L8Z2sKOA",
        "outputId": "08725651-6d21-401b-85c0-3487370b8bc0",
        "colab": {
          "base_uri": "https://localhost:8080/",
          "height": 121
        }
      },
      "source": [
        "print(\"Predicted Output: \\n\" + str(NN.forward(X))) \n",
        "print(\"Loss: \\n\" + str(np.mean(np.square(y - NN.forward(X))))) # mean sum squared loss"
      ],
      "execution_count": 0,
      "outputs": [
        {
          "output_type": "stream",
          "text": [
            "Predicted Output: \n",
            "[[0.90000678]\n",
            " [0.71998963]\n",
            " [0.80000411]]\n",
            "Loss: \n",
            "5.681303381609571e-11\n"
          ],
          "name": "stdout"
        }
      ]
    },
    {
      "cell_type": "code",
      "metadata": {
        "colab_type": "code",
        "id": "Gtf9WI9FtGPk",
        "outputId": "d062b2a3-5a92-403e-8ce0-c070aa79907b",
        "colab": {
          "base_uri": "https://localhost:8080/",
          "height": 361
        }
      },
      "source": [
        "import matplotlib.pyplot as plt\n",
        "plt.plot(T.J)\n",
        "plt.xlabel('Iterations')\n",
        "plt.ylabel('Cost')\n",
        "plt.show()     "
      ],
      "execution_count": 0,
      "outputs": [
        {
          "output_type": "display_data",
          "data": {
            "image/png": "[encoded data removed]",
            "text/plain": [
              "<Figure size 432x288 with 1 Axes>"
            ]
          },
          "metadata": {
            "tags": [],
            "needs_background": "light"
          }
        }
      ]
    },
    {
      "cell_type": "markdown",
      "metadata": {
        "id": "JRj_0ke6Wi8K",
        "colab_type": "text"
      },
      "source": [
        "## Challenge\n",
        "\n",
        "This is a reference implementation for you to explore. You will not be expected to apply it to today's module project. "
      ]
    },
    {
      "cell_type": "code",
      "metadata": {
        "id": "zjS8By9KWi8K",
        "colab_type": "code",
        "colab": {}
      },
      "source": [
        "#y = 2*hours_studying + 4*hours_sleeping + 50\n",
        "\n",
        "import numpy as np\n",
        "from tensorflow.keras.models import Sequential\n",
        "from tensorflow.keras.layers import Dense"
      ],
      "execution_count": 0,
      "outputs": []
    },
    {
      "cell_type": "code",
      "metadata": {
        "id": "hDMx3p9gWi8O",
        "colab_type": "code",
        "colab": {}
      },
      "source": [
        "def make_samples(n=1000):\n",
        "    \n",
        "    study = np.random.uniform(1,5,(n,1))\n",
        "    sleep = np.random.uniform(1,6,(n,1))\n",
        "    \n",
        "    y = 2*study + 4*sleep + 50\n",
        "    \n",
        "    X = np.append(study,sleep, axis=1)\n",
        "    \n",
        "    X = X / np.amax(X, axis=0)\n",
        "    y = y / 100\n",
        "    \n",
        "    return X,y"
      ],
      "execution_count": 0,
      "outputs": []
    },
    {
      "cell_type": "code",
      "metadata": {
        "id": "NHuWWMEFWi8P",
        "colab_type": "code",
        "colab": {}
      },
      "source": [
        "X,y = make_samples()"
      ],
      "execution_count": 0,
      "outputs": []
    },
    {
      "cell_type": "code",
      "metadata": {
        "id": "bqNNfTDiWi8R",
        "colab_type": "code",
        "colab": {},
        "outputId": "25594b03-cf52-47e2-8faa-796f7033497c"
      },
      "source": [
        "model = Sequential([\n",
        "    Dense(3, activation='relu', input_dim=2),\n",
        "    Dense(1, activation='relu')\n",
        "])\n",
        "\n",
        "model.compile(optimizer='sgd', loss='mse', metrics=['mae', 'mse'])\n",
        "\n",
        "results = model.fit(X,y, epochs=100)"
      ],
      "execution_count": 0,
      "outputs": [
        {
          "output_type": "stream",
          "text": [
            "Train on 1000 samples\n",
            "Epoch 1/100\n",
            "1000/1000 [==============================] - 1s 612us/sample - loss: 0.2435 - mae: 0.4632 - mse: 0.2435\n",
            "Epoch 2/100\n",
            "1000/1000 [==============================] - 0s 121us/sample - loss: 0.0664 - mae: 0.2280 - mse: 0.0664\n",
            "Epoch 3/100\n",
            "1000/1000 [==============================] - 0s 121us/sample - loss: 0.0410 - mae: 0.1774 - mse: 0.0410\n",
            "Epoch 4/100\n",
            "1000/1000 [==============================] - 0s 95us/sample - loss: 0.0352 - mae: 0.1629 - mse: 0.0352\n",
            "Epoch 5/100\n",
            "1000/1000 [==============================] - 0s 93us/sample - loss: 0.0312 - mae: 0.1536 - mse: 0.0312\n",
            "Epoch 6/100\n",
            "1000/1000 [==============================] - 0s 93us/sample - loss: 0.0278 - mae: 0.1448 - mse: 0.0278\n",
            "Epoch 7/100\n",
            "1000/1000 [==============================] - 0s 88us/sample - loss: 0.0247 - mae: 0.1365 - mse: 0.0247\n",
            "Epoch 8/100\n",
            "1000/1000 [==============================] - 0s 73us/sample - loss: 0.0219 - mae: 0.1273 - mse: 0.0219\n",
            "Epoch 9/100\n",
            "1000/1000 [==============================] - 0s 104us/sample - loss: 0.0192 - mae: 0.1194 - mse: 0.0192\n",
            "Epoch 10/100\n",
            "1000/1000 [==============================] - 0s 101us/sample - loss: 0.0170 - mae: 0.1107 - mse: 0.0170\n",
            "Epoch 11/100\n",
            "1000/1000 [==============================] - 0s 89us/sample - loss: 0.0149 - mae: 0.1018 - mse: 0.0149\n",
            "Epoch 12/100\n",
            "1000/1000 [==============================] - 0s 94us/sample - loss: 0.0130 - mae: 0.0939 - mse: 0.0130\n",
            "Epoch 13/100\n",
            "1000/1000 [==============================] - 0s 82us/sample - loss: 0.0114 - mae: 0.0866 - mse: 0.0114\n",
            "Epoch 14/100\n",
            "1000/1000 [==============================] - 0s 78us/sample - loss: 0.0100 - mae: 0.0798 - mse: 0.0100\n",
            "Epoch 15/100\n",
            "1000/1000 [==============================] - 0s 86us/sample - loss: 0.0087 - mae: 0.0744 - mse: 0.0087\n",
            "Epoch 16/100\n",
            "1000/1000 [==============================] - 0s 82us/sample - loss: 0.0077 - mae: 0.0696 - mse: 0.0077\n",
            "Epoch 17/100\n",
            "1000/1000 [==============================] - 0s 83us/sample - loss: 0.0068 - mae: 0.0654 - mse: 0.0068\n",
            "Epoch 18/100\n",
            "1000/1000 [==============================] - 0s 86us/sample - loss: 0.0061 - mae: 0.0624 - mse: 0.0061\n",
            "Epoch 19/100\n",
            "1000/1000 [==============================] - 0s 76us/sample - loss: 0.0056 - mae: 0.0601 - mse: 0.0056\n",
            "Epoch 20/100\n",
            "1000/1000 [==============================] - 0s 87us/sample - loss: 0.0052 - mae: 0.0584 - mse: 0.0052\n",
            "Epoch 21/100\n",
            "1000/1000 [==============================] - 0s 85us/sample - loss: 0.0049 - mae: 0.0572 - mse: 0.0049\n",
            "Epoch 22/100\n",
            "1000/1000 [==============================] - 0s 78us/sample - loss: 0.0047 - mae: 0.0562 - mse: 0.0047\n",
            "Epoch 23/100\n",
            "1000/1000 [==============================] - 0s 82us/sample - loss: 0.0045 - mae: 0.0554 - mse: 0.0045\n",
            "Epoch 24/100\n",
            "1000/1000 [==============================] - 0s 80us/sample - loss: 0.0043 - mae: 0.0548 - mse: 0.0043\n",
            "Epoch 25/100\n",
            "1000/1000 [==============================] - 0s 87us/sample - loss: 0.0042 - mae: 0.0542 - mse: 0.0042\n",
            "Epoch 26/100\n",
            "1000/1000 [==============================] - 0s 86us/sample - loss: 0.0042 - mae: 0.0538 - mse: 0.0042\n",
            "Epoch 27/100\n",
            "1000/1000 [==============================] - 0s 85us/sample - loss: 0.0041 - mae: 0.0534 - mse: 0.0041\n",
            "Epoch 28/100\n",
            "1000/1000 [==============================] - 0s 72us/sample - loss: 0.0040 - mae: 0.0530 - mse: 0.0040\n",
            "Epoch 29/100\n",
            "1000/1000 [==============================] - 0s 91us/sample - loss: 0.0040 - mae: 0.0527 - mse: 0.0040\n",
            "Epoch 30/100\n",
            "1000/1000 [==============================] - 0s 74us/sample - loss: 0.0039 - mae: 0.0525 - mse: 0.0039\n",
            "Epoch 31/100\n",
            "1000/1000 [==============================] - 0s 79us/sample - loss: 0.0039 - mae: 0.0522 - mse: 0.0039\n",
            "Epoch 32/100\n",
            "1000/1000 [==============================] - 0s 79us/sample - loss: 0.0039 - mae: 0.0520 - mse: 0.0039\n",
            "Epoch 33/100\n",
            "1000/1000 [==============================] - 0s 81us/sample - loss: 0.0038 - mae: 0.0518 - mse: 0.0038\n",
            "Epoch 34/100\n",
            "1000/1000 [==============================] - 0s 71us/sample - loss: 0.0038 - mae: 0.0516 - mse: 0.0038\n",
            "Epoch 35/100\n",
            "1000/1000 [==============================] - ETA: 0s - loss: 0.0037 - mae: 0.0512 - mse: 0.003 - 0s 78us/sample - loss: 0.0038 - mae: 0.0515 - mse: 0.0038\n",
            "Epoch 36/100\n",
            "1000/1000 [==============================] - 0s 72us/sample - loss: 0.0038 - mae: 0.0514 - mse: 0.0038\n",
            "Epoch 37/100\n",
            "1000/1000 [==============================] - 0s 76us/sample - loss: 0.0038 - mae: 0.0514 - mse: 0.0038\n",
            "Epoch 38/100\n",
            "1000/1000 [==============================] - 0s 95us/sample - loss: 0.0037 - mae: 0.0512 - mse: 0.0037\n",
            "Epoch 39/100\n",
            "1000/1000 [==============================] - 0s 84us/sample - loss: 0.0037 - mae: 0.0512 - mse: 0.00370s - loss: 0.0037 - mae: 0.0509 - mse: 0.003\n",
            "Epoch 40/100\n",
            "1000/1000 [==============================] - 0s 77us/sample - loss: 0.0037 - mae: 0.0512 - mse: 0.0037\n",
            "Epoch 41/100\n",
            "1000/1000 [==============================] - 0s 76us/sample - loss: 0.0037 - mae: 0.0511 - mse: 0.0037\n",
            "Epoch 42/100\n",
            "1000/1000 [==============================] - 0s 89us/sample - loss: 0.0037 - mae: 0.0511 - mse: 0.0037\n",
            "Epoch 43/100\n",
            "1000/1000 [==============================] - 0s 88us/sample - loss: 0.0037 - mae: 0.0510 - mse: 0.0037\n",
            "Epoch 44/100\n",
            "1000/1000 [==============================] - 0s 78us/sample - loss: 0.0037 - mae: 0.0511 - mse: 0.0037\n",
            "Epoch 45/100\n",
            "1000/1000 [==============================] - 0s 73us/sample - loss: 0.0037 - mae: 0.0511 - mse: 0.0037\n",
            "Epoch 46/100\n",
            "1000/1000 [==============================] - 0s 78us/sample - loss: 0.0037 - mae: 0.0510 - mse: 0.0037\n",
            "Epoch 47/100\n",
            "1000/1000 [==============================] - 0s 77us/sample - loss: 0.0037 - mae: 0.0511 - mse: 0.0037\n",
            "Epoch 48/100\n",
            "1000/1000 [==============================] - 0s 74us/sample - loss: 0.0037 - mae: 0.0510 - mse: 0.0037\n",
            "Epoch 49/100\n",
            "1000/1000 [==============================] - 0s 85us/sample - loss: 0.0037 - mae: 0.0510 - mse: 0.0037\n",
            "Epoch 50/100\n",
            "1000/1000 [==============================] - 0s 89us/sample - loss: 0.0037 - mae: 0.0509 - mse: 0.0037\n",
            "Epoch 51/100\n",
            "1000/1000 [==============================] - 0s 87us/sample - loss: 0.0037 - mae: 0.0510 - mse: 0.0037\n",
            "Epoch 52/100\n",
            "1000/1000 [==============================] - 0s 89us/sample - loss: 0.0037 - mae: 0.0509 - mse: 0.0037\n",
            "Epoch 53/100\n",
            "1000/1000 [==============================] - 0s 90us/sample - loss: 0.0037 - mae: 0.0509 - mse: 0.0037\n",
            "Epoch 54/100\n",
            "1000/1000 [==============================] - 0s 74us/sample - loss: 0.0037 - mae: 0.0509 - mse: 0.0037\n",
            "Epoch 55/100\n",
            "1000/1000 [==============================] - 0s 78us/sample - loss: 0.0037 - mae: 0.0509 - mse: 0.0037\n",
            "Epoch 56/100\n",
            "1000/1000 [==============================] - 0s 76us/sample - loss: 0.0037 - mae: 0.0509 - mse: 0.0037\n",
            "Epoch 57/100\n",
            "1000/1000 [==============================] - 0s 72us/sample - loss: 0.0037 - mae: 0.0508 - mse: 0.0037\n",
            "Epoch 58/100\n",
            "1000/1000 [==============================] - 0s 76us/sample - loss: 0.0037 - mae: 0.0508 - mse: 0.0037\n",
            "Epoch 59/100\n",
            "1000/1000 [==============================] - 0s 75us/sample - loss: 0.0037 - mae: 0.0508 - mse: 0.0037\n",
            "Epoch 60/100\n",
            "1000/1000 [==============================] - 0s 75us/sample - loss: 0.0037 - mae: 0.0508 - mse: 0.0037\n",
            "Epoch 61/100\n",
            "1000/1000 [==============================] - 0s 76us/sample - loss: 0.0037 - mae: 0.0508 - mse: 0.0037\n",
            "Epoch 62/100\n",
            "1000/1000 [==============================] - 0s 71us/sample - loss: 0.0037 - mae: 0.0508 - mse: 0.0037\n",
            "Epoch 63/100\n",
            "1000/1000 [==============================] - 0s 86us/sample - loss: 0.0037 - mae: 0.0508 - mse: 0.0037\n",
            "Epoch 64/100\n",
            "1000/1000 [==============================] - 0s 72us/sample - loss: 0.0037 - mae: 0.0508 - mse: 0.0037\n",
            "Epoch 65/100\n",
            "1000/1000 [==============================] - 0s 75us/sample - loss: 0.0037 - mae: 0.0508 - mse: 0.0037\n",
            "Epoch 66/100\n",
            "1000/1000 [==============================] - 0s 83us/sample - loss: 0.0037 - mae: 0.0507 - mse: 0.0037\n",
            "Epoch 67/100\n",
            "1000/1000 [==============================] - 0s 74us/sample - loss: 0.0037 - mae: 0.0508 - mse: 0.0037\n",
            "Epoch 68/100\n",
            "1000/1000 [==============================] - 0s 79us/sample - loss: 0.0037 - mae: 0.0508 - mse: 0.0037\n",
            "Epoch 69/100\n",
            "1000/1000 [==============================] - 0s 82us/sample - loss: 0.0037 - mae: 0.0507 - mse: 0.0037\n",
            "Epoch 70/100\n",
            "1000/1000 [==============================] - 0s 76us/sample - loss: 0.0037 - mae: 0.0507 - mse: 0.0037\n",
            "Epoch 71/100\n",
            "1000/1000 [==============================] - 0s 76us/sample - loss: 0.0037 - mae: 0.0507 - mse: 0.0037\n",
            "Epoch 72/100\n",
            "1000/1000 [==============================] - 0s 72us/sample - loss: 0.0037 - mae: 0.0507 - mse: 0.0037\n",
            "Epoch 73/100\n",
            "1000/1000 [==============================] - 0s 73us/sample - loss: 0.0037 - mae: 0.0508 - mse: 0.0037\n",
            "Epoch 74/100\n",
            "1000/1000 [==============================] - 0s 75us/sample - loss: 0.0037 - mae: 0.0507 - mse: 0.0037\n",
            "Epoch 75/100\n",
            "1000/1000 [==============================] - 0s 70us/sample - loss: 0.0037 - mae: 0.0507 - mse: 0.0037\n",
            "Epoch 76/100\n",
            "1000/1000 [==============================] - 0s 71us/sample - loss: 0.0037 - mae: 0.0507 - mse: 0.0037\n",
            "Epoch 77/100\n",
            "1000/1000 [==============================] - 0s 73us/sample - loss: 0.0037 - mae: 0.0507 - mse: 0.0037\n",
            "Epoch 78/100\n",
            "1000/1000 [==============================] - 0s 69us/sample - loss: 0.0037 - mae: 0.0507 - mse: 0.0037\n",
            "Epoch 79/100\n",
            "1000/1000 [==============================] - 0s 68us/sample - loss: 0.0036 - mae: 0.0507 - mse: 0.0036\n",
            "Epoch 80/100\n",
            "1000/1000 [==============================] - 0s 74us/sample - loss: 0.0036 - mae: 0.0507 - mse: 0.0036\n",
            "Epoch 81/100\n",
            "1000/1000 [==============================] - 0s 75us/sample - loss: 0.0036 - mae: 0.0507 - mse: 0.0036\n",
            "Epoch 82/100\n",
            "1000/1000 [==============================] - 0s 70us/sample - loss: 0.0036 - mae: 0.0507 - mse: 0.0036\n",
            "Epoch 83/100\n",
            "1000/1000 [==============================] - 0s 75us/sample - loss: 0.0036 - mae: 0.0507 - mse: 0.0036\n",
            "Epoch 84/100\n",
            "1000/1000 [==============================] - 0s 70us/sample - loss: 0.0036 - mae: 0.0507 - mse: 0.0036\n",
            "Epoch 85/100\n",
            "1000/1000 [==============================] - 0s 69us/sample - loss: 0.0036 - mae: 0.0507 - mse: 0.0036\n",
            "Epoch 86/100\n",
            "1000/1000 [==============================] - 0s 69us/sample - loss: 0.0036 - mae: 0.0507 - mse: 0.0036\n",
            "Epoch 87/100\n",
            "1000/1000 [==============================] - 0s 74us/sample - loss: 0.0036 - mae: 0.0507 - mse: 0.0036\n",
            "Epoch 88/100\n",
            "1000/1000 [==============================] - 0s 74us/sample - loss: 0.0036 - mae: 0.0507 - mse: 0.0036\n",
            "Epoch 89/100\n",
            "1000/1000 [==============================] - 0s 73us/sample - loss: 0.0036 - mae: 0.0507 - mse: 0.0036\n",
            "Epoch 90/100\n",
            "1000/1000 [==============================] - 0s 76us/sample - loss: 0.0036 - mae: 0.0507 - mse: 0.0036\n",
            "Epoch 91/100\n",
            "1000/1000 [==============================] - 0s 69us/sample - loss: 0.0036 - mae: 0.0507 - mse: 0.0036\n",
            "Epoch 92/100\n",
            "1000/1000 [==============================] - 0s 75us/sample - loss: 0.0036 - mae: 0.0507 - mse: 0.0036\n",
            "Epoch 93/100\n",
            "1000/1000 [==============================] - 0s 70us/sample - loss: 0.0036 - mae: 0.0507 - mse: 0.0036\n",
            "Epoch 94/100\n",
            "1000/1000 [==============================] - 0s 70us/sample - loss: 0.0036 - mae: 0.0507 - mse: 0.0036\n",
            "Epoch 95/100\n",
            "1000/1000 [==============================] - 0s 76us/sample - loss: 0.0036 - mae: 0.0506 - mse: 0.0036\n",
            "Epoch 96/100\n",
            "1000/1000 [==============================] - 0s 70us/sample - loss: 0.0036 - mae: 0.0507 - mse: 0.0036\n",
            "Epoch 97/100\n",
            "1000/1000 [==============================] - 0s 73us/sample - loss: 0.0036 - mae: 0.0507 - mse: 0.0036\n",
            "Epoch 98/100\n",
            "1000/1000 [==============================] - 0s 75us/sample - loss: 0.0036 - mae: 0.0507 - mse: 0.0036\n",
            "Epoch 99/100\n",
            "1000/1000 [==============================] - 0s 72us/sample - loss: 0.0036 - mae: 0.0507 - mse: 0.0036\n",
            "Epoch 100/100\n",
            "1000/1000 [==============================] - 0s 70us/sample - loss: 0.0036 - mae: 0.0506 - mse: 0.0036\n"
          ],
          "name": "stdout"
        }
      ]
    },
    {
      "cell_type": "code",
      "metadata": {
        "id": "Rvuex9A8Wi8U",
        "colab_type": "code",
        "colab": {}
      },
      "source": [
        "import seaborn as sns"
      ],
      "execution_count": 0,
      "outputs": []
    },
    {
      "cell_type": "code",
      "metadata": {
        "id": "jP85QnuZWi8W",
        "colab_type": "code",
        "colab": {},
        "outputId": "bf9af5b9-6ce9-464e-e1ef-7b39d79d39f1"
      },
      "source": [
        "results.history.keys()"
      ],
      "execution_count": 0,
      "outputs": [
        {
          "output_type": "execute_result",
          "data": {
            "text/plain": [
              "dict_keys(['loss', 'mae', 'mse'])"
            ]
          },
          "metadata": {
            "tags": []
          },
          "execution_count": 95
        }
      ]
    },
    {
      "cell_type": "code",
      "metadata": {
        "id": "9NdzGpYmWi8Z",
        "colab_type": "code",
        "colab": {}
      },
      "source": [
        "epochs = [i for i in range(100)]"
      ],
      "execution_count": 0,
      "outputs": []
    },
    {
      "cell_type": "code",
      "metadata": {
        "id": "EUTv2_A_Wi8b",
        "colab_type": "code",
        "colab": {},
        "outputId": "98a086c6-6774-4fca-d264-ba07c636debb"
      },
      "source": [
        "len(epochs)"
      ],
      "execution_count": 0,
      "outputs": [
        {
          "output_type": "execute_result",
          "data": {
            "text/plain": [
              "100"
            ]
          },
          "metadata": {
            "tags": []
          },
          "execution_count": 97
        }
      ]
    },
    {
      "cell_type": "code",
      "metadata": {
        "id": "VtmpytOYWi8d",
        "colab_type": "code",
        "colab": {},
        "outputId": "8472efd5-39f7-4346-c2c3-b52495ceb013"
      },
      "source": [
        "# with relu\n",
        "plt.plot(results.history['loss'])"
      ],
      "execution_count": 0,
      "outputs": [
        {
          "output_type": "execute_result",
          "data": {
            "text/plain": [
              "[<matplotlib.lines.Line2D at 0x24c54f142b0>]"
            ]
          },
          "metadata": {
            "tags": []
          },
          "execution_count": 98
        },
        {
          "output_type": "display_data",
          "data": {
            "image/png": "[encoded data removed]",
            "text/plain": [
              "<Figure size 432x288 with 1 Axes>"
            ]
          },
          "metadata": {
            "tags": [],
            "needs_background": "light"
          }
        }
      ]
    },
    {
      "cell_type": "code",
      "metadata": {
        "id": "2Yhl5ruxWi8f",
        "colab_type": "code",
        "colab": {},
        "outputId": "a7764cb5-924c-4f73-f1ea-299bf200a391"
      },
      "source": [
        "# with sigmoid\n",
        "plt.plot(results.history['loss'])"
      ],
      "execution_count": 0,
      "outputs": [
        {
          "output_type": "execute_result",
          "data": {
            "text/plain": [
              "[<matplotlib.lines.Line2D at 0x24c539d9160>]"
            ]
          },
          "metadata": {
            "tags": []
          },
          "execution_count": 92
        },
        {
          "output_type": "display_data",
          "data": {
            "image/png": "[encoded data removed]",
            "text/plain": [
              "<Figure size 432x288 with 1 Axes>"
            ]
          },
          "metadata": {
            "tags": [],
            "needs_background": "light"
          }
        }
      ]
    },
    {
      "cell_type": "code",
      "metadata": {
        "id": "eWRYzHxuWi8h",
        "colab_type": "code",
        "colab": {}
      },
      "source": [
        ""
      ],
      "execution_count": 0,
      "outputs": []
    }
  ]
}