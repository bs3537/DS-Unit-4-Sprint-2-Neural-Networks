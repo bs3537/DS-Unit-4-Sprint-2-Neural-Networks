{
  "nbformat": 4,
  "nbformat_minor": 0,
  "metadata": {
    "colab": {
      "name": "MNIST_image_dataset_LSTM_RNN_Model.ipynb",
      "provenance": [],
      "collapsed_sections": [],
      "machine_shape": "hm",
      "include_colab_link": true
    },
    "kernelspec": {
      "name": "python3",
      "display_name": "Python 3"
    },
    "language_info": {
      "codemirror_mode": {
        "name": "ipython",
        "version": 3
      },
      "file_extension": ".py",
      "mimetype": "text/x-python",
      "name": "python",
      "nbconvert_exporter": "python",
      "pygments_lexer": "ipython3",
      "version": "3.7.3"
    },
    "accelerator": "TPU"
  },
  "cells": [
    {
      "cell_type": "markdown",
      "metadata": {
        "id": "view-in-github",
        "colab_type": "text"
      },
      "source": [
        "<a href=\"https://colab.research.google.com/github/bs3537/DS-Unit-4-Sprint-2-Neural-Networks/blob/master/MNIST_image_dataset_LSTM_RNN_Model.ipynb\" target=\"_parent\"><img src=\"https://colab.research.google.com/assets/colab-badge.svg\" alt=\"Open In Colab\"/></a>"
      ]
    },
    {
      "cell_type": "markdown",
      "metadata": {
        "id": "VTDWE9v_V3bi",
        "colab_type": "text"
      },
      "source": [
        "##MNIST IMAGE DATASET CLASSIFICATION USING RNN AND LSTM"
      ]
    },
    {
      "cell_type": "code",
      "metadata": {
        "id": "qvzhXbe_WB2Q",
        "colab_type": "code",
        "colab": {}
      },
      "source": [
        "pip install tensorflow==1.4 #downgrade tensorflow to 1.4 to use function like keras placeholder"
      ],
      "execution_count": 0,
      "outputs": []
    },
    {
      "cell_type": "code",
      "metadata": {
        "id": "Xz5R6vAFWtIf",
        "colab_type": "code",
        "colab": {}
      },
      "source": [
        "pip uninstall keras"
      ],
      "execution_count": 0,
      "outputs": []
    },
    {
      "cell_type": "code",
      "metadata": {
        "id": "2cU9zR9eWggr",
        "colab_type": "code",
        "colab": {}
      },
      "source": [
        "pip install keras==2.1.5 -i https://pypi.tuna.tsinghua.edu.cn/simple"
      ],
      "execution_count": 0,
      "outputs": []
    },
    {
      "cell_type": "code",
      "metadata": {
        "id": "HXXgYhEKWVID",
        "colab_type": "code",
        "colab": {}
      },
      "source": [
        "from keras.datasets import mnist"
      ],
      "execution_count": 0,
      "outputs": []
    },
    {
      "cell_type": "code",
      "metadata": {
        "id": "Bi23tzo-XURd",
        "colab_type": "code",
        "colab": {
          "base_uri": "https://localhost:8080/",
          "height": 54
        },
        "outputId": "98278e70-ed6a-47f6-fe9a-659739a41b6b"
      },
      "source": [
        "(x_train, y_train), (x_test, y_test) = mnist.load_data()"
      ],
      "execution_count": 5,
      "outputs": [
        {
          "output_type": "stream",
          "text": [
            "Downloading data from https://s3.amazonaws.com/img-datasets/mnist.npz\n",
            "11493376/11490434 [==============================] - 0s 0us/step\n"
          ],
          "name": "stdout"
        }
      ]
    },
    {
      "cell_type": "code",
      "metadata": {
        "id": "zLFKXOQDXYwK",
        "colab_type": "code",
        "outputId": "24004a02-3dfa-45ab-d936-4c6cbf3f690f",
        "colab": {
          "base_uri": "https://localhost:8080/",
          "height": 268
        }
      },
      "source": [
        "import matplotlib.pyplot as plt\n",
        "\n",
        "# plot 4 images as gray scale\n",
        "plt.subplot(221)\n",
        "plt.imshow(x_train[50], cmap=plt.get_cmap('gray'))\n",
        "plt.subplot(222)\n",
        "plt.imshow(x_train[70], cmap=plt.get_cmap('gray'))\n",
        "plt.subplot(223)\n",
        "plt.imshow(x_train[100], cmap=plt.get_cmap('gray'))\n",
        "plt.subplot(224)\n",
        "plt.imshow(x_train[200], cmap=plt.get_cmap('gray'))\n",
        "# show the plot\n",
        "plt.show()"
      ],
      "execution_count": 6,
      "outputs": [
        {
          "output_type": "display_data",
          "data": {
            "image/png": "[encoded data removed]",
            "text/plain": [
              "<Figure size 432x288 with 4 Axes>"
            ]
          },
          "metadata": {
            "tags": [],
            "needs_background": "light"
          }
        }
      ]
    },
    {
      "cell_type": "code",
      "metadata": {
        "id": "BIKiQEBTk_Es",
        "colab_type": "code",
        "outputId": "bc7b948a-29c1-44f3-d9c8-140d45d304ec",
        "colab": {
          "base_uri": "https://localhost:8080/",
          "height": 35
        }
      },
      "source": [
        "x_train.shape, y_train.shape"
      ],
      "execution_count": 7,
      "outputs": [
        {
          "output_type": "execute_result",
          "data": {
            "text/plain": [
              "((60000, 28, 28), (60000,))"
            ]
          },
          "metadata": {
            "tags": []
          },
          "execution_count": 7
        }
      ]
    },
    {
      "cell_type": "code",
      "metadata": {
        "id": "ODyLCw-akeXS",
        "colab_type": "code",
        "colab": {}
      },
      "source": [
        "#Reshape images \n",
        "\n",
        "x_train = x_train / 255.0\n",
        "x_test = x_test / 255.0"
      ],
      "execution_count": 0,
      "outputs": []
    },
    {
      "cell_type": "code",
      "metadata": {
        "id": "XNQSp6QOkkJL",
        "colab_type": "code",
        "outputId": "31339033-cddc-492f-e48b-1a22d3ef9467",
        "colab": {
          "base_uri": "https://localhost:8080/",
          "height": 35
        }
      },
      "source": [
        "print(x_train[0].shape)"
      ],
      "execution_count": 9,
      "outputs": [
        {
          "output_type": "stream",
          "text": [
            "(28, 28)\n"
          ],
          "name": "stdout"
        }
      ]
    },
    {
      "cell_type": "code",
      "metadata": {
        "id": "l6lsxUGYnrlq",
        "colab_type": "code",
        "outputId": "72edfded-c323-42dc-d9f1-e9c74c9d0b96",
        "colab": {
          "base_uri": "https://localhost:8080/",
          "height": 35
        }
      },
      "source": [
        "x_train.shape[1:]"
      ],
      "execution_count": 10,
      "outputs": [
        {
          "output_type": "execute_result",
          "data": {
            "text/plain": [
              "(28, 28)"
            ]
          },
          "metadata": {
            "tags": []
          },
          "execution_count": 10
        }
      ]
    },
    {
      "cell_type": "code",
      "metadata": {
        "id": "SHPce0aekx5z",
        "colab_type": "code",
        "colab": {}
      },
      "source": [
        "#Build LSTM model"
      ],
      "execution_count": 0,
      "outputs": []
    },
    {
      "cell_type": "code",
      "metadata": {
        "id": "4p0w9LjUk5Bd",
        "colab_type": "code",
        "colab": {}
      },
      "source": [
        "from keras.models import Sequential\n",
        "from keras.layers import Dense, LSTM, Dropout, Flatten\n",
        "from keras.callbacks import ModelCheckpoint, EarlyStopping"
      ],
      "execution_count": 0,
      "outputs": []
    },
    {
      "cell_type": "code",
      "metadata": {
        "id": "9o6xhEJvlXxG",
        "colab_type": "code",
        "colab": {}
      },
      "source": [
        "num_classes = 10                   #(10 digits here from 0 to 10)"
      ],
      "execution_count": 0,
      "outputs": []
    },
    {
      "cell_type": "code",
      "metadata": {
        "id": "XlB_NzoKlUwX",
        "colab_type": "code",
        "colab": {}
      },
      "source": [
        "model = Sequential()\n",
        "\n",
        "model.add(LSTM(128, input_shape=(x_train.shape[1:]), activation='relu', return_sequences=True))\n",
        "model.add(Dropout(0.2))\n",
        "\n",
        "model.add(LSTM(128, activation='relu'))\n",
        "model.add(Dropout(0.2))\n",
        "\n",
        "model.add(Dense(32, activation='relu'))\n",
        "model.add(Dropout(0.2))\n",
        "\n",
        "model.add(Dense(num_classes, activation='softmax')) #use softmax for multiclass classification, #10 = number of classes"
      ],
      "execution_count": 0,
      "outputs": []
    },
    {
      "cell_type": "code",
      "metadata": {
        "id": "1QRxJhsFlkiu",
        "colab_type": "code",
        "colab": {}
      },
      "source": [
        "model.compile(loss='sparse_categorical_crossentropy', optimizer='adam', metrics=['accuracy'])   #use sparse categorical croosentropy in multiclass classification when classes are as integers"
      ],
      "execution_count": 0,
      "outputs": []
    },
    {
      "cell_type": "code",
      "metadata": {
        "id": "empXQFFHpTCN",
        "colab_type": "code",
        "outputId": "8f0bb3cc-a889-4325-fa26-ca8e6725e4fb",
        "colab": {
          "base_uri": "https://localhost:8080/",
          "height": 399
        }
      },
      "source": [
        "model.summary()"
      ],
      "execution_count": 16,
      "outputs": [
        {
          "output_type": "stream",
          "text": [
            "_________________________________________________________________\n",
            "Layer (type)                 Output Shape              Param #   \n",
            "=================================================================\n",
            "lstm_1 (LSTM)                (None, 28, 128)           80384     \n",
            "_________________________________________________________________\n",
            "dropout_1 (Dropout)          (None, 28, 128)           0         \n",
            "_________________________________________________________________\n",
            "lstm_2 (LSTM)                (None, 128)               131584    \n",
            "_________________________________________________________________\n",
            "dropout_2 (Dropout)          (None, 128)               0         \n",
            "_________________________________________________________________\n",
            "dense_1 (Dense)              (None, 32)                4128      \n",
            "_________________________________________________________________\n",
            "dropout_3 (Dropout)          (None, 32)                0         \n",
            "_________________________________________________________________\n",
            "dense_2 (Dense)              (None, 10)                330       \n",
            "=================================================================\n",
            "Total params: 216,426\n",
            "Trainable params: 216,426\n",
            "Non-trainable params: 0\n",
            "_________________________________________________________________\n"
          ],
          "name": "stdout"
        }
      ]
    },
    {
      "cell_type": "code",
      "metadata": {
        "id": "SOv7-6xZsDNb",
        "colab_type": "code",
        "outputId": "feb1cd6e-ac13-4176-eb97-f6a956ab48e6",
        "colab": {
          "base_uri": "https://localhost:8080/",
          "height": 72
        }
      },
      "source": [
        "pip install h5py"
      ],
      "execution_count": 17,
      "outputs": [
        {
          "output_type": "stream",
          "text": [
            "Requirement already satisfied: h5py in /usr/local/lib/python3.6/dist-packages (2.10.0)\n",
            "Requirement already satisfied: numpy>=1.7 in /usr/local/lib/python3.6/dist-packages (from h5py) (1.18.2)\n",
            "Requirement already satisfied: six in /usr/local/lib/python3.6/dist-packages (from h5py) (1.12.0)\n"
          ],
          "name": "stdout"
        }
      ]
    },
    {
      "cell_type": "code",
      "metadata": {
        "id": "fl4ErqEUrkst",
        "colab_type": "code",
        "colab": {}
      },
      "source": [
        "\n",
        "es = EarlyStopping(monitor='val_loss', mode='min', verbose=1)\n",
        "\n",
        "mc = ModelCheckpoint('best_LSTM_model.h5', monitor='val_loss', mode='min', save_best_only=True, verbose=1)"
      ],
      "execution_count": 0,
      "outputs": []
    },
    {
      "cell_type": "code",
      "metadata": {
        "id": "X2VOV0i7szBa",
        "colab_type": "code",
        "outputId": "9dc952fa-7af2-480b-89a9-db3afb802269",
        "colab": {
          "base_uri": "https://localhost:8080/",
          "height": 435
        }
      },
      "source": [
        "model.fit(x_train, y_train, epochs=20, validation_data=(x_test, y_test), callbacks=[es, mc])"
      ],
      "execution_count": 19,
      "outputs": [
        {
          "output_type": "stream",
          "text": [
            "Train on 60000 samples, validate on 10000 samples\n",
            "Epoch 1/20\n",
            "60000/60000 [==============================] - 113s 2ms/step - loss: 0.6771 - acc: 0.7771 - val_loss: 0.1338 - val_acc: 0.9620\n",
            "\n",
            "Epoch 00001: val_loss improved from inf to 0.13381, saving model to best_LSTM_model.h5\n",
            "Epoch 2/20\n",
            "60000/60000 [==============================] - 116s 2ms/step - loss: 0.1683 - acc: 0.9559 - val_loss: 0.0778 - val_acc: 0.9775\n",
            "\n",
            "Epoch 00002: val_loss improved from 0.13381 to 0.07781, saving model to best_LSTM_model.h5\n",
            "Epoch 3/20\n",
            "60000/60000 [==============================] - 114s 2ms/step - loss: 0.1167 - acc: 0.9696 - val_loss: 0.0730 - val_acc: 0.9775\n",
            "\n",
            "Epoch 00003: val_loss improved from 0.07781 to 0.07305, saving model to best_LSTM_model.h5\n",
            "Epoch 4/20\n",
            "60000/60000 [==============================] - 116s 2ms/step - loss: 0.0888 - acc: 0.9766 - val_loss: 0.0549 - val_acc: 0.9842\n",
            "\n",
            "Epoch 00004: val_loss improved from 0.07305 to 0.05491, saving model to best_LSTM_model.h5\n",
            "Epoch 5/20\n",
            "60000/60000 [==============================] - 116s 2ms/step - loss: 0.0745 - acc: 0.9812 - val_loss: 0.0585 - val_acc: 0.9840\n",
            "\n",
            "Epoch 00005: val_loss did not improve\n",
            "Epoch 00005: early stopping\n"
          ],
          "name": "stdout"
        },
        {
          "output_type": "execute_result",
          "data": {
            "text/plain": [
              "<keras.callbacks.History at 0x7f1803a7cef0>"
            ]
          },
          "metadata": {
            "tags": []
          },
          "execution_count": 19
        }
      ]
    },
    {
      "cell_type": "code",
      "metadata": {
        "id": "-6Iu4xXyuJjh",
        "colab_type": "code",
        "colab": {}
      },
      "source": [
        "from keras.models import load_model\n",
        "\n",
        "saved_model = load_model('best_LSTM_model.h5')"
      ],
      "execution_count": 0,
      "outputs": []
    },
    {
      "cell_type": "code",
      "metadata": {
        "id": "7Lzla2ARuS4s",
        "colab_type": "code",
        "outputId": "6295f3a7-3e31-40f2-c427-7433225bf489",
        "colab": {
          "base_uri": "https://localhost:8080/",
          "height": 35
        }
      },
      "source": [
        "test_accuracy = saved_model.evaluate(x_test, y_test, verbose=0)\n",
        "\n",
        "print(\"Test accuracy: %3f=\", test_accuracy)"
      ],
      "execution_count": 24,
      "outputs": [
        {
          "output_type": "stream",
          "text": [
            "Test accuracy: %3f= [0.05490595211304026, 0.9842]\n"
          ],
          "name": "stdout"
        }
      ]
    },
    {
      "cell_type": "markdown",
      "metadata": {
        "id": "lUcTGwHO1qPC",
        "colab_type": "text"
      },
      "source": [
        "###Testing trained model on a new image"
      ]
    },
    {
      "cell_type": "code",
      "metadata": {
        "id": "oQZgxn501u33",
        "colab_type": "code",
        "colab": {
          "base_uri": "https://localhost:8080/",
          "height": 35
        },
        "outputId": "cce71b9f-b19c-4c56-da45-d4379c456112"
      },
      "source": [
        "img = x_test[650]\n",
        "test_img = img.reshape((1,28,28))\n",
        "img_class = saved_model.predict_classes(test_img)\n",
        "prediction = img_class[0]\n",
        "classname = img_class[0]\n",
        "print(\"Class: \",classname)"
      ],
      "execution_count": 28,
      "outputs": [
        {
          "output_type": "stream",
          "text": [
            "Class:  6\n"
          ],
          "name": "stdout"
        }
      ]
    },
    {
      "cell_type": "code",
      "metadata": {
        "id": "MnL5HYLi18nI",
        "colab_type": "code",
        "colab": {
          "base_uri": "https://localhost:8080/",
          "height": 281
        },
        "outputId": "1eb5f707-aeef-45be-88bf-15dba9354c53"
      },
      "source": [
        "#Display the predicted image\n",
        "\n",
        "img = img.reshape((28,28))\n",
        "plt.imshow(img)\n",
        "plt.title(classname)\n",
        "plt.show()"
      ],
      "execution_count": 29,
      "outputs": [
        {
          "output_type": "display_data",
          "data": {
            "image/png": "[encoded data removed]",
            "text/plain": [
              "<Figure size 432x288 with 1 Axes>"
            ]
          },
          "metadata": {
            "tags": [],
            "needs_background": "light"
          }
        }
      ]
    }
  ]
}