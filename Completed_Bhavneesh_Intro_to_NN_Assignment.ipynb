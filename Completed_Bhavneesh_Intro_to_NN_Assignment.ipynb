{
  "nbformat": 4,
  "nbformat_minor": 0,
  "metadata": {
    "colab": {
      "name": "Completed_Bhavneesh_Intro_to_NN_Assignment.ipynb",
      "provenance": [],
      "collapsed_sections": [],
      "include_colab_link": true
    },
    "kernelspec": {
      "display_name": "NN_TF_Lambda (Python3)",
      "language": "python",
      "name": "nn_tf_lambda"
    },
    "language_info": {
      "codemirror_mode": {
        "name": "ipython",
        "version": 3
      },
      "file_extension": ".py",
      "mimetype": "text/x-python",
      "name": "python",
      "nbconvert_exporter": "python",
      "pygments_lexer": "ipython3",
      "version": "3.7.0"
    }
  },
  "cells": [
    {
      "cell_type": "markdown",
      "metadata": {
        "id": "view-in-github",
        "colab_type": "text"
      },
      "source": [
        "<a href=\"https://colab.research.google.com/github/bs3537/DS-Unit-4-Sprint-2-Neural-Networks/blob/master/Completed_Bhavneesh_Intro_to_NN_Assignment.ipynb\" target=\"_parent\"><img src=\"https://colab.research.google.com/assets/colab-badge.svg\" alt=\"Open In Colab\"/></a>"
      ]
    },
    {
      "cell_type": "markdown",
      "metadata": {
        "colab_type": "text",
        "id": "dVfaLrjLvxvQ"
      },
      "source": [
        "<img align=\"left\" src=\"https://lever-client-logos.s3.amazonaws.com/864372b1-534c-480e-acd5-9711f850815c-1524247202159.png\" width=200>\n",
        "<br></br>\n",
        "<br></br>\n",
        "\n",
        "# Neural Networks\n",
        "\n",
        "## *Data Science Unit 4 Sprint 2 Assignment 1*"
      ]
    },
    {
      "cell_type": "markdown",
      "metadata": {
        "colab_type": "text",
        "id": "wxtoY12mwmih"
      },
      "source": [
        "## Define the Following:\n",
        "You can add image, diagrams, whatever you need to ensure that you understand the concepts below.\n",
        "\n",
        "### Input Layer:\n",
        "### Hidden Layer:\n",
        "### Output Layer:\n",
        "### Neuron:\n",
        "### Weight:\n",
        "### Activation Function:\n",
        "### Node Map:\n",
        "### Perceptron:\n"
      ]
    },
    {
      "cell_type": "markdown",
      "metadata": {
        "colab_type": "text",
        "id": "NXuy9WcWzxa4"
      },
      "source": [
        "## Inputs -> Outputs\n",
        "\n",
        "### Explain the flow of information through a neural network from inputs to outputs. Be sure to include: inputs, weights, bias, and activation functions. How does it all flow from beginning to end?"
      ]
    },
    {
      "cell_type": "markdown",
      "metadata": {
        "colab_type": "text",
        "id": "PlSwIJMC0A8F"
      },
      "source": [
        "#### Your Answer Here"
      ]
    },
    {
      "cell_type": "markdown",
      "metadata": {
        "colab_type": "text",
        "id": "6sWR43PTwhSk"
      },
      "source": [
        "## Write your own perceptron code that can correctly classify (99.0% accuracy) a NAND gate. \n",
        "\n",
        "| x1 | x2 | y |\n",
        "|----|----|---|\n",
        "| 0  | 0  | 1 |\n",
        "| 1  | 0  | 1 |\n",
        "| 0  | 1  | 1 |\n",
        "| 1  | 1  | 0 |"
      ]
    },
    {
      "cell_type": "markdown",
      "metadata": {
        "id": "mTNJTqOhQ3Pl",
        "colab_type": "text"
      },
      "source": [
        "Neural networks basics:\n",
        "\n",
        "Input Layer: The initial data for the neural network ?(from a dataframe, array, a csv file or web network) is processed by this layer. Each layer has a number of units or nodes. Traditionally, no. of neurons in input layer = no. of training data features + 1. The input layer receives the data. Each input has an associated weight that is assigned based on its relative importance to other inputs. The extra node is the calculate the bias term. The bias (offset) makes sure that even when all the inputs are none (all 0s, there is going to be an activation in the neuron). The bias in coordination with weights gives the NN the full range of motion it needs to find the best fit to the data. \n",
        "\n",
        "Hidden Layer: The neurons in the hidden layer calculate the weighted sum of inputs and weights, add the bias and execute an activation function before passing the ouput to the next layer. Usually, each hidden layer has same number of neurons. The optimal no. of neurons in hidden layer = (Trading data sample)/(Factor*(Input neurons+Output neurons)). The factor is used to prevent over-fitting and is usually between 1-10. One hidden layer is usually sufficient for the majority of problems. \n",
        "\n",
        "Output Layer: The output or the final layer receives the input from the hidden layers. The number of nodes in the output layer is one (for both regression and classification problems). If we use the probabilistic function like softmax, then the output layer has one node per class label in the model.\n",
        "\n",
        "Neuron and weight: It is the basic unit of a neural network. It gets a certain number of inputs and a bias value. When a singal (value) arrives, it gets multiplied by a weight value. If a neuron has 4 inputs, it has 4 weight values, which can be adjusted during training time. Each connection between the neurons in different layers is called a synapse and has a weight value associated with it. The goal of the training is to update the weight value to decrease the loss (error).\n",
        "\n",
        "Activation function: Activation functions are used to introduce non-linearity to neural networks. It squashes the values in a smaller range, e.g. sigmid function squashes the values between a range of 0 to 1. Activation functions like ReLU, LeakyReLU, SeLU are preferred over sigmid activation function.\n",
        "\n",
        "Node Map: It is a visual representation of the architecture the neural network. It is like a flowchart showing the path from inputs to outputs. \n",
        "\n",
        "Perceptron: It is the simplest and oldest model of Neuron. It takes some inputs, adds them up, applies the activation function and passes them to the output layer. A feed forward neural network has interconnections between the neurons of the successive layers. There is a layer between the input and the ouput layers called a hidden layer. The activation flows from the input layer to the output, without back loops. Deep feed forward neural networks have more than one hidden layer.\n",
        "\n",
        "The flow of information through a neural network from inputs to outputs, including: inputs, weights, bias, and activation functions:\n",
        "\n",
        "If the input layer has two values x1 and x2 and the synpases to the output layer have weights w1 and w2 respectively, and bias is b, the input recieved by is\n",
        "y = sigmoid(x1w1 + x2w2 + b) if applying sigmoid activation function.  \n"
      ]
    },
    {
      "cell_type": "code",
      "metadata": {
        "id": "0Z-zRDhUQ3Pm",
        "colab_type": "code",
        "colab": {}
      },
      "source": [
        "#Write your own perceptron code that can correctly classify (99.0% accuracy) a NAND gate."
      ],
      "execution_count": 0,
      "outputs": []
    },
    {
      "cell_type": "code",
      "metadata": {
        "id": "rmmV_ROxQ3Ps",
        "colab_type": "code",
        "colab": {}
      },
      "source": [
        "import pandas as pd\n",
        "data = { 'x1': [0,1,0,1],\n",
        "         'x2': [0,0,1,1],\n",
        "         'y':  [1,1,1,0]\n",
        "       }\n",
        "\n",
        "df = pd.DataFrame.from_dict(data).astype('int')"
      ],
      "execution_count": 0,
      "outputs": []
    },
    {
      "cell_type": "code",
      "metadata": {
        "colab_type": "code",
        "id": "Sgh7VFGwnXGH",
        "colab": {},
        "outputId": "bedee7b9-c427-4fcc-e1da-79ef033383a4"
      },
      "source": [
        "df.head()"
      ],
      "execution_count": 0,
      "outputs": [
        {
          "output_type": "execute_result",
          "data": {
            "text/html": [
              "<div>\n",
              "<style scoped>\n",
              "    .dataframe tbody tr th:only-of-type {\n",
              "        vertical-align: middle;\n",
              "    }\n",
              "\n",
              "    .dataframe tbody tr th {\n",
              "        vertical-align: top;\n",
              "    }\n",
              "\n",
              "    .dataframe thead th {\n",
              "        text-align: right;\n",
              "    }\n",
              "</style>\n",
              "<table border=\"1\" class=\"dataframe\">\n",
              "  <thead>\n",
              "    <tr style=\"text-align: right;\">\n",
              "      <th></th>\n",
              "      <th>x1</th>\n",
              "      <th>x2</th>\n",
              "      <th>y</th>\n",
              "    </tr>\n",
              "  </thead>\n",
              "  <tbody>\n",
              "    <tr>\n",
              "      <th>0</th>\n",
              "      <td>0</td>\n",
              "      <td>0</td>\n",
              "      <td>1</td>\n",
              "    </tr>\n",
              "    <tr>\n",
              "      <th>1</th>\n",
              "      <td>1</td>\n",
              "      <td>0</td>\n",
              "      <td>1</td>\n",
              "    </tr>\n",
              "    <tr>\n",
              "      <th>2</th>\n",
              "      <td>0</td>\n",
              "      <td>1</td>\n",
              "      <td>1</td>\n",
              "    </tr>\n",
              "    <tr>\n",
              "      <th>3</th>\n",
              "      <td>1</td>\n",
              "      <td>1</td>\n",
              "      <td>0</td>\n",
              "    </tr>\n",
              "  </tbody>\n",
              "</table>\n",
              "</div>"
            ],
            "text/plain": [
              "   x1  x2  y\n",
              "0   0   0  1\n",
              "1   1   0  1\n",
              "2   0   1  1\n",
              "3   1   1  0"
            ]
          },
          "metadata": {
            "tags": []
          },
          "execution_count": 86
        }
      ]
    },
    {
      "cell_type": "code",
      "metadata": {
        "id": "L2DYLCmMQ3P3",
        "colab_type": "code",
        "colab": {}
      },
      "source": [
        "target = 'y'\n",
        "\n",
        "X_features = df.drop(columns = [target])\n",
        "\n",
        "numeric_features = X_features.select_dtypes(include='number').columns.tolist()\n",
        "\n"
      ],
      "execution_count": 0,
      "outputs": []
    },
    {
      "cell_type": "code",
      "metadata": {
        "id": "dN8mFGl7Q3P7",
        "colab_type": "code",
        "colab": {}
      },
      "source": [
        "X = df[numeric_features]"
      ],
      "execution_count": 0,
      "outputs": []
    },
    {
      "cell_type": "code",
      "metadata": {
        "id": "CEix9TbKQ3P_",
        "colab_type": "code",
        "colab": {}
      },
      "source": [
        "X = np.array(X)"
      ],
      "execution_count": 0,
      "outputs": []
    },
    {
      "cell_type": "code",
      "metadata": {
        "id": "Bt3G0lYlQ3QD",
        "colab_type": "code",
        "colab": {},
        "outputId": "b64d02bc-7800-4fd8-9fe0-ee04f821455b"
      },
      "source": [
        "X"
      ],
      "execution_count": 0,
      "outputs": [
        {
          "output_type": "execute_result",
          "data": {
            "text/plain": [
              "array([[0, 0],\n",
              "       [1, 0],\n",
              "       [0, 1],\n",
              "       [1, 1]])"
            ]
          },
          "metadata": {
            "tags": []
          },
          "execution_count": 90
        }
      ]
    },
    {
      "cell_type": "code",
      "metadata": {
        "id": "KOPp0e4GQ3QH",
        "colab_type": "code",
        "colab": {}
      },
      "source": [
        "y = df[target]\n"
      ],
      "execution_count": 0,
      "outputs": []
    },
    {
      "cell_type": "code",
      "metadata": {
        "id": "SSERGjzQQ3QK",
        "colab_type": "code",
        "colab": {}
      },
      "source": [
        "#Coding y as 1 and -1 is mandatory for using Perceptron\n",
        "\n",
        "y=np.array([1 if i==1 else -1 for i in y])"
      ],
      "execution_count": 0,
      "outputs": []
    },
    {
      "cell_type": "code",
      "metadata": {
        "id": "vByp--lIQ3QM",
        "colab_type": "code",
        "colab": {},
        "outputId": "3a4c8ffd-7637-4cd5-823d-782bfb9346e0"
      },
      "source": [
        "y"
      ],
      "execution_count": 0,
      "outputs": [
        {
          "output_type": "execute_result",
          "data": {
            "text/plain": [
              "array([ 1,  1,  1, -1])"
            ]
          },
          "metadata": {
            "tags": []
          },
          "execution_count": 93
        }
      ]
    },
    {
      "cell_type": "code",
      "metadata": {
        "id": "zg8Hrq_0Q3QR",
        "colab_type": "code",
        "colab": {}
      },
      "source": [
        "#Fit Perceptron on X and y and plot the result"
      ],
      "execution_count": 0,
      "outputs": []
    },
    {
      "cell_type": "code",
      "metadata": {
        "id": "Tsk4xua0Q3QV",
        "colab_type": "code",
        "colab": {}
      },
      "source": [
        "class Perceptron(object):\n",
        "    \n",
        "    def __init__(self, rate = 0.01, niter = 10):\n",
        "        self.rate = rate\n",
        "        self.niter = niter\n",
        "        \n",
        "    def fit(self, X, y):\n",
        "        \"\"\"Fit training data\n",
        "        X : Training vectors, X.shape : [#samples, #features]\n",
        "        y : Target values, y.shape : [#samples]\n",
        "        \"\"\"\n",
        "\n",
        "        # weights\n",
        "        self.weight = np.zeros(1 + X.shape[1])\n",
        "\n",
        "        # Number of misclassifications\n",
        "        self.errors = []  # Number of misclassifications\n",
        "\n",
        "        for i in range(self.niter):\n",
        "            err = 0\n",
        "            for xi, target in zip(X, y):\n",
        "                delta_w = self.rate * (target - self.predict(xi))\n",
        "                self.weight[1:] += delta_w * xi\n",
        "                self.weight[0] += delta_w\n",
        "                err += int(delta_w != 0.0)\n",
        "            self.errors.append(err)\n",
        "        return self\n",
        "\n",
        "    def net_input(self, X):\n",
        "        \"\"\"Calculate net input\"\"\"\n",
        "        return np.dot(X, self.weight[1:]) + self.weight[0]\n",
        "\n",
        "    def predict(self, X):\n",
        "        \"\"\"Return class label after unit step\"\"\"\n",
        "        \"\"\" Default Step Function\"\"\"\n",
        "        return np.where(self.net_input(X) >= 0.0, 1, -1)"
      ],
      "execution_count": 0,
      "outputs": []
    },
    {
      "cell_type": "code",
      "metadata": {
        "id": "6a3-5mNWQ3QX",
        "colab_type": "code",
        "colab": {},
        "outputId": "2d2cc225-0b6d-45be-f06e-d704eb9d0b31"
      },
      "source": [
        "\n",
        "pn = Perceptron(0.1, 10)\n",
        "pn.fit(X, y)\n",
        "plt.plot(range(1, len(pn.errors) + 1), pn.errors, marker='o')\n",
        "plt.xlabel('Epochs')\n",
        "plt.ylabel('Number of misclassifications')\n",
        "plt.show()"
      ],
      "execution_count": 0,
      "outputs": [
        {
          "output_type": "display_data",
          "data": {
            "image/png": "[encoded data removed]",
            "text/plain": [
              "<Figure size 432x288 with 1 Axes>"
            ]
          },
          "metadata": {
            "tags": [],
            "needs_background": "light"
          }
        }
      ]
    },
    {
      "cell_type": "markdown",
      "metadata": {
        "colab_type": "text",
        "id": "Xf7sdqVs0s4x"
      },
      "source": [
        "## Implement your own Perceptron Class and use it to classify a binary dataset: \n",
        "- [The Pima Indians Diabetes dataset](https://raw.githubusercontent.com/ryanleeallred/datasets/master/diabetes.csv) \n",
        "\n",
        "You may need to search for other's implementations in order to get inspiration for your own. There are *lots* of perceptron implementations on the internet with varying levels of sophistication and complexity. Whatever your approach, make sure you understand **every** line of your implementation and what its purpose is."
      ]
    },
    {
      "cell_type": "code",
      "metadata": {
        "id": "U4lwB7GzQ3Qb",
        "colab_type": "code",
        "colab": {}
      },
      "source": [
        "#Diabetes dataset"
      ],
      "execution_count": 0,
      "outputs": []
    },
    {
      "cell_type": "code",
      "metadata": {
        "id": "U5S3VjFuQ3Qe",
        "colab_type": "code",
        "colab": {},
        "outputId": "32602d5d-61bf-4146-d68d-ed9f8a54e5c2"
      },
      "source": [
        "diabetes = pd.read_csv('https://raw.githubusercontent.com/ryanleeallred/datasets/master/diabetes.csv')\n",
        "diabetes.head()"
      ],
      "execution_count": 0,
      "outputs": [
        {
          "output_type": "execute_result",
          "data": {
            "text/html": [
              "<div>\n",
              "<style scoped>\n",
              "    .dataframe tbody tr th:only-of-type {\n",
              "        vertical-align: middle;\n",
              "    }\n",
              "\n",
              "    .dataframe tbody tr th {\n",
              "        vertical-align: top;\n",
              "    }\n",
              "\n",
              "    .dataframe thead th {\n",
              "        text-align: right;\n",
              "    }\n",
              "</style>\n",
              "<table border=\"1\" class=\"dataframe\">\n",
              "  <thead>\n",
              "    <tr style=\"text-align: right;\">\n",
              "      <th></th>\n",
              "      <th>Pregnancies</th>\n",
              "      <th>Glucose</th>\n",
              "      <th>BloodPressure</th>\n",
              "      <th>SkinThickness</th>\n",
              "      <th>Insulin</th>\n",
              "      <th>BMI</th>\n",
              "      <th>DiabetesPedigreeFunction</th>\n",
              "      <th>Age</th>\n",
              "      <th>Outcome</th>\n",
              "    </tr>\n",
              "  </thead>\n",
              "  <tbody>\n",
              "    <tr>\n",
              "      <th>0</th>\n",
              "      <td>6</td>\n",
              "      <td>148</td>\n",
              "      <td>72</td>\n",
              "      <td>35</td>\n",
              "      <td>0</td>\n",
              "      <td>33.6</td>\n",
              "      <td>0.627</td>\n",
              "      <td>50</td>\n",
              "      <td>1</td>\n",
              "    </tr>\n",
              "    <tr>\n",
              "      <th>1</th>\n",
              "      <td>1</td>\n",
              "      <td>85</td>\n",
              "      <td>66</td>\n",
              "      <td>29</td>\n",
              "      <td>0</td>\n",
              "      <td>26.6</td>\n",
              "      <td>0.351</td>\n",
              "      <td>31</td>\n",
              "      <td>0</td>\n",
              "    </tr>\n",
              "    <tr>\n",
              "      <th>2</th>\n",
              "      <td>8</td>\n",
              "      <td>183</td>\n",
              "      <td>64</td>\n",
              "      <td>0</td>\n",
              "      <td>0</td>\n",
              "      <td>23.3</td>\n",
              "      <td>0.672</td>\n",
              "      <td>32</td>\n",
              "      <td>1</td>\n",
              "    </tr>\n",
              "    <tr>\n",
              "      <th>3</th>\n",
              "      <td>1</td>\n",
              "      <td>89</td>\n",
              "      <td>66</td>\n",
              "      <td>23</td>\n",
              "      <td>94</td>\n",
              "      <td>28.1</td>\n",
              "      <td>0.167</td>\n",
              "      <td>21</td>\n",
              "      <td>0</td>\n",
              "    </tr>\n",
              "    <tr>\n",
              "      <th>4</th>\n",
              "      <td>0</td>\n",
              "      <td>137</td>\n",
              "      <td>40</td>\n",
              "      <td>35</td>\n",
              "      <td>168</td>\n",
              "      <td>43.1</td>\n",
              "      <td>2.288</td>\n",
              "      <td>33</td>\n",
              "      <td>1</td>\n",
              "    </tr>\n",
              "  </tbody>\n",
              "</table>\n",
              "</div>"
            ],
            "text/plain": [
              "   Pregnancies  Glucose  BloodPressure  SkinThickness  Insulin   BMI  \\\n",
              "0            6      148             72             35        0  33.6   \n",
              "1            1       85             66             29        0  26.6   \n",
              "2            8      183             64              0        0  23.3   \n",
              "3            1       89             66             23       94  28.1   \n",
              "4            0      137             40             35      168  43.1   \n",
              "\n",
              "   DiabetesPedigreeFunction  Age  Outcome  \n",
              "0                     0.627   50        1  \n",
              "1                     0.351   31        0  \n",
              "2                     0.672   32        1  \n",
              "3                     0.167   21        0  \n",
              "4                     2.288   33        1  "
            ]
          },
          "metadata": {
            "tags": []
          },
          "execution_count": 97
        }
      ]
    },
    {
      "cell_type": "markdown",
      "metadata": {
        "id": "RawqdKMVQ3Qh",
        "colab_type": "text"
      },
      "source": [
        "Although neural networks can handle non-normalized data, scaling or normalizing your data will improve your neural network's learning speed. Try to apply the sklearn `MinMaxScaler` or `Normalizer` to your diabetes dataset. "
      ]
    },
    {
      "cell_type": "code",
      "metadata": {
        "id": "oNPKtTEOQ3Qi",
        "colab_type": "code",
        "colab": {},
        "outputId": "25cce98b-bfee-4937-8035-d5da7fbef610"
      },
      "source": [
        "diabetes.dtypes"
      ],
      "execution_count": 0,
      "outputs": [
        {
          "output_type": "execute_result",
          "data": {
            "text/plain": [
              "Pregnancies                   int64\n",
              "Glucose                       int64\n",
              "BloodPressure                 int64\n",
              "SkinThickness                 int64\n",
              "Insulin                       int64\n",
              "BMI                         float64\n",
              "DiabetesPedigreeFunction    float64\n",
              "Age                           int64\n",
              "Outcome                       int64\n",
              "dtype: object"
            ]
          },
          "metadata": {
            "tags": []
          },
          "execution_count": 99
        }
      ]
    },
    {
      "cell_type": "code",
      "metadata": {
        "id": "mg9MZHEbQ3Qm",
        "colab_type": "code",
        "colab": {},
        "outputId": "e2d51509-6457-4d08-d0c4-e94755f09575"
      },
      "source": [
        "diabetes.shape"
      ],
      "execution_count": 0,
      "outputs": [
        {
          "output_type": "execute_result",
          "data": {
            "text/plain": [
              "(768, 9)"
            ]
          },
          "metadata": {
            "tags": []
          },
          "execution_count": 100
        }
      ]
    },
    {
      "cell_type": "code",
      "metadata": {
        "id": "yCxwQpCHQ3Qo",
        "colab_type": "code",
        "colab": {},
        "outputId": "f3166ea3-bb3f-4176-ef5e-cdb3bbebb7a4"
      },
      "source": [
        "diabetes.isnull().sum()"
      ],
      "execution_count": 0,
      "outputs": [
        {
          "output_type": "execute_result",
          "data": {
            "text/plain": [
              "Pregnancies                 0\n",
              "Glucose                     0\n",
              "BloodPressure               0\n",
              "SkinThickness               0\n",
              "Insulin                     0\n",
              "BMI                         0\n",
              "DiabetesPedigreeFunction    0\n",
              "Age                         0\n",
              "Outcome                     0\n",
              "dtype: int64"
            ]
          },
          "metadata": {
            "tags": []
          },
          "execution_count": 106
        }
      ]
    },
    {
      "cell_type": "code",
      "metadata": {
        "id": "o3DP5MFHQ3Qq",
        "colab_type": "code",
        "colab": {}
      },
      "source": [
        "#Prepare X and y vectors"
      ],
      "execution_count": 0,
      "outputs": []
    },
    {
      "cell_type": "code",
      "metadata": {
        "id": "t7VrafDrQ3Qs",
        "colab_type": "code",
        "colab": {}
      },
      "source": [
        "target = 'Outcome'\n",
        "\n",
        "X_features = diabetes.drop(columns = [target])\n",
        "\n",
        "numeric_features = X_features.select_dtypes(include='number').columns.tolist()\n",
        "\n",
        "\n",
        "# Get a series with the cardinality of the nonnumeric features\n",
        "cardinality = X_features.select_dtypes(exclude='number').nunique()\n",
        "\n",
        "# Get a list of all categorical features with cardinality <= 50\n",
        "categorical_features = cardinality[cardinality <= 50].index.tolist()\n",
        "\n",
        "# Combine the lists \n",
        "features = numeric_features + categorical_features\n"
      ],
      "execution_count": 0,
      "outputs": []
    },
    {
      "cell_type": "code",
      "metadata": {
        "id": "7Uu88-PQQ3Qu",
        "colab_type": "code",
        "colab": {}
      },
      "source": [
        "#X vector\n",
        "\n",
        "X = diabetes[features]\n"
      ],
      "execution_count": 0,
      "outputs": []
    },
    {
      "cell_type": "code",
      "metadata": {
        "id": "dZJ6CtTwQ3Qw",
        "colab_type": "code",
        "colab": {}
      },
      "source": [
        "#y vector\n",
        "\n",
        "y = diabetes[target]"
      ],
      "execution_count": 0,
      "outputs": []
    },
    {
      "cell_type": "code",
      "metadata": {
        "id": "1tBY9NaPQ3Qy",
        "colab_type": "code",
        "colab": {}
      },
      "source": [
        ""
      ],
      "execution_count": 0,
      "outputs": []
    },
    {
      "cell_type": "code",
      "metadata": {
        "id": "LJudT3WtQ3Q1",
        "colab_type": "code",
        "colab": {}
      },
      "source": [
        "#Coding y as 1 and -1 is mandatory for using Perceptron\n",
        "\n",
        "y=np.array([1 if i==1 else -1 for i in y])"
      ],
      "execution_count": 0,
      "outputs": []
    },
    {
      "cell_type": "code",
      "metadata": {
        "id": "EdyucnB-Q3Q4",
        "colab_type": "code",
        "colab": {}
      },
      "source": [
        "from sklearn.preprocessing import StandardScaler"
      ],
      "execution_count": 0,
      "outputs": []
    },
    {
      "cell_type": "code",
      "metadata": {
        "id": "TPoy6L7xQ3Q6",
        "colab_type": "code",
        "colab": {}
      },
      "source": [
        "scaler = StandardScaler()"
      ],
      "execution_count": 0,
      "outputs": []
    },
    {
      "cell_type": "code",
      "metadata": {
        "id": "QK-BSbzmQ3Q8",
        "colab_type": "code",
        "colab": {}
      },
      "source": [
        "X = scaler.fit_transform(X)"
      ],
      "execution_count": 0,
      "outputs": []
    },
    {
      "cell_type": "code",
      "metadata": {
        "id": "UHUIGx_-Q3Q-",
        "colab_type": "code",
        "colab": {}
      },
      "source": [
        "#Perceptron Class\n",
        "\n",
        "class Perceptron(object):\n",
        "    \n",
        "    def __init__(self, rate = 0.01, niter = 10):\n",
        "        self.rate = rate\n",
        "        self.niter = niter\n",
        "        \n",
        "    def fit(self, X, y):\n",
        "        \"\"\"Fit training data\n",
        "        X : Training vectors, X.shape : [#samples, #features]\n",
        "        y : Target values, y.shape : [#samples]\n",
        "        \"\"\"\n",
        "\n",
        "        # weights\n",
        "        self.weight = np.zeros(1 + X.shape[1])\n",
        "\n",
        "        # Number of misclassifications\n",
        "        self.errors = []  # Number of misclassifications\n",
        "\n",
        "        for i in range(self.niter):\n",
        "            err = 0\n",
        "            for xi, target in zip(X, y):\n",
        "                delta_w = self.rate * (target - self.predict(xi))\n",
        "                self.weight[1:] += delta_w * xi\n",
        "                self.weight[0] += delta_w\n",
        "                err += int(delta_w != 0.0)\n",
        "            self.errors.append(err)\n",
        "        return self\n",
        "\n",
        "    def net_input(self, X):\n",
        "        \"\"\"Calculate net input\"\"\"\n",
        "        return np.dot(X, self.weight[1:]) + self.weight[0]\n",
        "    \n",
        "    #Can apply stochastic gradient descent function here\n",
        "    \n",
        "    \n",
        "\n",
        "    def predict(self, X):\n",
        "        \"\"\"Return class label after unit step\"\"\"\n",
        "        \"\"\" Default Step Function\"\"\"\n",
        "        return np.where(self.net_input(X) >= 0.0, 1, -1)"
      ],
      "execution_count": 0,
      "outputs": []
    },
    {
      "cell_type": "code",
      "metadata": {
        "id": "Y68tlRXJQ3Q_",
        "colab_type": "code",
        "colab": {},
        "outputId": "f5062f1a-d3ee-4c64-f00f-e9ab56b16d49"
      },
      "source": [
        "#Fit perceptron on X and y\n",
        "pn = Perceptron(0.01, 100)\n",
        "pn.fit(X, y)\n",
        "plt.plot(range(1, len(pn.errors) + 1), pn.errors, marker='o')\n",
        "plt.xlabel('Epochs')\n",
        "plt.ylabel('Number of misclassifications')\n",
        "plt.show()"
      ],
      "execution_count": 0,
      "outputs": [
        {
          "output_type": "display_data",
          "data": {
            "image/png": "[encoded data removed]",
            "text/plain": [
              "<Figure size 432x288 with 1 Axes>"
            ]
          },
          "metadata": {
            "tags": [],
            "needs_background": "light"
          }
        }
      ]
    },
    {
      "cell_type": "code",
      "metadata": {
        "id": "rMTyyOSiQ3RC",
        "colab_type": "code",
        "colab": {}
      },
      "source": [
        "#Keras implementation\n",
        "\n",
        "from tensorflow.keras.models import Sequential\n",
        "from tensorflow.keras.layers import Input, Dense, Dropout, Activation\n",
        "from tensorflow.keras.optimizers import Adam"
      ],
      "execution_count": 0,
      "outputs": []
    },
    {
      "cell_type": "code",
      "metadata": {
        "id": "rM7PIMKdQ3RE",
        "colab_type": "code",
        "colab": {}
      },
      "source": [
        "model=Sequential()\n",
        "model.add(Dense(16, activation='relu', input_dim=X.shape[1]))\n",
        "model.add(Dropout(0.2)) \n",
        "model.add(Dense(1, activation='sigmoid'))"
      ],
      "execution_count": 0,
      "outputs": []
    },
    {
      "cell_type": "code",
      "metadata": {
        "id": "dY7QlM2QQ3RG",
        "colab_type": "code",
        "colab": {}
      },
      "source": [
        "model.compile(loss='binary_crossentropy', optimizer= 'adam', metrics=['binary_accuracy'])"
      ],
      "execution_count": 0,
      "outputs": []
    },
    {
      "cell_type": "code",
      "metadata": {
        "id": "vbdLHINZQ3RI",
        "colab_type": "code",
        "colab": {},
        "outputId": "59c55cb5-9869-422b-c6c4-343da25b03d7"
      },
      "source": [
        "model.summary()"
      ],
      "execution_count": 0,
      "outputs": [
        {
          "output_type": "stream",
          "text": [
            "Model: \"sequential_2\"\n",
            "_________________________________________________________________\n",
            "Layer (type)                 Output Shape              Param #   \n",
            "=================================================================\n",
            "dense_4 (Dense)              (None, 16)                144       \n",
            "_________________________________________________________________\n",
            "dropout_2 (Dropout)          (None, 16)                0         \n",
            "_________________________________________________________________\n",
            "dense_5 (Dense)              (None, 1)                 17        \n",
            "=================================================================\n",
            "Total params: 161\n",
            "Trainable params: 161\n",
            "Non-trainable params: 0\n",
            "_________________________________________________________________\n"
          ],
          "name": "stdout"
        }
      ]
    },
    {
      "cell_type": "code",
      "metadata": {
        "id": "ivbWG3fRQ3RL",
        "colab_type": "code",
        "colab": {}
      },
      "source": [
        "y = np.array(diabetes[target])"
      ],
      "execution_count": 0,
      "outputs": []
    },
    {
      "cell_type": "code",
      "metadata": {
        "id": "Wvwnq_tgQ3RN",
        "colab_type": "code",
        "colab": {},
        "outputId": "fd428b02-c082-45c7-a3e0-f188bab5a756"
      },
      "source": [
        "history = model.fit(X, y, epochs=100, verbose=True, batch_size=10)"
      ],
      "execution_count": 0,
      "outputs": [
        {
          "output_type": "stream",
          "text": [
            "Train on 768 samples\n",
            "Epoch 1/100\n",
            "768/768 [==============================] - 0s 532us/sample - loss: 0.7948 - binary_accuracy: 0.4466\n",
            "Epoch 2/100\n",
            "768/768 [==============================] - 0s 113us/sample - loss: 0.6932 - binary_accuracy: 0.6146\n",
            "Epoch 3/100\n",
            "768/768 [==============================] - 0s 124us/sample - loss: 0.6224 - binary_accuracy: 0.6536\n",
            "Epoch 4/100\n",
            "768/768 [==============================] - 0s 116us/sample - loss: 0.5745 - binary_accuracy: 0.6979\n",
            "Epoch 5/100\n",
            "768/768 [==============================] - 0s 122us/sample - loss: 0.5619 - binary_accuracy: 0.7188\n",
            "Epoch 6/100\n",
            "768/768 [==============================] - 0s 107us/sample - loss: 0.5336 - binary_accuracy: 0.7396\n",
            "Epoch 7/100\n",
            "768/768 [==============================] - 0s 122us/sample - loss: 0.5200 - binary_accuracy: 0.7370\n",
            "Epoch 8/100\n",
            "768/768 [==============================] - 0s 124us/sample - loss: 0.5031 - binary_accuracy: 0.7461\n",
            "Epoch 9/100\n",
            "768/768 [==============================] - 0s 113us/sample - loss: 0.4968 - binary_accuracy: 0.7513\n",
            "Epoch 10/100\n",
            "768/768 [==============================] - 0s 116us/sample - loss: 0.4920 - binary_accuracy: 0.7552\n",
            "Epoch 11/100\n",
            "768/768 [==============================] - 0s 112us/sample - loss: 0.4937 - binary_accuracy: 0.7552\n",
            "Epoch 12/100\n",
            "768/768 [==============================] - 0s 113us/sample - loss: 0.4870 - binary_accuracy: 0.7799\n",
            "Epoch 13/100\n",
            "768/768 [==============================] - 0s 107us/sample - loss: 0.4863 - binary_accuracy: 0.7708\n",
            "Epoch 14/100\n",
            "768/768 [==============================] - 0s 115us/sample - loss: 0.4707 - binary_accuracy: 0.7852\n",
            "Epoch 15/100\n",
            "768/768 [==============================] - 0s 112us/sample - loss: 0.4686 - binary_accuracy: 0.7799\n",
            "Epoch 16/100\n",
            "768/768 [==============================] - 0s 109us/sample - loss: 0.4772 - binary_accuracy: 0.7786\n",
            "Epoch 17/100\n",
            "768/768 [==============================] - 0s 115us/sample - loss: 0.4678 - binary_accuracy: 0.7904\n",
            "Epoch 18/100\n",
            "768/768 [==============================] - 0s 111us/sample - loss: 0.4731 - binary_accuracy: 0.7773\n",
            "Epoch 19/100\n",
            "768/768 [==============================] - 0s 124us/sample - loss: 0.4698 - binary_accuracy: 0.7747\n",
            "Epoch 20/100\n",
            "768/768 [==============================] - 0s 121us/sample - loss: 0.4704 - binary_accuracy: 0.7708\n",
            "Epoch 21/100\n",
            "768/768 [==============================] - 0s 116us/sample - loss: 0.4678 - binary_accuracy: 0.7878\n",
            "Epoch 22/100\n",
            "768/768 [==============================] - 0s 125us/sample - loss: 0.4571 - binary_accuracy: 0.7904\n",
            "Epoch 23/100\n",
            "768/768 [==============================] - 0s 107us/sample - loss: 0.4614 - binary_accuracy: 0.7786\n",
            "Epoch 24/100\n",
            "768/768 [==============================] - 0s 107us/sample - loss: 0.4626 - binary_accuracy: 0.7904\n",
            "Epoch 25/100\n",
            "768/768 [==============================] - 0s 126us/sample - loss: 0.4685 - binary_accuracy: 0.7734\n",
            "Epoch 26/100\n",
            "768/768 [==============================] - 0s 124us/sample - loss: 0.4561 - binary_accuracy: 0.7917\n",
            "Epoch 27/100\n",
            "768/768 [==============================] - 0s 115us/sample - loss: 0.4521 - binary_accuracy: 0.7773\n",
            "Epoch 28/100\n",
            "768/768 [==============================] - 0s 108us/sample - loss: 0.4591 - binary_accuracy: 0.7734\n",
            "Epoch 29/100\n",
            "768/768 [==============================] - 0s 114us/sample - loss: 0.4563 - binary_accuracy: 0.7852\n",
            "Epoch 30/100\n",
            "768/768 [==============================] - 0s 126us/sample - loss: 0.4619 - binary_accuracy: 0.7799\n",
            "Epoch 31/100\n",
            "768/768 [==============================] - 0s 109us/sample - loss: 0.4564 - binary_accuracy: 0.7734\n",
            "Epoch 32/100\n",
            "768/768 [==============================] - 0s 108us/sample - loss: 0.4661 - binary_accuracy: 0.7721\n",
            "Epoch 33/100\n",
            "768/768 [==============================] - 0s 124us/sample - loss: 0.4461 - binary_accuracy: 0.7930\n",
            "Epoch 34/100\n",
            "768/768 [==============================] - 0s 118us/sample - loss: 0.4514 - binary_accuracy: 0.7956\n",
            "Epoch 35/100\n",
            "768/768 [==============================] - 0s 125us/sample - loss: 0.4536 - binary_accuracy: 0.7943\n",
            "Epoch 36/100\n",
            "768/768 [==============================] - 0s 142us/sample - loss: 0.4568 - binary_accuracy: 0.7995\n",
            "Epoch 37/100\n",
            "768/768 [==============================] - 0s 133us/sample - loss: 0.4510 - binary_accuracy: 0.7891\n",
            "Epoch 38/100\n",
            "768/768 [==============================] - 0s 113us/sample - loss: 0.4551 - binary_accuracy: 0.7865\n",
            "Epoch 39/100\n",
            "768/768 [==============================] - 0s 117us/sample - loss: 0.4554 - binary_accuracy: 0.7799\n",
            "Epoch 40/100\n",
            "768/768 [==============================] - 0s 113us/sample - loss: 0.4556 - binary_accuracy: 0.7943\n",
            "Epoch 41/100\n",
            "768/768 [==============================] - ETA: 0s - loss: 0.4518 - binary_accuracy: 0.782 - 0s 124us/sample - loss: 0.4582 - binary_accuracy: 0.7826\n",
            "Epoch 42/100\n",
            "768/768 [==============================] - 0s 114us/sample - loss: 0.4611 - binary_accuracy: 0.7799\n",
            "Epoch 43/100\n",
            "768/768 [==============================] - 0s 117us/sample - loss: 0.4610 - binary_accuracy: 0.7734\n",
            "Epoch 44/100\n",
            "768/768 [==============================] - 0s 107us/sample - loss: 0.4545 - binary_accuracy: 0.7904\n",
            "Epoch 45/100\n",
            "768/768 [==============================] - 0s 112us/sample - loss: 0.4510 - binary_accuracy: 0.7917\n",
            "Epoch 46/100\n",
            "768/768 [==============================] - 0s 117us/sample - loss: 0.4575 - binary_accuracy: 0.7956\n",
            "Epoch 47/100\n",
            "768/768 [==============================] - 0s 113us/sample - loss: 0.4602 - binary_accuracy: 0.7734\n",
            "Epoch 48/100\n",
            "768/768 [==============================] - 0s 120us/sample - loss: 0.4429 - binary_accuracy: 0.7904\n",
            "Epoch 49/100\n",
            "768/768 [==============================] - 0s 108us/sample - loss: 0.4564 - binary_accuracy: 0.7786\n",
            "Epoch 50/100\n",
            "768/768 [==============================] - 0s 105us/sample - loss: 0.4456 - binary_accuracy: 0.7917\n",
            "Epoch 51/100\n",
            "768/768 [==============================] - 0s 103us/sample - loss: 0.4559 - binary_accuracy: 0.7891\n",
            "Epoch 52/100\n",
            "768/768 [==============================] - 0s 105us/sample - loss: 0.4508 - binary_accuracy: 0.7904\n",
            "Epoch 53/100\n",
            "768/768 [==============================] - 0s 104us/sample - loss: 0.4425 - binary_accuracy: 0.7865\n",
            "Epoch 54/100\n",
            "768/768 [==============================] - 0s 113us/sample - loss: 0.4536 - binary_accuracy: 0.7786\n",
            "Epoch 55/100\n",
            "768/768 [==============================] - 0s 102us/sample - loss: 0.4607 - binary_accuracy: 0.7852\n",
            "Epoch 56/100\n",
            "768/768 [==============================] - 0s 117us/sample - loss: 0.4513 - binary_accuracy: 0.7865\n",
            "Epoch 57/100\n",
            "768/768 [==============================] - 0s 112us/sample - loss: 0.4485 - binary_accuracy: 0.7812\n",
            "Epoch 58/100\n",
            "768/768 [==============================] - 0s 107us/sample - loss: 0.4466 - binary_accuracy: 0.7904\n",
            "Epoch 59/100\n",
            "768/768 [==============================] - 0s 105us/sample - loss: 0.4485 - binary_accuracy: 0.7708\n",
            "Epoch 60/100\n",
            "768/768 [==============================] - 0s 113us/sample - loss: 0.4518 - binary_accuracy: 0.7865\n",
            "Epoch 61/100\n",
            "768/768 [==============================] - 0s 108us/sample - loss: 0.4534 - binary_accuracy: 0.7917\n",
            "Epoch 62/100\n",
            "768/768 [==============================] - 0s 102us/sample - loss: 0.4558 - binary_accuracy: 0.7930\n",
            "Epoch 63/100\n",
            "768/768 [==============================] - 0s 104us/sample - loss: 0.4469 - binary_accuracy: 0.7930\n",
            "Epoch 64/100\n",
            "768/768 [==============================] - 0s 102us/sample - loss: 0.4541 - binary_accuracy: 0.7839\n",
            "Epoch 65/100\n",
            "768/768 [==============================] - 0s 107us/sample - loss: 0.4492 - binary_accuracy: 0.7917\n",
            "Epoch 66/100\n",
            "768/768 [==============================] - 0s 99us/sample - loss: 0.4485 - binary_accuracy: 0.7799\n",
            "Epoch 67/100\n",
            "768/768 [==============================] - 0s 128us/sample - loss: 0.4490 - binary_accuracy: 0.7839\n",
            "Epoch 68/100\n",
            "768/768 [==============================] - 0s 103us/sample - loss: 0.4462 - binary_accuracy: 0.7878\n",
            "Epoch 69/100\n",
            "768/768 [==============================] - 0s 109us/sample - loss: 0.4524 - binary_accuracy: 0.7799\n",
            "Epoch 70/100\n",
            "768/768 [==============================] - 0s 104us/sample - loss: 0.4555 - binary_accuracy: 0.7826\n",
            "Epoch 71/100\n",
            "768/768 [==============================] - 0s 111us/sample - loss: 0.4547 - binary_accuracy: 0.7891\n",
            "Epoch 72/100\n",
            "768/768 [==============================] - 0s 105us/sample - loss: 0.4506 - binary_accuracy: 0.7891\n",
            "Epoch 73/100\n",
            "768/768 [==============================] - 0s 102us/sample - loss: 0.4582 - binary_accuracy: 0.7852\n",
            "Epoch 74/100\n",
            "768/768 [==============================] - 0s 105us/sample - loss: 0.4445 - binary_accuracy: 0.7786\n",
            "Epoch 75/100\n",
            "768/768 [==============================] - 0s 122us/sample - loss: 0.4528 - binary_accuracy: 0.7760\n",
            "Epoch 76/100\n",
            "768/768 [==============================] - 0s 110us/sample - loss: 0.4384 - binary_accuracy: 0.7852\n",
            "Epoch 77/100\n",
            "768/768 [==============================] - 0s 99us/sample - loss: 0.4512 - binary_accuracy: 0.7760\n",
            "Epoch 78/100\n",
            "768/768 [==============================] - ETA: 0s - loss: 0.4284 - binary_accuracy: 0.790 - 0s 105us/sample - loss: 0.4381 - binary_accuracy: 0.7878\n",
            "Epoch 79/100\n",
            "768/768 [==============================] - 0s 113us/sample - loss: 0.4518 - binary_accuracy: 0.7799\n",
            "Epoch 80/100\n",
            "768/768 [==============================] - 0s 104us/sample - loss: 0.4450 - binary_accuracy: 0.7969\n",
            "Epoch 81/100\n",
            "768/768 [==============================] - 0s 115us/sample - loss: 0.4322 - binary_accuracy: 0.7904\n",
            "Epoch 82/100\n",
            "768/768 [==============================] - 0s 109us/sample - loss: 0.4477 - binary_accuracy: 0.7826\n",
            "Epoch 83/100\n",
            "768/768 [==============================] - 0s 114us/sample - loss: 0.4550 - binary_accuracy: 0.7812\n",
            "Epoch 84/100\n",
            "768/768 [==============================] - 0s 107us/sample - loss: 0.4382 - binary_accuracy: 0.7786\n",
            "Epoch 85/100\n",
            "768/768 [==============================] - 0s 104us/sample - loss: 0.4489 - binary_accuracy: 0.7904\n",
            "Epoch 86/100\n",
            "768/768 [==============================] - 0s 104us/sample - loss: 0.4425 - binary_accuracy: 0.7786\n",
            "Epoch 87/100\n",
            "768/768 [==============================] - 0s 102us/sample - loss: 0.4513 - binary_accuracy: 0.7878\n",
            "Epoch 88/100\n",
            "768/768 [==============================] - 0s 102us/sample - loss: 0.4352 - binary_accuracy: 0.7943\n",
            "Epoch 89/100\n",
            "768/768 [==============================] - 0s 105us/sample - loss: 0.4572 - binary_accuracy: 0.7773\n",
            "Epoch 90/100\n",
            "768/768 [==============================] - 0s 106us/sample - loss: 0.4460 - binary_accuracy: 0.7878\n",
            "Epoch 91/100\n",
            "768/768 [==============================] - 0s 115us/sample - loss: 0.4456 - binary_accuracy: 0.7904\n",
            "Epoch 92/100\n",
            "768/768 [==============================] - 0s 102us/sample - loss: 0.4468 - binary_accuracy: 0.7891\n",
            "Epoch 93/100\n",
            "768/768 [==============================] - 0s 113us/sample - loss: 0.4334 - binary_accuracy: 0.7930\n",
            "Epoch 94/100\n",
            "768/768 [==============================] - 0s 102us/sample - loss: 0.4483 - binary_accuracy: 0.7917\n",
            "Epoch 95/100\n",
            "768/768 [==============================] - 0s 107us/sample - loss: 0.4400 - binary_accuracy: 0.8008\n",
            "Epoch 96/100\n",
            "768/768 [==============================] - 0s 100us/sample - loss: 0.4446 - binary_accuracy: 0.7982\n",
            "Epoch 97/100\n",
            "768/768 [==============================] - 0s 104us/sample - loss: 0.4469 - binary_accuracy: 0.7760\n",
            "Epoch 98/100\n",
            "768/768 [==============================] - 0s 104us/sample - loss: 0.4402 - binary_accuracy: 0.7904\n",
            "Epoch 99/100\n",
            "768/768 [==============================] - 0s 124us/sample - loss: 0.4383 - binary_accuracy: 0.7943\n",
            "Epoch 100/100\n",
            "768/768 [==============================] - 0s 103us/sample - loss: 0.4403 - binary_accuracy: 0.7852\n"
          ],
          "name": "stdout"
        }
      ]
    },
    {
      "cell_type": "code",
      "metadata": {
        "id": "tTabQuF4Q3RP",
        "colab_type": "code",
        "colab": {}
      },
      "source": [
        "#The classification accuracy is 80% by epoch 95. "
      ],
      "execution_count": 0,
      "outputs": []
    },
    {
      "cell_type": "code",
      "metadata": {
        "id": "4fZsOTHEQ3RS",
        "colab_type": "code",
        "colab": {},
        "outputId": "147104f1-b349-431d-95dc-4f38239bcf8b"
      },
      "source": [
        "# Plot training & validation accuracy values\n",
        "import matplotlib.pyplot as plt\n",
        "\n",
        "plt.plot(history.history['binary_accuracy'])\n",
        "plt.title('Model accuracy')\n",
        "plt.ylabel('Accuracy')\n",
        "plt.xlabel('Epoch')\n",
        "plt.legend(['Train'], loc='upper left')\n",
        "plt.show()\n",
        "\n",
        "# Plot training & validation loss values\n",
        "plt.plot(history.history['loss'])\n",
        "plt.title('Model loss')\n",
        "plt.ylabel('Loss')\n",
        "plt.xlabel('Epoch')\n",
        "plt.legend(['Train'], loc='upper left')\n",
        "plt.show()"
      ],
      "execution_count": 0,
      "outputs": [
        {
          "output_type": "display_data",
          "data": {
            "image/png": "[encoded data removed]",
            "text/plain": [
              "<Figure size 432x288 with 1 Axes>"
            ]
          },
          "metadata": {
            "tags": [],
            "needs_background": "light"
          }
        },
        {
          "output_type": "display_data",
          "data": {
            "image/png": "[encoded data removed]",
            "text/plain": [
              "<Figure size 432x288 with 1 Axes>"
            ]
          },
          "metadata": {
            "tags": [],
            "needs_background": "light"
          }
        }
      ]
    },
    {
      "cell_type": "markdown",
      "metadata": {
        "colab_type": "text",
        "id": "6QR4oAW1xdyu"
      },
      "source": [
        "## Stretch Goals:\n",
        "\n",
        "- Research \"backpropagation\" to learn how weights get updated in neural networks (tomorrow's lecture). \n",
        "- Implement a multi-layer perceptron. (for non-linearly separable classes)\n",
        "- Try and implement your own backpropagation algorithm.\n",
        "- What are the pros and cons of the different activation functions? How should you decide between them for the different layers of a neural network?"
      ]
    }
  ]
}